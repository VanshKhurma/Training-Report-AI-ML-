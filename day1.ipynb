{
 "cells": [
  {
   "cell_type": "code",
   "execution_count": null,
   "id": "756d7bfe-1cf5-4c6f-9887-47fe6e64bcf4",
   "metadata": {},
   "outputs": [],
   "source": [
    "Day 1:"
   ]
  },
  {
   "cell_type": "code",
   "execution_count": 61,
   "id": "6a55aeb1-ca5d-4d2d-8d18-f1835c984a4b",
   "metadata": {},
   "outputs": [
    {
     "name": "stdout",
     "output_type": "stream",
     "text": [
      "hello\n"
     ]
    }
   ],
   "source": [
    "print(\"hello\")"
   ]
  },
  {
   "cell_type": "code",
   "execution_count": 62,
   "id": "2741aa34-d715-4abe-afd3-a817f7c3e921",
   "metadata": {},
   "outputs": [
    {
     "name": "stdout",
     "output_type": "stream",
     "text": [
      "nothing\n",
      "hello world\n"
     ]
    }
   ],
   "source": [
    "if 7>10:\n",
    "    print(\"hello\") \n",
    "else:\n",
    "    print(\"nothing\")\n",
    "print(\"hello world\")"
   ]
  },
  {
   "cell_type": "code",
   "execution_count": null,
   "id": "38f00646-5891-4fdd-b1ec-13ca2db5a109",
   "metadata": {},
   "outputs": [],
   "source": []
  },
  {
   "cell_type": "code",
   "execution_count": 63,
   "id": "4bd0d950-38e7-4de2-bd28-5b41db7a5436",
   "metadata": {},
   "outputs": [],
   "source": [
    "def g(x):\n",
    "    def h():\n",
    "        x = 'abcd'\n",
    "        "
   ]
  },
  {
   "cell_type": "code",
   "execution_count": 64,
   "id": "d278dae3-2d9c-4d21-aad9-2d3c0a3adac3",
   "metadata": {},
   "outputs": [
    {
     "name": "stdout",
     "output_type": "stream",
     "text": [
      "25\n"
     ]
    }
   ],
   "source": [
    "def find_max(x,y,z): \n",
    "    if x>=y and x>=z:\n",
    "        return x\n",
    "    elif y>=x and y>=z:\n",
    "        return y\n",
    "    else:\n",
    "        return z\n",
    "        \n",
    "print(find_max(10,25,5))"
   ]
  },
  {
   "cell_type": "code",
   "execution_count": 65,
   "id": "8d5156b6-0c73-4380-98a7-f5ab868c721a",
   "metadata": {},
   "outputs": [
    {
     "name": "stdout",
     "output_type": "stream",
     "text": [
      "20\n"
     ]
    }
   ],
   "source": [
    "def sum_list(n):\n",
    "    total=0\n",
    "    for num in n:\n",
    "        total = total+num\n",
    "    return total\n",
    "\n",
    "print(sum_list([8,2,3,0,7]))"
   ]
  },
  {
   "cell_type": "code",
   "execution_count": 66,
   "id": "d41abc1a-788a-4cc3-b9f3-c3ced03219b4",
   "metadata": {},
   "outputs": [
    {
     "name": "stdout",
     "output_type": "stream",
     "text": [
      "-336\n"
     ]
    }
   ],
   "source": [
    "def mul_list(n):\n",
    "    prod=1\n",
    "    for num in n:\n",
    "        prod = prod*num\n",
    "    return prod\n",
    "\n",
    "print(mul_list([8,2,3,-1,7]))"
   ]
  },
  {
   "cell_type": "code",
   "execution_count": 67,
   "id": "1f70daeb-d347-4be5-963a-814ffe764629",
   "metadata": {},
   "outputs": [],
   "source": [
    "def reverse_string(s):\n",
    "    return s[::-1]"
   ]
  },
  {
   "cell_type": "code",
   "execution_count": 68,
   "id": "bdd496d8-87d8-4e2a-a27d-ce5e1d3a29aa",
   "metadata": {},
   "outputs": [
    {
     "name": "stdout",
     "output_type": "stream",
     "text": [
      "24\n"
     ]
    }
   ],
   "source": [
    "def mul(a,b,c,d):\n",
    "    print(a*b*c*d)\n",
    "\n",
    "mul(1,2,3,4)"
   ]
  },
  {
   "cell_type": "code",
   "execution_count": 69,
   "id": "6a060a6e-d15b-4adb-a312-a41c7a4efdb1",
   "metadata": {},
   "outputs": [
    {
     "name": "stdout",
     "output_type": "stream",
     "text": [
      "120\n"
     ]
    }
   ],
   "source": [
    "def factorial(n):\n",
    "    result=1\n",
    "    for i in range(1,n+1):\n",
    "        result*=i\n",
    "    return result\n",
    "\n",
    "print(factorial(5))"
   ]
  },
  {
   "cell_type": "code",
   "execution_count": 70,
   "id": "4d49d598-5cd1-4bd6-ae47-ea2b9e6dcda4",
   "metadata": {},
   "outputs": [
    {
     "name": "stdout",
     "output_type": "stream",
     "text": [
      "the value of A is 1 and that of a is 2\n",
      "the value of A is  1 \n"
     ]
    }
   ],
   "source": [
    "A=1\n",
    "a=2\n",
    "\n",
    "print(f\"the value of A is {A} and that of a is {a}\")\n",
    "print(\"the value of A is \" ,A , \"\")"
   ]
  },
  {
   "cell_type": "code",
   "execution_count": 72,
   "id": "417ad364-931c-4f9a-a33b-d3186e40233b",
   "metadata": {},
   "outputs": [],
   "source": [
    "n=4\n",
    "board=[[0 for i in range(n)] for i in range(n)]\n"
   ]
  },
  {
   "cell_type": "code",
   "execution_count": 73,
   "id": "5fde9938-3517-4513-aea7-caa74a30a8f3",
   "metadata": {},
   "outputs": [
    {
     "name": "stdout",
     "output_type": "stream",
     "text": [
      "[0, 0, 0, 0]\n",
      "[0, 0, 0, 0]\n",
      "[0, 0, 0, 0]\n",
      "[0, 0, 0, 0]\n"
     ]
    }
   ],
   "source": [
    "for row in board:\n",
    "    print(row)"
   ]
  },
  {
   "cell_type": "code",
   "execution_count": 74,
   "id": "651c3510-2b3b-4ce7-97ac-7030198fe2ee",
   "metadata": {},
   "outputs": [],
   "source": [
    "def check_column(board,row,col):\n",
    "    for i in range(row,-1,-1):\n",
    "        if board[i][col]==1:\n",
    "            return False\n",
    "    return True"
   ]
  },
  {
   "cell_type": "code",
   "execution_count": 75,
   "id": "dbc9098b-bbc5-4e6d-a51e-1489a1ba7180",
   "metadata": {},
   "outputs": [],
   "source": [
    "def check_diagonal(board,row,col):\n",
    "    for i,j in zip(range(row,-1,-1),range(col,-1,-1)):\n",
    "        if board[i][j]==1:\n",
    "            return False\n",
    "    for i, j in zip(range(row,-1,-1),range(col,n,1)):\n",
    "        if board[i][j]==1:\n",
    "            return False\n",
    "\n",
    "    return True"
   ]
  },
  {
   "cell_type": "code",
   "execution_count": 76,
   "id": "51a7cdc9-e9ad-41dc-9f96-add6d1785495",
   "metadata": {},
   "outputs": [
    {
     "name": "stdout",
     "output_type": "stream",
     "text": [
      "[0, 1, 0, 0]\n",
      "[0, 0, 0, 1]\n",
      "[1, 0, 0, 0]\n",
      "[0, 0, 1, 0]\n"
     ]
    }
   ],
   "source": [
    "def nqn(board,row):\n",
    "    if row==n:\n",
    "        return True\n",
    "    for i in range(n):\n",
    "        if (check_column(board,row,i)==True and check_diagonal(board,row,i)==True):\n",
    "            board[row][i]=1\n",
    "            if nqn(board,row+1):\n",
    "                return True\n",
    "            board[row][i]=0\n",
    "    return False\n",
    "\n",
    "nqn(board,0)\n",
    "for row in board:\n",
    "    print(row)"
   ]
  },
  {
   "cell_type": "code",
   "execution_count": null,
   "id": "0ec65262-2226-42cb-9057-8fda2f8232eb",
   "metadata": {},
   "outputs": [],
   "source": []
  }
 ],
 "metadata": {
  "kernelspec": {
   "display_name": "Python [conda env:base] *",
   "language": "python",
   "name": "conda-base-py"
  },
  "language_info": {
   "codemirror_mode": {
    "name": "ipython",
    "version": 3
   },
   "file_extension": ".py",
   "mimetype": "text/x-python",
   "name": "python",
   "nbconvert_exporter": "python",
   "pygments_lexer": "ipython3",
   "version": "3.12.7"
  }
 },
 "nbformat": 4,
 "nbformat_minor": 5
}
