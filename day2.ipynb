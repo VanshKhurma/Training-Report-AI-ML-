{
 "cells": [
  {
   "cell_type": "markdown",
   "id": "09f636cf-7e4d-4abc-a95c-8f8fa3c4afd4",
   "metadata": {},
   "source": [
    "<b>Print Function</b>\n",
    "Used to print stuff and it is super easy to use"
   ]
  },
  {
   "cell_type": "code",
   "execution_count": null,
   "id": "96636820-1dd6-40d7-aa0b-06dcf01a62e0",
   "metadata": {},
   "outputs": [],
   "source": [
    "Day-2"
   ]
  },
  {
   "cell_type": "code",
   "execution_count": 8,
   "id": "89f60a6c-20e8-4023-8458-4a6e5d9104c2",
   "metadata": {},
   "outputs": [
    {
     "name": "stdout",
     "output_type": "stream",
     "text": [
      "hello world\n",
      "85\n",
      "True\n",
      "6.5\n",
      "hello world\n",
      "\n",
      "hello\n",
      "\n",
      "world\n",
      "\n",
      "\n"
     ]
    }
   ],
   "source": [
    "print(\"hello world\")\n",
    "print(9+76)\n",
    "print(True)\n",
    "print(6.5)\n",
    "print('hello world')\n",
    "print(\"\"\"\n",
    "hello\n",
    "\n",
    "world\n",
    "\n",
    "\"\"\")\n",
    "\n"
   ]
  },
  {
   "cell_type": "code",
   "execution_count": 1,
   "id": "73f236d2-0a66-4fb1-b106-45c920e36a50",
   "metadata": {},
   "outputs": [
    {
     "name": "stdin",
     "output_type": "stream",
     "text": [
      "enter a number 1234\n"
     ]
    },
    {
     "data": {
      "text/plain": [
       "'1234'"
      ]
     },
     "execution_count": 1,
     "metadata": {},
     "output_type": "execute_result"
    }
   ],
   "source": [
    "input(\"enter a number\")"
   ]
  },
  {
   "cell_type": "code",
   "execution_count": 18,
   "id": "aec6f37d-1b50-44c9-be4a-10e6703c26d3",
   "metadata": {},
   "outputs": [],
   "source": [
    "_num = \"hello\""
   ]
  },
  {
   "cell_type": "code",
   "execution_count": 21,
   "id": "96efefce-9a40-49d4-93d1-6f8a2337f883",
   "metadata": {},
   "outputs": [],
   "source": [
    "num=9"
   ]
  },
  {
   "cell_type": "code",
   "execution_count": 22,
   "id": "a1b56606-4d1d-4d0c-9e0f-739221a16245",
   "metadata": {},
   "outputs": [],
   "source": [
    "Num=5"
   ]
  },
  {
   "cell_type": "code",
   "execution_count": 25,
   "id": "eec3679c-c605-42f2-8b7a-059a26ec6f7a",
   "metadata": {},
   "outputs": [],
   "source": [
    "num=\"string\""
   ]
  },
  {
   "cell_type": "code",
   "execution_count": 27,
   "id": "468e94af-edda-4dfd-96ce-f2bf2607c195",
   "metadata": {},
   "outputs": [],
   "source": [
    "num=True"
   ]
  },
  {
   "cell_type": "code",
   "execution_count": 28,
   "id": "7752e07b-dae5-4c27-9ad6-4fa4c4628b60",
   "metadata": {},
   "outputs": [
    {
     "data": {
      "text/plain": [
       "True"
      ]
     },
     "execution_count": 28,
     "metadata": {},
     "output_type": "execute_result"
    }
   ],
   "source": [
    "num"
   ]
  },
  {
   "cell_type": "code",
   "execution_count": 16,
   "id": "9490b8fb-1cba-4edc-89a3-57673b58e00f",
   "metadata": {},
   "outputs": [],
   "source": [
    "_a=\"hello\""
   ]
  },
  {
   "cell_type": "code",
   "execution_count": 6,
   "id": "75dcb959-7a36-4145-85e7-538968fd4c9e",
   "metadata": {},
   "outputs": [
    {
     "name": "stdout",
     "output_type": "stream",
     "text": [
      "88\n"
     ]
    }
   ],
   "source": [
    "print(\"8\"+\"8\")"
   ]
  },
  {
   "cell_type": "code",
   "execution_count": 13,
   "id": "3c196dc9-7b7d-4a52-bbb0-561f76701836",
   "metadata": {},
   "outputs": [
    {
     "name": "stdout",
     "output_type": "stream",
     "text": [
      "Hello World\n",
      "8\n",
      "13\n",
      "this is another way to print 13\n",
      "this is another way to print 8+5\n"
     ]
    }
   ],
   "source": [
    "print(\"Hello World\")\n",
    "print(8)\n",
    "print(8+5)\n",
    "print(f\"this is another way to print {8+5}\")\n",
    "print(\"this is another way to print 8+5\")\n"
   ]
  },
  {
   "cell_type": "markdown",
   "id": "8c967cfe-0905-4554-b3ee-3a040061c1b7",
   "metadata": {},
   "source": [
    "<b>Comments</b>\n",
    "comments are the part of code which are not executed however they are there to provide information or keep notes for the specific part of code"
   ]
  },
  {
   "cell_type": "code",
   "execution_count": 6,
   "id": "3cce01fe-305e-4c44-b0ba-b3046734b10a",
   "metadata": {},
   "outputs": [],
   "source": [
    "#this is a comment"
   ]
  },
  {
   "cell_type": "markdown",
   "id": "8194a86e-660e-47cd-a169-ab86f5862e0f",
   "metadata": {},
   "source": [
    "<b>Variables</b>\n",
    "<ul><li>Python is case sensitive Programming language</li></ul>\n",
    "<div>Variables are containers for future use </div>\n",
    "when we need to store a value for future use we use variable.<br>\n",
    "\n",
    "<br>\n",
    "<b>Dynamic Typing</b>\n",
    "<div>we do not need to declare the datatype of the variable when decleraing a variable . Python is smart enough to recogonize the data type itself</div>\n",
    "<b>Dynamic Binding</b>\n",
    "<div>In Python a variable can change data types when reassigned a new value </div>\n",
    "\n"
   ]
  },
  {
   "cell_type": "code",
   "execution_count": 14,
   "id": "ee5cec21-4973-4795-96b9-242b89b9d4c5",
   "metadata": {},
   "outputs": [
    {
     "name": "stdout",
     "output_type": "stream",
     "text": [
      "shivam\n",
      "kumar\n",
      "3\n",
      "4\n",
      "shivamkumar34\n"
     ]
    }
   ],
   "source": [
    "Name='shivam'\n",
    "_number=4\n",
    "name=3\n",
    "Number='kumar'\n",
    "\n",
    "print(f\"{Name}\\n{Number}\\n{name}\\n{_number}\")\n",
    "print(f\"{Name}{Number}{name}{_number}\")"
   ]
  },
  {
   "cell_type": "code",
   "execution_count": 58,
   "id": "1f309a3e-11fd-4f3a-8127-ef0ef0e85324",
   "metadata": {},
   "outputs": [],
   "source": [
    "_=\"string\""
   ]
  },
  {
   "cell_type": "code",
   "execution_count": 59,
   "id": "814e53d5-bbd2-419e-9d2c-68614ca4012c",
   "metadata": {},
   "outputs": [
    {
     "data": {
      "text/plain": [
       "'string'"
      ]
     },
     "execution_count": 59,
     "metadata": {},
     "output_type": "execute_result"
    }
   ],
   "source": [
    "_"
   ]
  },
  {
   "cell_type": "code",
   "execution_count": 60,
   "id": "e7f48566-8f75-4b34-b5f1-3b3500520f47",
   "metadata": {},
   "outputs": [],
   "source": [
    "a=\"string\""
   ]
  },
  {
   "cell_type": "code",
   "execution_count": 61,
   "id": "4134a2ad-60d2-4c04-8f37-9d3f4ffb222f",
   "metadata": {},
   "outputs": [
    {
     "data": {
      "text/plain": [
       "'string'"
      ]
     },
     "execution_count": 61,
     "metadata": {},
     "output_type": "execute_result"
    }
   ],
   "source": [
    "a"
   ]
  },
  {
   "cell_type": "code",
   "execution_count": 18,
   "id": "4b7172b7-0fd8-4bb1-9bb4-6c9ce2ccc532",
   "metadata": {},
   "outputs": [
    {
     "name": "stdout",
     "output_type": "stream",
     "text": [
      "shivam\n",
      "13\n"
     ]
    }
   ],
   "source": [
    "print(Name)\n",
    "Name=13\n",
    "print(Name)"
   ]
  },
  {
   "cell_type": "code",
   "execution_count": 66,
   "id": "f4bbbd34-955a-4612-98f8-c5bdb270e2b3",
   "metadata": {},
   "outputs": [],
   "source": [
    "D=121\n",
    "d=\"\"\"fghjk @#@# !12334\"\"\""
   ]
  },
  {
   "cell_type": "code",
   "execution_count": 8,
   "id": "c1f376ed-95cb-419c-bc90-ea248af9a85a",
   "metadata": {},
   "outputs": [],
   "source": [
    "age=\"shivam\""
   ]
  },
  {
   "cell_type": "code",
   "execution_count": 9,
   "id": "1bbbe83e-eedc-4cd0-a0ac-0664e41ceb6b",
   "metadata": {},
   "outputs": [
    {
     "data": {
      "text/plain": [
       "40"
      ]
     },
     "execution_count": 9,
     "metadata": {},
     "output_type": "execute_result"
    }
   ],
   "source": [
    "age=25\n",
    "age + 15"
   ]
  },
  {
   "cell_type": "code",
   "execution_count": 81,
   "id": "5b2c5469-e98d-4977-952d-7efd4c1935ad",
   "metadata": {},
   "outputs": [
    {
     "data": {
      "text/plain": [
       "2025"
      ]
     },
     "execution_count": 81,
     "metadata": {},
     "output_type": "execute_result"
    }
   ],
   "source": [
    "45*45"
   ]
  },
  {
   "cell_type": "code",
   "execution_count": 84,
   "id": "a2fe16c6-662f-49ec-9833-3969f0bdfbee",
   "metadata": {},
   "outputs": [
    {
     "data": {
      "text/plain": [
       "int"
      ]
     },
     "execution_count": 84,
     "metadata": {},
     "output_type": "execute_result"
    }
   ],
   "source": [
    "type(age)"
   ]
  },
  {
   "cell_type": "code",
   "execution_count": 83,
   "id": "dd583524-ccd7-4644-be67-18a4798fbb98",
   "metadata": {},
   "outputs": [
    {
     "name": "stdin",
     "output_type": "stream",
     "text": [
      "enter your age 35\n"
     ]
    }
   ],
   "source": [
    "age=int(input(\"enter your age\"))"
   ]
  },
  {
   "cell_type": "markdown",
   "id": "99dba0e4-bd2f-4f60-b112-347a058a011b",
   "metadata": {},
   "source": [
    "<b>Special Variable Decleration Syntax</b>"
   ]
  },
  {
   "cell_type": "code",
   "execution_count": 87,
   "id": "eee800b9-1f57-47fd-a335-9280abea7821",
   "metadata": {},
   "outputs": [
    {
     "name": "stdout",
     "output_type": "stream",
     "text": [
      "5\n",
      "name\n",
      "7\n"
     ]
    }
   ],
   "source": [
    "a=5;b=\"name\";c=7\n",
    "print(a)\n",
    "print(b)\n",
    "print(c)"
   ]
  },
  {
   "cell_type": "code",
   "execution_count": 88,
   "id": "600e622c-4cee-4e2f-8f00-0175ad886d83",
   "metadata": {},
   "outputs": [
    {
     "name": "stdout",
     "output_type": "stream",
     "text": [
      "5\n",
      "6\n",
      "7\n"
     ]
    }
   ],
   "source": [
    "a,b,c=5,6,7\n",
    "\n",
    "print(a)\n",
    "print(b)\n",
    "print(c)"
   ]
  },
  {
   "cell_type": "code",
   "execution_count": 89,
   "id": "efc0ca3b-3bdf-4606-a002-e183f955bec9",
   "metadata": {},
   "outputs": [
    {
     "name": "stdout",
     "output_type": "stream",
     "text": [
      "6\n",
      "6\n",
      "6\n"
     ]
    }
   ],
   "source": [
    "a=b=c=6\n",
    "\n",
    "print(a)\n",
    "print(b)\n",
    "print(c)"
   ]
  },
  {
   "cell_type": "markdown",
   "id": "242b9cd5-ffb6-4d97-94f5-ac6df19e829a",
   "metadata": {},
   "source": [
    "<b>Keywords</b>\n",
    "\n",
    "<div>In Programming a keyword is a word that is reserverd by a program because the word has a special meaning. Keywords can be commands or parameters. Every Programming language has a set of keywords that cannot be used as a variable name\n",
    "</div>"
   ]
  },
  {
   "cell_type": "code",
   "execution_count": 9,
   "id": "41e37dd6-b63e-41a2-a2aa-05a7b50542a2",
   "metadata": {},
   "outputs": [
    {
     "name": "stdout",
     "output_type": "stream",
     "text": [
      "['False', 'None', 'True', 'and', 'as', 'assert', 'async', 'await', 'break', 'class', 'continue', 'def', 'del', 'elif', 'else', 'except', 'finally', 'for', 'from', 'global', 'if', 'import', 'in', 'is', 'lambda', 'nonlocal', 'not', 'or', 'pass', 'raise', 'return', 'try', 'while', 'with', 'yield']\n"
     ]
    }
   ],
   "source": [
    "#Python has 33 keywords\n",
    "import keyword\n",
    "print(keyword.kwlist)"
   ]
  },
  {
   "cell_type": "markdown",
   "id": "664666c8-908e-494b-89c9-9689e75b9572",
   "metadata": {},
   "source": [
    "<b>Identifiers</b>\n",
    "A python identifier is a name used to identify a variable,function,class,module or any other object.\n",
    "\n",
    "<div><b>Some Rules to keep in mind for setting identifiers.</b>\n",
    "    <ul><li>Must Start with a Letter or an Underscore (_)</li>\n",
    "        <li>Followed by 0 or more letters, _ and digits</li>\n",
    "        <li> Keywords Cannot Be Used as identifier Names</li>\n",
    "    </ul>\n",
    "</div>\n",
    "\n",
    "<b></b>"
   ]
  },
  {
   "cell_type": "markdown",
   "id": "9a0f65d2-dfd5-44cc-a485-e1c3187f3546",
   "metadata": {},
   "source": [
    "<b>Dynamic SOftwares vs Static softwares</b>\n",
    "<div>\n",
    "    A static software is a software where the user does not provide any input. However in a dynamic software the user provides a input to the software seeking for an output back. This functionality is provided by python so that users can interact with the software. \n",
    "</div>\n",
    "<b>input()</b> function is used to send input from the users end"
   ]
  },
  {
   "cell_type": "code",
   "execution_count": 43,
   "id": "8f62741f-f4a6-4dd3-aa2c-513c6b6a6970",
   "metadata": {},
   "outputs": [
    {
     "name": "stdin",
     "output_type": "stream",
     "text": [
      "enter your name 2500\n"
     ]
    }
   ],
   "source": [
    "a=input(\"enter your name\")"
   ]
  },
  {
   "cell_type": "code",
   "execution_count": 44,
   "id": "4fc474e7-ec44-42a2-96b2-d73dc4b92849",
   "metadata": {},
   "outputs": [
    {
     "data": {
      "text/plain": [
       "2600"
      ]
     },
     "execution_count": 44,
     "metadata": {},
     "output_type": "execute_result"
    }
   ],
   "source": [
    "int(a) + 100"
   ]
  },
  {
   "cell_type": "code",
   "execution_count": 50,
   "id": "4ef5be39-c8aa-4540-a274-eed50cf2d40b",
   "metadata": {},
   "outputs": [],
   "source": [
    "a=str(0)"
   ]
  },
  {
   "cell_type": "code",
   "execution_count": 51,
   "id": "1456c134-a4e2-4cee-a1bb-7880f66f6491",
   "metadata": {},
   "outputs": [
    {
     "data": {
      "text/plain": [
       "str"
      ]
     },
     "execution_count": 51,
     "metadata": {},
     "output_type": "execute_result"
    }
   ],
   "source": [
    "type(a)"
   ]
  },
  {
   "cell_type": "code",
   "execution_count": 27,
   "id": "99fb99d5-30ba-487f-97fd-c2f566b3f3af",
   "metadata": {},
   "outputs": [
    {
     "data": {
      "text/plain": [
       "188"
      ]
     },
     "execution_count": 27,
     "metadata": {},
     "output_type": "execute_result"
    }
   ],
   "source": [
    "b+65"
   ]
  },
  {
   "cell_type": "code",
   "execution_count": 7,
   "id": "4dc1aedd-e540-448c-afbd-85083e113529",
   "metadata": {},
   "outputs": [
    {
     "name": "stdout",
     "output_type": "stream",
     "text": [
      " shivam\n"
     ]
    }
   ],
   "source": [
    "print(a)"
   ]
  },
  {
   "cell_type": "code",
   "execution_count": 91,
   "id": "3b4b0bcf-edfe-4a8e-bee6-be652f5eaec9",
   "metadata": {},
   "outputs": [
    {
     "name": "stdin",
     "output_type": "stream",
     "text": [
      "enter your first number 55\n",
      "enter your second number 55\n"
     ]
    },
    {
     "name": "stdout",
     "output_type": "stream",
     "text": [
      "5555\n"
     ]
    }
   ],
   "source": [
    "first_num=input(\"enter your first number\")\n",
    "second_num=input(\"enter your second number\")\n",
    "\n",
    "print(first_num+second_num)"
   ]
  },
  {
   "cell_type": "code",
   "execution_count": 92,
   "id": "52abdb36-aef2-4ce7-903b-3dc3e05281c4",
   "metadata": {},
   "outputs": [
    {
     "name": "stdin",
     "output_type": "stream",
     "text": [
      "enter your first number 55\n",
      "enter your second number 55\n"
     ]
    },
    {
     "name": "stdout",
     "output_type": "stream",
     "text": [
      "110\n"
     ]
    }
   ],
   "source": [
    "first_num= int(input(\"enter your first number\"))\n",
    "second_num=int(input(\"enter your second number\"))\n",
    "\n",
    "print(first_num+second_num)"
   ]
  },
  {
   "cell_type": "markdown",
   "id": "4eea2844-adae-4f8b-b36f-570d85a6211d",
   "metadata": {},
   "source": [
    "<b>Length Function</b>\n",
    "Used to see how many characters are there in a certain string"
   ]
  },
  {
   "cell_type": "code",
   "execution_count": 98,
   "id": "e6154f4b-0dab-4866-85dd-342193a97ac0",
   "metadata": {},
   "outputs": [
    {
     "name": "stdin",
     "output_type": "stream",
     "text": [
      "please enter your name dfghj\n"
     ]
    },
    {
     "name": "stdout",
     "output_type": "stream",
     "text": [
      "dfghj\n"
     ]
    }
   ],
   "source": [
    "User_Input=input(\"please enter your name\")\n",
    "print(User_Input)\n"
   ]
  },
  {
   "cell_type": "code",
   "execution_count": 96,
   "id": "b68b0147-a209-446f-8401-b67aa01332f6",
   "metadata": {},
   "outputs": [
    {
     "name": "stdout",
     "output_type": "stream",
     "text": [
      "36\n"
     ]
    }
   ],
   "source": [
    "length=len(User_Input)\n",
    "print(length)"
   ]
  },
  {
   "cell_type": "markdown",
   "id": "af8e3e54-49c2-41ed-a490-d80c01e7877d",
   "metadata": {},
   "source": [
    "<b> subscripting </b>\n",
    "Accesing a specific letter from a string or a data structure"
   ]
  },
  {
   "cell_type": "code",
   "execution_count": 24,
   "id": "2777b66f-8b40-4f4b-b6a9-3fdd6ad84547",
   "metadata": {},
   "outputs": [
    {
     "name": "stdout",
     "output_type": "stream",
     "text": [
      "v,a\n"
     ]
    }
   ],
   "source": [
    "print(f\"{User_Input[3]},{User_Input[-2]}\")"
   ]
  },
  {
   "cell_type": "code",
   "execution_count": null,
   "id": "4c97d225-d47d-4482-b579-fce64587bc59",
   "metadata": {},
   "outputs": [],
   "source": []
  },
  {
   "cell_type": "code",
   "execution_count": 2,
   "id": "53d2e80e-92b4-4009-b77c-08616bf82822",
   "metadata": {},
   "outputs": [],
   "source": [
    "a=\"Hello World\""
   ]
  },
  {
   "cell_type": "code",
   "execution_count": 7,
   "id": "200f6fec-c2cc-48e5-b49a-e34938752e42",
   "metadata": {},
   "outputs": [],
   "source": [
    "a=\"Name\""
   ]
  },
  {
   "cell_type": "code",
   "execution_count": 11,
   "id": "85a496ff-024e-4d86-8b85-c797337635c1",
   "metadata": {},
   "outputs": [
    {
     "data": {
      "text/plain": [
       "'Name'"
      ]
     },
     "execution_count": 11,
     "metadata": {},
     "output_type": "execute_result"
    }
   ],
   "source": []
  },
  {
   "cell_type": "code",
   "execution_count": null,
   "id": "1cc4d894-8040-4023-a816-dde477010d66",
   "metadata": {},
   "outputs": [],
   "source": []
  },
  {
   "cell_type": "code",
   "execution_count": null,
   "id": "198242d5-ff55-4482-8be7-eafb3cfd0a5b",
   "metadata": {},
   "outputs": [],
   "source": []
  },
  {
   "cell_type": "markdown",
   "id": "bb560c29-a869-48ea-b162-18e0dcf03593",
   "metadata": {},
   "source": [
    "<b>DATA TYPES</b>\n",
    "we need data types so that we can understand what kind of data we are using. To avoid certain situations like the one below.\n",
    "In Python while decleraing a variable we do not need to specify any data types unlike some other programming languages. However when performing some kind of operation we need to specify the datatypes.\n"
   ]
  },
  {
   "cell_type": "code",
   "execution_count": null,
   "id": "d9d49d25-71ef-4152-9484-66c580b0e493",
   "metadata": {},
   "outputs": [],
   "source": [
    "a=\"fourteen\"+14\n",
    "print(a)"
   ]
  },
  {
   "cell_type": "markdown",
   "id": "5f598224-ef32-4c88-aa3c-c373e3ab58ab",
   "metadata": {},
   "source": [
    "<b>Types of datatypes</b>\n",
    "<div>a.) String - this is textutal data enclosed inside \"abc\" , 'abc'</div>\n",
    "<div>b.) Int(integer)- this numerical data and does not need to be specified.</div>\n",
    "<div>c.) float- This is used for decimal values.</div>\n",
    "<div>d.) complex- this is used for complex number representation. </div>\n",
    "<div>e.) Boolean- This is just a True or False value.</div>\n"
   ]
  },
  {
   "cell_type": "code",
   "execution_count": 40,
   "id": "fbc26a2f-32be-477e-9c33-c90ee3211380",
   "metadata": {},
   "outputs": [
    {
     "name": "stdout",
     "output_type": "stream",
     "text": [
      "<class 'str'>\n",
      "<class 'str'>\n",
      "<class 'int'>\n",
      "<class 'bool'>\n",
      "<class 'float'>\n",
      "<class 'complex'>\n"
     ]
    }
   ],
   "source": [
    "string=\"This is a string\"\n",
    "string1='This is also a string'\n",
    "string=\"\"\"\n",
    "this is python,\n",
    "this is aiml\n",
    "\"\"\"\n",
    "integer=345\n",
    "boolean=True\n",
    "float1=345.5\n",
    "comp=2+4j\n",
    "\n",
    "print(type(string))\n",
    "print(type(string1))\n",
    "\n",
    "print(type(integer))\n",
    "print(type(boolean))\n",
    "print(type(float1))\n",
    "print(type(comp))\n"
   ]
  },
  {
   "cell_type": "code",
   "execution_count": 27,
   "id": "efb34034-b997-4883-bd5e-bc5bb3fe2fc2",
   "metadata": {},
   "outputs": [
    {
     "name": "stdout",
     "output_type": "stream",
     "text": [
      "22\n"
     ]
    }
   ],
   "source": [
    "print(10+12)"
   ]
  },
  {
   "cell_type": "code",
   "execution_count": 41,
   "id": "d83afbe4-378b-4268-b1cc-ff5cd831a1d4",
   "metadata": {},
   "outputs": [
    {
     "name": "stdout",
     "output_type": "stream",
     "text": [
      "<class 'int'>\n",
      "<class 'tuple'>\n"
     ]
    }
   ],
   "source": [
    "b=123,456,789\n",
    "a=123_456_789\n",
    "print(type(a))\n",
    "print(type(b))"
   ]
  },
  {
   "cell_type": "code",
   "execution_count": null,
   "id": "462408ee-bb58-405e-97ba-2e057991ff79",
   "metadata": {},
   "outputs": [],
   "source": []
  },
  {
   "cell_type": "markdown",
   "id": "3c661012-a84f-4f6c-8451-3b7ada6a3cbc",
   "metadata": {},
   "source": [
    "<b>DataType Conversions</b>\n",
    "\n",
    "<div> Sometimes working with multiple datatypes may require us to change the datatype of certain variable that can be done using certain key words such as </div>\n",
    "<div>int() -- converts a datatype to integer</div>\n",
    "<div>str() -- converts a datatype to string</div>\n",
    "<div>bool() -- converts a datatype to a boolean </div>\n",
    "<div>float()-- converts a datatype to a float</div>\n"
   ]
  },
  {
   "cell_type": "code",
   "execution_count": 21,
   "id": "f73217e7-ffea-4ab9-9b5f-b164f017b90e",
   "metadata": {},
   "outputs": [
    {
     "name": "stdin",
     "output_type": "stream",
     "text": [
      "enter your name kumar\n"
     ]
    }
   ],
   "source": [
    "user_input=input(\"enter your name\")"
   ]
  },
  {
   "cell_type": "code",
   "execution_count": 22,
   "id": "ce2caace-ffa1-4b4f-bb0c-bb5b9a3762ea",
   "metadata": {},
   "outputs": [
    {
     "data": {
      "text/plain": [
       "int"
      ]
     },
     "execution_count": 22,
     "metadata": {},
     "output_type": "execute_result"
    }
   ],
   "source": [
    "length=len(user_input)\n",
    "type(length)"
   ]
  },
  {
   "cell_type": "code",
   "execution_count": 23,
   "id": "ff5be7e2-cd43-4fc9-8414-271d3ad1b7b5",
   "metadata": {},
   "outputs": [
    {
     "data": {
      "text/plain": [
       "'kumar'"
      ]
     },
     "execution_count": 23,
     "metadata": {},
     "output_type": "execute_result"
    }
   ],
   "source": [
    "user_input"
   ]
  },
  {
   "cell_type": "code",
   "execution_count": 26,
   "id": "cb07d398-4f73-408b-bf22-8d8768edb637",
   "metadata": {},
   "outputs": [
    {
     "name": "stdout",
     "output_type": "stream",
     "text": [
      "The Name you entered is kumar it has 5 characters\n"
     ]
    }
   ],
   "source": [
    "print(\"The Name you entered is \"+ user_input  +\" it has \" +str(length)+\" characters\")"
   ]
  },
  {
   "cell_type": "code",
   "execution_count": 58,
   "id": "f59b0b6c-016c-4443-a889-ed737f6414bc",
   "metadata": {},
   "outputs": [
    {
     "data": {
      "text/plain": [
       "28561"
      ]
     },
     "execution_count": 58,
     "metadata": {},
     "output_type": "execute_result"
    }
   ],
   "source": [
    "13**4"
   ]
  },
  {
   "cell_type": "code",
   "execution_count": null,
   "id": "3d277e11-7880-441b-b231-704215abd7a3",
   "metadata": {},
   "outputs": [],
   "source": []
  },
  {
   "cell_type": "code",
   "execution_count": null,
   "id": "20b1e588-0460-4005-9a53-cf2598aaca09",
   "metadata": {},
   "outputs": [],
   "source": []
  },
  {
   "cell_type": "markdown",
   "id": "a54475a6-4af0-4c20-8c22-24b1e7628ead",
   "metadata": {},
   "source": [
    "<b>Practice Programs</b>"
   ]
  },
  {
   "cell_type": "code",
   "execution_count": null,
   "id": "f4de5dec-0504-4157-9096-fb98af6a2cfa",
   "metadata": {},
   "outputs": [],
   "source": [
    "#make a new bmi calculator that tells if someone is overweight or not.\n",
    "# it needs to get data and tell them \"you're at a healthy weight\" or \"you're overweight\"\n",
    "# make sure the numbers are rounded!\n",
    "\n",
    "height = float(input(\"enter your height in m: \"))\n",
    "weight = float(input(\"enter your weight in kg: \"))\n"
   ]
  },
  {
   "cell_type": "code",
   "execution_count": 15,
   "id": "55fee266-14d2-4adc-a33a-fdc0b76a685c",
   "metadata": {},
   "outputs": [],
   "source": [
    "# create a restaurant tip calculator\n",
    "# ask for the total bill amount\n",
    "# ask for the tip percentage\n",
    "# ask for the number of the people the bill will be split between\n",
    "#per person amount?\n"
   ]
  },
  {
   "cell_type": "code",
   "execution_count": null,
   "id": "b1c1114c-3748-4118-80fe-0f2994980ee1",
   "metadata": {},
   "outputs": [],
   "source": [
    "age = input(\"What is your age? \")\n",
    "# create the \"Your life in weeks\" calculator\n",
    "# calculate how many years, months, weeks and days you have left\n",
    "# assuming you live until 90 years old\n"
   ]
  },
  {
   "cell_type": "code",
   "execution_count": 16,
   "id": "5dbc7152-00f5-46d9-abd4-be571cb55668",
   "metadata": {},
   "outputs": [],
   "source": [
    "# a normal year has 365 days, a leap year has 366 days.\n",
    "# here's how you find out if a year is a leap year or not\n",
    "# -------\n",
    "# The year in question should be evenly divisble by 4\n",
    "#   except every year that is evenly divisable by 100\n",
    "#     unless that year is also evenly divisible by 400\n"
   ]
  },
  {
   "cell_type": "code",
   "execution_count": null,
   "id": "58fd7330-f393-4fc7-a3f2-6a011bd81209",
   "metadata": {},
   "outputs": [],
   "source": [
    " show customers a final bill based on their choices.\n",
    "print(\"Welcome to our bakery!\")\n",
    "type = input(\"what size of cake do you want? S, M, L \")\n",
    "add_chocolate = input(\"do you want extra chocolate? Y, N \")\n",
    "add_candles = input(\"do you want to add candles? Y, N \")\n",
    "# Type prices: S = $10, M = $20, L = $25\n",
    "# chocolate addon price = $4\n",
    "# cancles addon price = $6\n"
   ]
  },
  {
   "cell_type": "code",
   "execution_count": null,
   "id": "600fe3a2-73e8-4aec-938a-7b5c90708893",
   "metadata": {},
   "outputs": [],
   "source": []
  },
  {
   "cell_type": "code",
   "execution_count": null,
   "id": "ff47c58f-8804-493a-b668-ad9439830352",
   "metadata": {},
   "outputs": [],
   "source": []
  },
  {
   "cell_type": "code",
   "execution_count": 5,
   "id": "632a8281-28b7-4aff-a3b6-685ddad207f2",
   "metadata": {},
   "outputs": [
    {
     "name": "stdin",
     "output_type": "stream",
     "text": [
      "enter your pin 1234\n"
     ]
    },
    {
     "name": "stdout",
     "output_type": "stream",
     "text": [
      "withdrawl \n",
      "ckeck Balance\n"
     ]
    },
    {
     "name": "stdin",
     "output_type": "stream",
     "text": [
      "please select one option withdrawl\n"
     ]
    },
    {
     "name": "stdout",
     "output_type": "stream",
     "text": [
      "you can withdraw money\n"
     ]
    }
   ],
   "source": [
    "#1234\n",
    "pin=int(input(\"enter your pin\"))\n",
    "\n",
    "if pin==1234:\n",
    "    print(\"withdrawl \\nckeck Balance\")\n",
    "    u=input(\"please select one option\")\n",
    "    if u==\"withdrawl\":\n",
    "        print('you can withdraw money')\n",
    "    elif u==\"ckeck Balance\":\n",
    "        print('you can check')\n",
    "        \n",
    "    \n",
    "else:\n",
    "    print(\"invalid\")"
   ]
  },
  {
   "cell_type": "code",
   "execution_count": null,
   "id": "c28dc47b-a0e1-485e-8c02-50fdfac97d42",
   "metadata": {},
   "outputs": [],
   "source": []
  },
  {
   "cell_type": "code",
   "execution_count": null,
   "id": "40c1802b-f088-46b7-a5b3-c4a91cebac03",
   "metadata": {},
   "outputs": [],
   "source": []
  },
  {
   "cell_type": "code",
   "execution_count": 13,
   "id": "32c4a489-2b56-47e6-ac15-f2a4c58fb982",
   "metadata": {},
   "outputs": [
    {
     "name": "stdout",
     "output_type": "stream",
     "text": [
      "['2000', '2002', '2004', '2006', '2008', '2020', '2022', '2024', '2026', '2028', '2040', '2042', '2044', '2046', '2048', '2060', '2062', '2064', '2066', '2068', '2080', '2082', '2084', '2086', '2088', '2200', '2202', '2204', '2206', '2208', '2220', '2222', '2224', '2226', '2228', '2240', '2242', '2244', '2246', '2248', '2260', '2262', '2264', '2266', '2268', '2280', '2282', '2284', '2286', '2288', '2400', '2402', '2404', '2406', '2408', '2420', '2422', '2424', '2426', '2428', '2440', '2442', '2444', '2446', '2448', '2460', '2462', '2464', '2466', '2468', '2480', '2482', '2484', '2486', '2488', '2600', '2602', '2604', '2606', '2608', '2620', '2622', '2624', '2626', '2628', '2640', '2642', '2644', '2646', '2648', '2660', '2662', '2664', '2666', '2668', '2680', '2682', '2684', '2686', '2688', '2800', '2802', '2804', '2806', '2808', '2820', '2822', '2824', '2826', '2828', '2840', '2842', '2844', '2846', '2848', '2860', '2862', '2864', '2866', '2868', '2880', '2882', '2884', '2886', '2888']\n"
     ]
    }
   ],
   "source": [
    "even_digit=[]\n",
    "for i in range(1000,3001):\n",
    "    num_str=str(i)\n",
    "    if all(int(j)%2==0 for j in num_str):\n",
    "        even_digit.append(num_str)\n",
    "print(even_digit)\n"
   ]
  },
  {
   "cell_type": "code",
   "execution_count": null,
   "id": "3348bca2-34be-4d00-ad50-7ea4dc5f0337",
   "metadata": {},
   "outputs": [],
   "source": []
  },
  {
   "cell_type": "code",
   "execution_count": null,
   "id": "d6fc016e-033f-412f-a1ba-2d7adfec2cab",
   "metadata": {},
   "outputs": [],
   "source": []
  },
  {
   "cell_type": "code",
   "execution_count": null,
   "id": "a7c25d71-7b68-4e22-9031-bf7d007a47ff",
   "metadata": {},
   "outputs": [],
   "source": []
  },
  {
   "cell_type": "code",
   "execution_count": null,
   "id": "d8a2ac29-b1cd-4249-a7c4-8047953246fe",
   "metadata": {},
   "outputs": [],
   "source": []
  }
 ],
 "metadata": {
  "kernelspec": {
   "display_name": "Python [conda env:base] *",
   "language": "python",
   "name": "conda-base-py"
  },
  "language_info": {
   "codemirror_mode": {
    "name": "ipython",
    "version": 3
   },
   "file_extension": ".py",
   "mimetype": "text/x-python",
   "name": "python",
   "nbconvert_exporter": "python",
   "pygments_lexer": "ipython3",
   "version": "3.12.7"
  }
 },
 "nbformat": 4,
 "nbformat_minor": 5
}
