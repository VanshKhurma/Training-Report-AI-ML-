{
 "cells": [
  {
   "cell_type": "code",
   "execution_count": 27,
   "id": "83b9624f-e769-4529-8379-c7130078ad63",
   "metadata": {},
   "outputs": [],
   "source": [
    "import numpy as np"
   ]
  },
  {
   "cell_type": "code",
   "execution_count": 28,
   "id": "55640ef5-b923-470e-96c2-b844a45282cb",
   "metadata": {},
   "outputs": [
    {
     "name": "stdout",
     "output_type": "stream",
     "text": [
      "[1 2 3 4 5]\n"
     ]
    },
    {
     "data": {
      "text/plain": [
       "5"
      ]
     },
     "execution_count": 28,
     "metadata": {},
     "output_type": "execute_result"
    }
   ],
   "source": [
    "a=np.array([1,2,3,4,5])\n",
    "print(a)\n",
    "np.max(a)"
   ]
  },
  {
   "cell_type": "code",
   "execution_count": 29,
   "id": "caae18d5-0104-4903-a41c-cf198fb38992",
   "metadata": {},
   "outputs": [
    {
     "data": {
      "text/plain": [
       "1"
      ]
     },
     "execution_count": 29,
     "metadata": {},
     "output_type": "execute_result"
    }
   ],
   "source": [
    "np.min(a)"
   ]
  },
  {
   "cell_type": "code",
   "execution_count": 30,
   "id": "cf133b67-0b4d-4661-81c7-96ab550aaabd",
   "metadata": {},
   "outputs": [
    {
     "data": {
      "text/plain": [
       "4"
      ]
     },
     "execution_count": 30,
     "metadata": {},
     "output_type": "execute_result"
    }
   ],
   "source": [
    "np.argmax(a)"
   ]
  },
  {
   "cell_type": "code",
   "execution_count": 31,
   "id": "5e1e7ee8-906e-45ea-95a0-9b6f515cae70",
   "metadata": {},
   "outputs": [
    {
     "data": {
      "text/plain": [
       "array([10, 20, 30, 40, 50, 60, 70, 80, 90])"
      ]
     },
     "execution_count": 31,
     "metadata": {},
     "output_type": "execute_result"
    }
   ],
   "source": [
    "a=np.array([10,20,30])\n",
    "np.append(a, [40,50,60,70,80,90])"
   ]
  },
  {
   "cell_type": "code",
   "execution_count": 34,
   "id": "dc312168-02b3-4fea-b400-d46d441683aa",
   "metadata": {},
   "outputs": [
    {
     "name": "stdout",
     "output_type": "stream",
     "text": [
      "[[1 0 0]\n",
      " [0 1 0]\n",
      " [0 0 1]]\n"
     ]
    }
   ],
   "source": [
    "a=np.identity(3, dtype=int)\n",
    "print(a)"
   ]
  },
  {
   "cell_type": "code",
   "execution_count": 62,
   "id": "1a8fd834-3480-4767-9e78-52271b8a645e",
   "metadata": {},
   "outputs": [
    {
     "name": "stdout",
     "output_type": "stream",
     "text": [
      "[[0 0 0 0]\n",
      " [0 0 0 0]\n",
      " [0 0 0 0]\n",
      " [0 0 0 0]]\n"
     ]
    }
   ],
   "source": [
    "a=np.zeros([4,4], dtype=int)\n",
    "print(a)\n"
   ]
  },
  {
   "cell_type": "code",
   "execution_count": 63,
   "id": "7222ba8d-50a8-46f1-bd70-a1bb53523daf",
   "metadata": {},
   "outputs": [],
   "source": [
    "a[0,0]=4"
   ]
  },
  {
   "cell_type": "code",
   "execution_count": 64,
   "id": "26e76f16-5249-4e62-9042-97eedade4120",
   "metadata": {},
   "outputs": [],
   "source": [
    "a[1,1]=5"
   ]
  },
  {
   "cell_type": "code",
   "execution_count": 67,
   "id": "5c990734-a849-4b5e-a819-f4618db7cc83",
   "metadata": {},
   "outputs": [],
   "source": [
    "a[2,2]=6"
   ]
  },
  {
   "cell_type": "code",
   "execution_count": 68,
   "id": "c6568f8a-0ea0-4d4e-9573-0d05a4c28231",
   "metadata": {},
   "outputs": [],
   "source": [
    "a[3,3]=8"
   ]
  },
  {
   "cell_type": "code",
   "execution_count": 69,
   "id": "dbf2d110-3ddd-4b1b-ba4a-09afb316d98e",
   "metadata": {},
   "outputs": [
    {
     "data": {
      "text/plain": [
       "array([[4, 0, 0, 0],\n",
       "       [0, 5, 0, 0],\n",
       "       [0, 0, 6, 0],\n",
       "       [0, 0, 0, 8]])"
      ]
     },
     "execution_count": 69,
     "metadata": {},
     "output_type": "execute_result"
    }
   ],
   "source": [
    "a"
   ]
  },
  {
   "cell_type": "code",
   "execution_count": 70,
   "id": "ca30a8fa-001d-4f9f-9df5-76b7653223eb",
   "metadata": {},
   "outputs": [],
   "source": [
    "a=np.identity(4, dtype=int)"
   ]
  },
  {
   "cell_type": "code",
   "execution_count": 71,
   "id": "ed8c5a2a-89fa-4b38-8c2b-27cdc597ef60",
   "metadata": {},
   "outputs": [],
   "source": [
    "b=np.array([4,5,6,8])"
   ]
  },
  {
   "cell_type": "code",
   "execution_count": 72,
   "id": "3a2be9a6-9773-4066-a107-76af3480c251",
   "metadata": {},
   "outputs": [
    {
     "data": {
      "text/plain": [
       "array([[4, 0, 0, 0],\n",
       "       [0, 5, 0, 0],\n",
       "       [0, 0, 6, 0],\n",
       "       [0, 0, 0, 8]])"
      ]
     },
     "execution_count": 72,
     "metadata": {},
     "output_type": "execute_result"
    }
   ],
   "source": [
    "a*b"
   ]
  },
  {
   "cell_type": "code",
   "execution_count": 73,
   "id": "71cead93-bf25-4e57-ac90-cdf816da59b8",
   "metadata": {},
   "outputs": [],
   "source": [
    "#formula\n",
    "#(arr[1]-arr(smallest element))/(arr(maximum element)-arr(minimum element))"
   ]
  },
  {
   "cell_type": "code",
   "execution_count": 97,
   "id": "8928f8a4-306b-455d-8c81-6ffed75517bf",
   "metadata": {},
   "outputs": [
    {
     "name": "stdout",
     "output_type": "stream",
     "text": [
      "[0.   0.25 0.5  0.75 1.  ]\n"
     ]
    }
   ],
   "source": [
    "a=np.array([1, 2, 3, 4, 5], dtype=int)\n",
    "b=(a - a.min()) / (a.max() - a.min())\n",
    "print(b)"
   ]
  },
  {
   "cell_type": "code",
   "execution_count": 94,
   "id": "0f9a0fb6-5236-4667-ac56-280b8eacfa2f",
   "metadata": {},
   "outputs": [
    {
     "data": {
      "text/plain": [
       "3.0"
      ]
     },
     "execution_count": 94,
     "metadata": {},
     "output_type": "execute_result"
    }
   ],
   "source": [
    "np.mean(a)"
   ]
  },
  {
   "cell_type": "code",
   "execution_count": 79,
   "id": "c398a5e9-634d-430c-87a0-c13208918733",
   "metadata": {},
   "outputs": [],
   "source": [
    "a[-1]=np.mean(a)"
   ]
  },
  {
   "cell_type": "code",
   "execution_count": 80,
   "id": "19022a3a-cb13-4e3c-b0ab-17d7815daf73",
   "metadata": {},
   "outputs": [
    {
     "data": {
      "text/plain": [
       "array([1, 2, 3, 4, 3])"
      ]
     },
     "execution_count": 80,
     "metadata": {},
     "output_type": "execute_result"
    }
   ],
   "source": [
    "a"
   ]
  },
  {
   "cell_type": "code",
   "execution_count": 90,
   "id": "644064d2-e198-4976-9b2e-355d8503ed24",
   "metadata": {},
   "outputs": [
    {
     "name": "stdout",
     "output_type": "stream",
     "text": [
      "[-1 -2  3  4 -5  6]\n"
     ]
    }
   ],
   "source": [
    "arr=np.array([-1, -2, 3, 4, -5, 6])\n",
    "print(arr)"
   ]
  },
  {
   "cell_type": "code",
   "execution_count": 91,
   "id": "ffe2739e-1754-4323-969e-8a6c8f6fee8d",
   "metadata": {},
   "outputs": [],
   "source": [
    "positive_mask = arr > 0\n",
    "positive_mean = np.mean(arr[positive_mask])\n",
    "negative_mask = arr < 0\n",
    "arr[negative_mask] = positive_mean"
   ]
  },
  {
   "cell_type": "code",
   "execution_count": 92,
   "id": "6c08f217-b83d-4a24-a9dc-1e9e05089b0f",
   "metadata": {},
   "outputs": [
    {
     "name": "stdout",
     "output_type": "stream",
     "text": [
      "[4 4 3 4 4 6]\n"
     ]
    }
   ],
   "source": [
    "print (arr)"
   ]
  },
  {
   "cell_type": "code",
   "execution_count": null,
   "id": "753268be-b3b2-47e5-b6b8-efd323cd354a",
   "metadata": {},
   "outputs": [],
   "source": []
  }
 ],
 "metadata": {
  "kernelspec": {
   "display_name": "Python [conda env:base] *",
   "language": "python",
   "name": "conda-base-py"
  },
  "language_info": {
   "codemirror_mode": {
    "name": "ipython",
    "version": 3
   },
   "file_extension": ".py",
   "mimetype": "text/x-python",
   "name": "python",
   "nbconvert_exporter": "python",
   "pygments_lexer": "ipython3",
   "version": "3.12.7"
  }
 },
 "nbformat": 4,
 "nbformat_minor": 5
}
