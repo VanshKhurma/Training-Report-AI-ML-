{
 "cells": [
  {
   "cell_type": "code",
   "execution_count": null,
   "id": "ff4bc54d-e365-4091-8540-9a0df75a91f6",
   "metadata": {},
   "outputs": [],
   "source": [
    "Classes in Python "
   ]
  },
  {
   "cell_type": "code",
   "execution_count": null,
   "id": "1ac81a57-8b1f-4fea-acd5-26e636e637c3",
   "metadata": {},
   "outputs": [],
   "source": [
    "class = functions + attributes\n"
   ]
  },
  {
   "cell_type": "code",
   "execution_count": 16,
   "id": "5ad35bd8-0b75-404c-ae6c-d973e98c7f2a",
   "metadata": {},
   "outputs": [],
   "source": [
    "class car:\n",
    "    def __init__(self,a,b,c=True):\n",
    "        self.wheel=a\n",
    "        self.stearing=b\n",
    "        self.airbag=c\n",
    "    def drive(self):\n",
    "        print(\"Inside Drive Method\")\n",
    "    def reverse(self):\n",
    "        print(\"Inside Reverse Method\")"
   ]
  },
  {
   "cell_type": "code",
   "execution_count": 17,
   "id": "5b0e1069-bf46-481a-b5ec-b7add3d93eb4",
   "metadata": {},
   "outputs": [],
   "source": [
    "bmw=car(4,1)"
   ]
  },
  {
   "cell_type": "code",
   "execution_count": 18,
   "id": "4af87b46-22c2-4c20-940f-036a9cdef5ab",
   "metadata": {},
   "outputs": [
    {
     "data": {
      "text/plain": [
       "True"
      ]
     },
     "execution_count": 18,
     "metadata": {},
     "output_type": "execute_result"
    }
   ],
   "source": [
    "bmw.airbag"
   ]
  },
  {
   "cell_type": "code",
   "execution_count": null,
   "id": "252c036a-4219-4fdd-8e88-e27e44712bda",
   "metadata": {},
   "outputs": [],
   "source": []
  },
  {
   "cell_type": "code",
   "execution_count": 50,
   "id": "441a7b1b-1f92-459e-bf14-29a2df4db63f",
   "metadata": {},
   "outputs": [],
   "source": [
    "class student:\n",
    "    def __init__(self, eng, maths):\n",
    "        self.name=\"vansh\"\n",
    "        self.Class=10\n",
    "        self.age=20\n",
    "        self.eng=eng\n",
    "        self.maths=maths\n",
    "    def result(self):\n",
    "        if self.eng>70 and self.maths>70:\n",
    "            print(\"you are pass\")\n",
    "        else:\n",
    "            print(\"you are fail\")"
   ]
  },
  {
   "cell_type": "code",
   "execution_count": 60,
   "id": "3dc70d51-8728-41f0-bda3-47af5bacf36f",
   "metadata": {},
   "outputs": [],
   "source": [
    "a=student(80,75)\n"
   ]
  },
  {
   "cell_type": "code",
   "execution_count": 61,
   "id": "6daaeb35-941a-4835-8906-e605b99c7c46",
   "metadata": {},
   "outputs": [
    {
     "name": "stdout",
     "output_type": "stream",
     "text": [
      "you are pass\n"
     ]
    }
   ],
   "source": [
    "a.result()"
   ]
  },
  {
   "cell_type": "code",
   "execution_count": 19,
   "id": "4d5ce196-0183-440d-b33c-2e4a15e15c9e",
   "metadata": {},
   "outputs": [],
   "source": [
    "user_pin = \"1234\"\n",
    "balance = 5000\n",
    "def check_pin():\n",
    "    print(\"\")"
   ]
  },
  {
   "cell_type": "code",
   "execution_count": 20,
   "id": "c56032a1-368a-4af6-92b1-10f2be24d2e3",
   "metadata": {},
   "outputs": [
    {
     "data": {
      "text/plain": [
       "'1234'"
      ]
     },
     "execution_count": 20,
     "metadata": {},
     "output_type": "execute_result"
    }
   ],
   "source": [
    "user_pin"
   ]
  },
  {
   "cell_type": "code",
   "execution_count": 22,
   "id": "c5d831ad-c6ba-4bec-ab7d-7c5e689ae302",
   "metadata": {},
   "outputs": [],
   "source": [
    "user_pin=\"abc\""
   ]
  },
  {
   "cell_type": "code",
   "execution_count": 23,
   "id": "f4d4574b-493f-4273-b12c-aeb86bf15f65",
   "metadata": {},
   "outputs": [
    {
     "data": {
      "text/plain": [
       "'abc'"
      ]
     },
     "execution_count": 23,
     "metadata": {},
     "output_type": "execute_result"
    }
   ],
   "source": [
    "user_pin"
   ]
  },
  {
   "cell_type": "code",
   "execution_count": 25,
   "id": "d3b2d1ab-1eb3-45eb-bc3e-ff332184c621",
   "metadata": {},
   "outputs": [
    {
     "data": {
      "text/plain": [
       "'abc'"
      ]
     },
     "execution_count": 25,
     "metadata": {},
     "output_type": "execute_result"
    }
   ],
   "source": [
    "user_pin"
   ]
  },
  {
   "cell_type": "code",
   "execution_count": null,
   "id": "f69700b4-b38e-4faa-9860-fe95aff2ee76",
   "metadata": {},
   "outputs": [],
   "source": [
    "class atm:\n",
    "    def __init__(self):\n",
    "        self.pin=\"\"\n",
    "        self.balance=\"\"\n",
    "        self.withdraw=\"\"\n",
    "    def user-input(\"\"HOW CAN I HELP YOU\n",
    "                    1. PRESS 1 TO CREATE A PIN\n",
    "                    2. PRESS 2 TO CHANGE PIN\n",
    "                    3. PRESS 3 TO CHECK BALANCE\n",
    "                    4. PRESS 4 TO WITHDRAW MONEY"
   ]
  }
 ],
 "metadata": {
  "kernelspec": {
   "display_name": "Python [conda env:base] *",
   "language": "python",
   "name": "conda-base-py"
  },
  "language_info": {
   "codemirror_mode": {
    "name": "ipython",
    "version": 3
   },
   "file_extension": ".py",
   "mimetype": "text/x-python",
   "name": "python",
   "nbconvert_exporter": "python",
   "pygments_lexer": "ipython3",
   "version": "3.12.7"
  }
 },
 "nbformat": 4,
 "nbformat_minor": 5
}
