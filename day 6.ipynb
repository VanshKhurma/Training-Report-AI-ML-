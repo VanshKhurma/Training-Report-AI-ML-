{
 "cells": [
  {
   "cell_type": "code",
   "execution_count": null,
   "id": "af7cc45f-c938-4ace-92b5-3a89a33001d8",
   "metadata": {},
   "outputs": [],
   "source": [
    "Exception handling & File handling"
   ]
  },
  {
   "cell_type": "code",
   "execution_count": null,
   "id": "46a7aa07-cde8-48d7-aa92-4716295feb54",
   "metadata": {},
   "outputs": [],
   "source": [
    "try, except, finally"
   ]
  },
  {
   "cell_type": "code",
   "execution_count": null,
   "id": "df860c74-590d-4620-aa37-3dc5ce784fab",
   "metadata": {},
   "outputs": [],
   "source": [
    "read mode, write mode, append mode"
   ]
  },
  {
   "cell_type": "code",
   "execution_count": null,
   "id": "13a300f0-2f4d-4145-8774-aa67d791e8f9",
   "metadata": {},
   "outputs": [],
   "source": [
    "#you are taking an input from the user and what will be our approach\n",
    "try:\n",
    "    a=int(input(\"enter the value\"))\n",
    "    print(a+5)\n",
    "except:    "
   ]
  },
  {
   "cell_type": "code",
   "execution_count": null,
   "id": "79adc5c6-88ab-4dec-93a9-b18ad494c2e4",
   "metadata": {},
   "outputs": [],
   "source": [
    "read line and read lines (2 more methods)"
   ]
  },
  {
   "cell_type": "code",
   "execution_count": 23,
   "id": "5dabde9f-c12f-465e-ba00-4e02f69314b3",
   "metadata": {},
   "outputs": [],
   "source": [
    "\n",
    "try:\n",
    "    z=open(\"j.txt\",'w')\n",
    "    z.write(\"Hi my name is Vansh\")\n",
    "    c=open(\"j.txt\",'r')\n",
    "    print = (c.read())\n",
    "except exception as e:\n",
    "    print(e)\n",
    "finally:\n",
    "    z.close()\n",
    "    "
   ]
  },
  {
   "cell_type": "code",
   "execution_count": null,
   "id": "78d51428-528b-49f0-88f6-00b2c6432b9e",
   "metadata": {},
   "outputs": [],
   "source": [
    "try:\n",
    "    c=open(\"J.txt\",'r')\n",
    "    p=readlines\n",
    "    "
   ]
  },
  {
   "cell_type": "code",
   "execution_count": null,
   "id": "741dbc4d-81ab-4cc5-891c-5233d2e1cba8",
   "metadata": {},
   "outputs": [],
   "source": [
    "strip fuctions is used to clear spaces (leading and trailing both)"
   ]
  },
  {
   "cell_type": "code",
   "execution_count": 26,
   "id": "bf61d31e-ae99-45fa-93c7-bb0a94ea9224",
   "metadata": {},
   "outputs": [
    {
     "ename": "SyntaxError",
     "evalue": "invalid syntax (2753922105.py, line 1)",
     "output_type": "error",
     "traceback": [
      "\u001b[0;36m  Cell \u001b[0;32mIn[26], line 1\u001b[0;36m\u001b[0m\n\u001b[0;31m    take an input from user in int form and store it to the file\u001b[0m\n\u001b[0m         ^\u001b[0m\n\u001b[0;31mSyntaxError\u001b[0m\u001b[0;31m:\u001b[0m invalid syntax\n"
     ]
    }
   ],
   "source": [
    "take an input from user in int form and store it to the file\n",
    "user1=5\n",
    "userimput2=10\n",
    "result=user1*userinput2\n"
   ]
  },
  {
   "cell_type": "code",
   "execution_count": 33,
   "id": "22629f8e-33d9-461d-930a-28d98d349aa0",
   "metadata": {},
   "outputs": [
    {
     "name": "stdin",
     "output_type": "stream",
     "text": [
      "Enter the value 1\n",
      "Enter the second value 2\n"
     ]
    }
   ],
   "source": [
    "try:\n",
    "    c=open(\"r.txt\",'a')\n",
    "    a=int(input(\"Enter the value\"))\n",
    "    b=int(input(\"Enter the second value\"))\n",
    "    z=a*b\n",
    "    st\n",
    "    c.write(str(a))\n",
    "    c.write(str(b))\n",
    "    c.write(str(z))\n",
    "    c.close()\n",
    "except exception as e:\n",
    "    print(\"Error\")\n",
    "    "
   ]
  },
  {
   "cell_type": "code",
   "execution_count": null,
   "id": "8dd6842d-e326-465d-ac86-f2223e421761",
   "metadata": {},
   "outputs": [],
   "source": []
  }
 ],
 "metadata": {
  "kernelspec": {
   "display_name": "Python [conda env:base] *",
   "language": "python",
   "name": "conda-base-py"
  },
  "language_info": {
   "codemirror_mode": {
    "name": "ipython",
    "version": 3
   },
   "file_extension": ".py",
   "mimetype": "text/x-python",
   "name": "python",
   "nbconvert_exporter": "python",
   "pygments_lexer": "ipython3",
   "version": "3.12.7"
  }
 },
 "nbformat": 4,
 "nbformat_minor": 5
}
