{
 "cells": [
  {
   "cell_type": "markdown",
   "id": "31bdf11c-1628-46a2-94d2-29acaff4eb52",
   "metadata": {},
   "source": [
    "<b>If-else</b>\n",
    "<div>\n",
    "    <ul><li>aka Descision Control Statement</li</ul>\n",
    "when the compiler runs a block of code it runs from top to bottom but sometimes when we write a block of code we come accross a point where we encounter branching. Branching means we have to concider more than one option to move forward in that situations we use if else statements. Here a condition is mentioned in the if statement and if the condition is true we move forward with that part of the code and if the condition is false then we move to the else statement attached with the if statement and run that part of the code. A simple example is a login function where if the credentials are true you land in the home page and if the credentials are false then you land at a different page.\n",
    "    \n",
    " \n",
    "</div>"
   ]
  },
  {
   "cell_type": "code",
   "execution_count": 1,
   "id": "7be7445a-f8a7-4069-ab6f-feeafc3659ea",
   "metadata": {},
   "outputs": [
    {
     "name": "stdin",
     "output_type": "stream",
     "text": [
      "enter the email sdfgh\n",
      "enter the password sdfghjk\n"
     ]
    },
    {
     "name": "stdout",
     "output_type": "stream",
     "text": [
      "acess denied\n",
      "1\n",
      "2\n"
     ]
    }
   ],
   "source": [
    "email=input(\"enter the email\")\n",
    "password=input(\"enter the password\")\n",
    "\n",
    "if email==\"123@gmail.com\" and password==\"123\":\n",
    "    print(\"Acess Granted\")\n",
    "else:\n",
    "    print(\"acess denied\")\n",
    "    print(1)\n",
    "    print(2)\n"
   ]
  },
  {
   "cell_type": "code",
   "execution_count": null,
   "id": "97eb7f5e-238e-4556-aca2-118ee3b8dcfe",
   "metadata": {},
   "outputs": [],
   "source": []
  },
  {
   "cell_type": "code",
   "execution_count": 11,
   "id": "90832b35-5ad0-4b33-85a5-f0854e16a0c2",
   "metadata": {},
   "outputs": [
    {
     "data": {
      "text/plain": [
       "0"
      ]
     },
     "execution_count": 11,
     "metadata": {},
     "output_type": "execute_result"
    }
   ],
   "source": [
    "14%2"
   ]
  },
  {
   "cell_type": "code",
   "execution_count": null,
   "id": "9015319a-c154-4007-9205-d86a132573bf",
   "metadata": {},
   "outputs": [],
   "source": []
  },
  {
   "cell_type": "code",
   "execution_count": null,
   "id": "0e2a556d-67d0-4390-ae50-5c4bb75fb4e1",
   "metadata": {},
   "outputs": [],
   "source": []
  },
  {
   "cell_type": "code",
   "execution_count": null,
   "id": "e23a78b2-ce98-4215-b4c6-84df71cf9205",
   "metadata": {},
   "outputs": [],
   "source": []
  },
  {
   "cell_type": "code",
   "execution_count": null,
   "id": "0fd630f6-0203-46e4-9e72-6e5debf11095",
   "metadata": {},
   "outputs": [],
   "source": []
  },
  {
   "cell_type": "code",
   "execution_count": 3,
   "id": "ccf7db9b-3e45-40e8-b1bf-2b2ad8b27680",
   "metadata": {},
   "outputs": [
    {
     "name": "stdin",
     "output_type": "stream",
     "text": [
      "enter your email 123@gmail.com\n",
      "enter you password 123\n"
     ]
    },
    {
     "name": "stdout",
     "output_type": "stream",
     "text": [
      "Access Granted\n"
     ]
    }
   ],
   "source": [
    " #123@gmail.com\n",
    "#123\n",
    "email= input(\"enter your email\")\n",
    "password=input(\"enter you password\")\n",
    "\n",
    "if email==\"123@gmail.com\" or password==\"123\":\n",
    "    print(\"Access Granted\")\n",
    "else:\n",
    "    print(\"Access Denied\")"
   ]
  },
  {
   "cell_type": "code",
   "execution_count": 4,
   "id": "63575802-8856-4913-9cc8-aca566052cbb",
   "metadata": {},
   "outputs": [
    {
     "name": "stdin",
     "output_type": "stream",
     "text": [
      "enter your email 123@gmail.com\n",
      "enter you password sdfghjk\n"
     ]
    },
    {
     "name": "stdout",
     "output_type": "stream",
     "text": [
      "Wrong Password entered Please enter again\n"
     ]
    },
    {
     "name": "stdin",
     "output_type": "stream",
     "text": [
      "enter you password 123\n"
     ]
    },
    {
     "name": "stdout",
     "output_type": "stream",
     "text": [
      "Access Granted\n"
     ]
    }
   ],
   "source": [
    "\n",
    "#Now if we introduce a new condition that if the password entered \n",
    "#by the user is incorrect we give another chance to enter the password\n",
    "\n",
    "\n",
    "email= input(\"enter your email\")\n",
    "\n",
    "password=input(\"enter you password\")\n",
    "\n",
    "if email==\"123@gmail.com\" and password==\"123\":  \n",
    "    print(\"Access Granted\")\n",
    "elif email==\"123@gmail.com\" and password!=\"123\":\n",
    "    print(\"Wrong Password entered Please enter again\")\n",
    "    password=input(\"enter you password\")\n",
    "    if email==\"123@gmail.com\" and password==\"123\":\n",
    "        print(\"Access Granted\") \n",
    "        \n",
    "    else:\n",
    "     print(\"Password still again\")\n",
    "else:\n",
    "    print(\"Access Denied\")\n",
    "\n"
   ]
  },
  {
   "cell_type": "code",
   "execution_count": null,
   "id": "beb3ec58-d4ea-4d07-b5df-d759684827fe",
   "metadata": {},
   "outputs": [],
   "source": []
  },
  {
   "cell_type": "code",
   "execution_count": null,
   "id": "adb71b67-75eb-4130-ad74-7b6cd8d96875",
   "metadata": {},
   "outputs": [],
   "source": []
  },
  {
   "cell_type": "code",
   "execution_count": null,
   "id": "287f33f3-f5b8-421d-90a3-7f3ed185c595",
   "metadata": {},
   "outputs": [],
   "source": []
  },
  {
   "cell_type": "code",
   "execution_count": null,
   "id": "fa463766-a62c-4533-aa8e-449fa51471aa",
   "metadata": {},
   "outputs": [],
   "source": []
  },
  {
   "cell_type": "code",
   "execution_count": null,
   "id": "c0be6d3a-daac-4cc0-8d12-4f2a2cfeb64c",
   "metadata": {},
   "outputs": [],
   "source": []
  },
  {
   "cell_type": "code",
   "execution_count": null,
   "id": "2089a758-f2f5-41d3-8ba8-3de64570e4c2",
   "metadata": {},
   "outputs": [],
   "source": []
  },
  {
   "cell_type": "code",
   "execution_count": null,
   "id": "6090a9eb-73be-4972-be81-acbb4778e766",
   "metadata": {},
   "outputs": [],
   "source": []
  },
  {
   "cell_type": "code",
   "execution_count": 35,
   "id": "395118c4-2fa1-4851-9a05-6e9b6c2361b7",
   "metadata": {},
   "outputs": [
    {
     "name": "stdin",
     "output_type": "stream",
     "text": [
      "enter your email asdfgh@sdfgh\n",
      "enter you password asdh\n"
     ]
    },
    {
     "name": "stdout",
     "output_type": "stream",
     "text": [
      "Access Denied\n"
     ]
    }
   ],
   "source": [
    "\n",
    "\n",
    "#also we check weather @ is present in the email or not\n",
    "Email=input(\"enter your email\")\n",
    "if \"@\" in Email:\n",
    "    Password=input(\"enter you password\")\n",
    "    if email==\"123@gmail.com\" and Password==\"123\":\n",
    "        print(\"Access Granted\")\n",
    "    elif email==\"123@gmail.com\" and Password!=\"123\":\n",
    "        print(\"Wrong Password entered Please enter again\")\n",
    "        Password=input(\"enter you password\")\n",
    "        if email==\"123@gmail.com\" and Password==\"123\":\n",
    "            print(\"Access Granted\") \n",
    "        else:\n",
    "            print(\"Password still again\")\n",
    "    else:\n",
    "        print(\"Access Denied\")\n",
    "else:\n",
    "    print(\"Wrong Email\")\n",
    "    "
   ]
  },
  {
   "cell_type": "code",
   "execution_count": null,
   "id": "0964c76e-63fe-48b2-95ae-055d3bc70d40",
   "metadata": {},
   "outputs": [],
   "source": []
  },
  {
   "cell_type": "code",
   "execution_count": null,
   "id": "813e2e73-ac49-492a-aa95-88946efd819c",
   "metadata": {},
   "outputs": [],
   "source": []
  },
  {
   "cell_type": "markdown",
   "id": "aabca109-1fba-4403-bf55-c8accd66814e",
   "metadata": {},
   "source": [
    "<b> Understanding difference between multiple if statements and elif statement</b>\n",
    "<div>\n",
    "\r\n",
    "Multiple if's means your code would go and check all the if conditions, where as in case of elif, if one if condition satisfies it would not check other conditions..</div>"
   ]
  },
  {
   "cell_type": "code",
   "execution_count": 32,
   "id": "4083ed85-ef32-4492-8e67-906a5c372f47",
   "metadata": {},
   "outputs": [
    {
     "name": "stdout",
     "output_type": "stream",
     "text": [
      "You are a child\n",
      "The age must be a positive integer!\n"
     ]
    }
   ],
   "source": [
    "ADULT_AGE = 18\n",
    "def analyze_age(age):\n",
    "   if age < ADULT_AGE and age > 0:\n",
    "       print(\"You are a child\")\n",
    "   if age >= ADULT_AGE:\n",
    "       print(\"You are an adult\")\n",
    "   else:\n",
    "       print(\"The age must be a positive integer!\")\n",
    "\n",
    "analyze_age(16)"
   ]
  },
  {
   "cell_type": "markdown",
   "id": "9a54cb18-2ac1-486b-9a55-294f9bb165d0",
   "metadata": {},
   "source": [
    "Here you can see that when 16 is used as input the answer is (surprisingly) 2 sentences. That is wrong. It should only be the first sentence.\r\n",
    "\r\n",
    "That is because BOTH if statements are being evaluated. The computer sees them as two separate statements:\r\n",
    "\r\n",
    "The first one is true f6r 18 and so \"You are a child\" is printed.\r\n",
    "The second if statement is false and therefore the else part is executed printing \"The age must be a positive integer\".\r\n",
    "The elif fixes this and makes the two if statements 'stick together' as one:"
   ]
  },
  {
   "cell_type": "code",
   "execution_count": 6,
   "id": "1deeda9f-aa5f-4885-8e15-f623ea62d773",
   "metadata": {},
   "outputs": [
    {
     "name": "stdout",
     "output_type": "stream",
     "text": [
      "You are a child\n"
     ]
    }
   ],
   "source": [
    "def analyze_age(age):\n",
    "    \n",
    "   if age < ADULT_AGE and age > 0:\n",
    "       print(\"You are a child\")\n",
    "   elif age >= ADULT_AGE:\n",
    "       print(\"You are an adult\")\n",
    "   else:\n",
    "       print(\"The age must be a positive integer!\")\n",
    "\n",
    "analyze_age(16)"
   ]
  },
  {
   "cell_type": "markdown",
   "id": "8450f958-1b2d-4ae8-9824-fc843ace10d5",
   "metadata": {},
   "source": [
    "<b>Indentation</b>"
   ]
  },
  {
   "cell_type": "code",
   "execution_count": null,
   "id": "cf7af0c5-dc46-4886-9de4-bd1c11d09227",
   "metadata": {},
   "outputs": [],
   "source": [
    "#In other programming languages the syntax to define a if else statement is like this by using Brackets to define a block of code\n",
    "\n",
    "if(name == \"xyz\"){\n",
    "    line1\n",
    "    line2\n",
    "    line3\n",
    "}else{\n",
    "    line 1\n",
    "    line2\n",
    "    line3\n",
    "}"
   ]
  },
  {
   "cell_type": "code",
   "execution_count": null,
   "id": "4cb07ca5-50fa-46a9-bbd0-39b606bdebae",
   "metadata": {},
   "outputs": [],
   "source": [
    "#But in python we do not use brackets to define the block of code we use a fixed amount of space called indentation default value is 1 tab\n",
    "\n",
    "if name =='xyz':\n",
    "    line1\n",
    "    line2\n",
    "    line3\n",
    "    line4\n",
    "else:\n",
    "    line1\n",
    "    line2\n",
    "    line3"
   ]
  },
  {
   "cell_type": "markdown",
   "id": "ff166bb9-d758-40cf-b23a-307d46330777",
   "metadata": {},
   "source": [
    "<b>LOOPS</b>\n",
    "<div>\n",
    "    Allows you to run a piece of code over and over again until a predetrimend condition is true. In Python we have 2 types of loops \n",
    "    <ul><li>While Loop</li>\n",
    "        <li>For Loop<li></ul>\n",
    "</div>"
   ]
  },
  {
   "cell_type": "code",
   "execution_count": null,
   "id": "414f0df4-1a02-44d2-af85-65751780ff61",
   "metadata": {},
   "outputs": [],
   "source": [
    "#While Loop\n",
    "#Syntax\n",
    "while condition:\n",
    "    code"
   ]
  },
  {
   "cell_type": "code",
   "execution_count": 3,
   "id": "b4b755d2-fbd0-498e-80a3-df948643bed8",
   "metadata": {},
   "outputs": [
    {
     "name": "stdout",
     "output_type": "stream",
     "text": [
      "1\n",
      "2\n",
      "3\n",
      "4\n",
      "5\n",
      "6\n",
      "7\n",
      "8\n",
      "9\n",
      "10\n"
     ]
    }
   ],
   "source": [
    "#Example- getting a table of any number entered by the user\n",
    "\n",
    "\n",
    "\n",
    "i=1\n",
    "while i<11:\n",
    "    print(i)\n",
    "    i+=1\n",
    " \n"
   ]
  },
  {
   "cell_type": "code",
   "execution_count": 10,
   "id": "dd7f6e5e-f845-4191-bf4a-1eef1c69bd81",
   "metadata": {},
   "outputs": [
    {
     "name": "stdout",
     "output_type": "stream",
     "text": [
      "1\n",
      "2\n",
      "3\n",
      "4\n",
      "5\n",
      "6\n",
      "7\n",
      "8\n",
      "9\n",
      "10\n",
      "11\n",
      "12\n",
      "13\n",
      "14\n"
     ]
    }
   ],
   "source": [
    "i=1\n",
    "while i<15:\n",
    "    print(i)\n",
    "    i+=1\n"
   ]
  },
  {
   "cell_type": "code",
   "execution_count": 11,
   "id": "e2e60090-3f19-470a-81a8-e63cf3e4c4bc",
   "metadata": {},
   "outputs": [],
   "source": [
    "import random"
   ]
  },
  {
   "cell_type": "code",
   "execution_count": 25,
   "id": "87e980f2-fe7d-424a-9df7-4e3605e63f24",
   "metadata": {},
   "outputs": [
    {
     "data": {
      "text/plain": [
       "447404"
      ]
     },
     "execution_count": 25,
     "metadata": {},
     "output_type": "execute_result"
    }
   ],
   "source": [
    "random.randint(1,1000000)"
   ]
  },
  {
   "cell_type": "code",
   "execution_count": null,
   "id": "13b866e0-56d1-4bd5-9c7f-973416730738",
   "metadata": {},
   "outputs": [],
   "source": []
  },
  {
   "cell_type": "code",
   "execution_count": null,
   "id": "1d939ce1-284a-4670-837f-8de5db8ced04",
   "metadata": {},
   "outputs": [],
   "source": []
  },
  {
   "cell_type": "code",
   "execution_count": 13,
   "id": "1d0fd1af-11bd-4363-82e6-c5022a73001a",
   "metadata": {},
   "outputs": [
    {
     "data": {
      "text/plain": [
       "64"
      ]
     },
     "execution_count": 13,
     "metadata": {},
     "output_type": "execute_result"
    }
   ],
   "source": [
    "\n",
    "\n",
    "a=random.randint(1,100)\n",
    "a"
   ]
  },
  {
   "cell_type": "code",
   "execution_count": 5,
   "id": "16abef71-a84a-42fb-ad5f-dfe0a91c0e87",
   "metadata": {},
   "outputs": [],
   "source": [
    "#Build a game where the system selects a random integer and then asks the user to guss the number\n",
    "#the program then tells weather the number the user asked is higher or lower than the number selected by the system\n",
    "#then asks for them to guess again\n",
    "#In the end it tells you how many attempts it took to get the right answer\n",
    "\n"
   ]
  },
  {
   "cell_type": "code",
   "execution_count": 28,
   "id": "305e9c08-cb78-4d31-be61-8df0bc511b20",
   "metadata": {},
   "outputs": [
    {
     "name": "stdin",
     "output_type": "stream",
     "text": [
      "Enter A Number Between 1,100 52\n"
     ]
    },
    {
     "name": "stdout",
     "output_type": "stream",
     "text": [
      "guess Higher\n"
     ]
    },
    {
     "name": "stdin",
     "output_type": "stream",
     "text": [
      "Enter again 60\n"
     ]
    },
    {
     "name": "stdout",
     "output_type": "stream",
     "text": [
      "guess Higher\n"
     ]
    },
    {
     "name": "stdin",
     "output_type": "stream",
     "text": [
      "Enter again 70\n"
     ]
    },
    {
     "name": "stdout",
     "output_type": "stream",
     "text": [
      "guess Higher\n"
     ]
    },
    {
     "name": "stdin",
     "output_type": "stream",
     "text": [
      "Enter again 80\n"
     ]
    },
    {
     "name": "stdout",
     "output_type": "stream",
     "text": [
      "guess Higher\n"
     ]
    },
    {
     "name": "stdin",
     "output_type": "stream",
     "text": [
      "Enter again 90\n"
     ]
    },
    {
     "name": "stdout",
     "output_type": "stream",
     "text": [
      "guess lower\n"
     ]
    },
    {
     "name": "stdin",
     "output_type": "stream",
     "text": [
      "Enter again 85\n"
     ]
    },
    {
     "name": "stdout",
     "output_type": "stream",
     "text": [
      "guess Higher\n"
     ]
    },
    {
     "name": "stdin",
     "output_type": "stream",
     "text": [
      "Enter again 86\n"
     ]
    },
    {
     "name": "stdout",
     "output_type": "stream",
     "text": [
      "guess Higher\n"
     ]
    },
    {
     "name": "stdin",
     "output_type": "stream",
     "text": [
      "Enter again 87\n"
     ]
    },
    {
     "name": "stdout",
     "output_type": "stream",
     "text": [
      "correct Answer\n"
     ]
    }
   ],
   "source": [
    "import random\n",
    "random = random.randint(1,100)\n",
    "guess= int(input(\"Enter A Number Between 1,100\"))\n",
    "counter=1\n",
    "while random!=guess:\n",
    "    if guess>random:\n",
    "        print(\"guess lower\")\n",
    "    else:\n",
    "        print(\"guess Higher\")\n",
    "    guess=int(input(\"Enter again\")) \n",
    "    counter+=1 #counter=counter+1\n",
    "print(\"correct Answer\")\n",
    "print(\"You Took \",counter,\" steps\" )"
   ]
  },
  {
   "cell_type": "markdown",
   "id": "4c3127b2-d7be-49fc-af78-e193a48303c8",
   "metadata": {},
   "source": [
    "<b>Range Function, Sequence And for loop</b>\n",
    "<div>For loops work either on range function or sequences. They are used for iteration</div>\n"
   ]
  },
  {
   "cell_type": "code",
   "execution_count": 2,
   "id": "56bff337-1cd8-4820-95e9-d1a9a3f7adf8",
   "metadata": {},
   "outputs": [
    {
     "data": {
      "text/plain": [
       "[1, 3, 5, 7, 9, 11, 13]"
      ]
     },
     "execution_count": 2,
     "metadata": {},
     "output_type": "execute_result"
    }
   ],
   "source": [
    "list(range(1,15,2))"
   ]
  },
  {
   "cell_type": "code",
   "execution_count": 22,
   "id": "cdf0cfea-e04b-41a0-9267-e680f8b00d6f",
   "metadata": {},
   "outputs": [
    {
     "data": {
      "text/plain": [
       "[1, 3, 5, 7, 9]"
      ]
     },
     "execution_count": 22,
     "metadata": {},
     "output_type": "execute_result"
    }
   ],
   "source": [
    "list(range(1,10,2))"
   ]
  },
  {
   "cell_type": "code",
   "execution_count": 1,
   "id": "8d3a6602-1088-4886-8c73-454b40eaca79",
   "metadata": {},
   "outputs": [
    {
     "data": {
      "text/plain": [
       "[3, 4, 5, 6, 7, 8, 9]"
      ]
     },
     "execution_count": 1,
     "metadata": {},
     "output_type": "execute_result"
    }
   ],
   "source": [
    "list(range(3,10))"
   ]
  },
  {
   "cell_type": "code",
   "execution_count": 3,
   "id": "db5aebdc-3bbf-439a-849e-33138653cdd0",
   "metadata": {},
   "outputs": [
    {
     "name": "stdout",
     "output_type": "stream",
     "text": [
      "7\n"
     ]
    }
   ],
   "source": [
    "#Sequence \n",
    "a=\"kolkata\"\n",
    "# lem=len(a)\n",
    "# print(lem)\n",
    "b=['kolkata',1,'jalandhar']\n",
    "c=('kolkata','delhi','jalandhar')\n",
    "d={'kolkata','delhi','jalandhar'}\n",
    "student = {\n",
    "    \"name\": \"Aman\",\n",
    "    \"age\": 21,\n",
    "    \"courses\": [\"Math\", \"Computer Science\"]\n",
    "}\n",
    "\n",
    "    "
   ]
  },
  {
   "cell_type": "code",
   "execution_count": 25,
   "id": "66126b58-a385-484a-9034-938bd1df7350",
   "metadata": {},
   "outputs": [
    {
     "name": "stdout",
     "output_type": "stream",
     "text": [
      "1\n",
      "3\n",
      "5\n",
      "7\n"
     ]
    }
   ],
   "source": [
    "for x in range(1,8,2):\n",
    "    print(x)"
   ]
  },
  {
   "cell_type": "code",
   "execution_count": 31,
   "id": "44dce09f-93b0-4e29-a71a-0a0fa19bab46",
   "metadata": {},
   "outputs": [
    {
     "name": "stdout",
     "output_type": "stream",
     "text": [
      "j 0\n",
      "a 1\n",
      "l 2\n",
      "a 3\n",
      "n 4\n",
      "d 5\n",
      "h 6\n",
      "a 7\n",
      "r 8\n"
     ]
    }
   ],
   "source": [
    "a='jalandhar'\n",
    "c=len(a)\n",
    "for i in range(c):\n",
    "    print(a[i],i)\n",
    "\n"
   ]
  },
  {
   "cell_type": "code",
   "execution_count": 32,
   "id": "ad19e269-f100-42a7-9d85-df952fd9b1cc",
   "metadata": {},
   "outputs": [
    {
     "name": "stdout",
     "output_type": "stream",
     "text": [
      "jalandhar\n",
      "kolkata\n",
      "5\n"
     ]
    }
   ],
   "source": [
    "b=['jalandhar','kolkata',5]\n",
    "for i in b:\n",
    "    print(i)"
   ]
  },
  {
   "cell_type": "code",
   "execution_count": 33,
   "id": "03595748-07f6-401f-9f54-a9aaf2c205ab",
   "metadata": {},
   "outputs": [
    {
     "name": "stdout",
     "output_type": "stream",
     "text": [
      "j\n",
      "a\n",
      "l\n",
      "a\n",
      "n\n",
      "d\n",
      "h\n",
      "a\n",
      "r\n"
     ]
    }
   ],
   "source": [
    "for num in a:\n",
    "    print(num)"
   ]
  },
  {
   "cell_type": "code",
   "execution_count": null,
   "id": "94587408-98b2-4c89-9c32-66a81612307b",
   "metadata": {},
   "outputs": [],
   "source": []
  },
  {
   "cell_type": "code",
   "execution_count": 20,
   "id": "45e39446-6168-4a4d-a4c4-b62aad0068da",
   "metadata": {},
   "outputs": [
    {
     "name": "stdin",
     "output_type": "stream",
     "text": [
      "number 5\n"
     ]
    },
    {
     "name": "stdout",
     "output_type": "stream",
     "text": [
      "15\n"
     ]
    }
   ],
   "source": [
    "i=0\n",
    "n=int(input(\"number\"))\n",
    "Sum=0\n",
    "while i<=n:\n",
    "    Sum+=i\n",
    "    i=i+1\n",
    "\n",
    "\n",
    "print(Sum)"
   ]
  },
  {
   "cell_type": "code",
   "execution_count": null,
   "id": "1093b2c0-e549-459b-b242-de3d30daacda",
   "metadata": {},
   "outputs": [],
   "source": [
    "##PRACTICE QUESTIONS\n",
    "\n",
    "#q1. Write a while loop to print numbers from 1 to 10.\n",
    "#q2. Write a program that calculates the sum of numbers from 1 to n, where n is a number input by the user.\n",
    "#q3. Write a while loop to print numbers counting down from 10 to 1.\n",
    "#q4. Write a program to find the sum of the digits of a given number using a while loop.\n",
    "\n",
    "#q5. Write a program to find the largest number in a list using a for loop.\n",
    "#q6. Write a program to calculate the sum of digits of a given number using a for loop.\n",
    "#q7. Write a program to count the number of vowels in a given string using a for loop."
   ]
  },
  {
   "cell_type": "code",
   "execution_count": 8,
   "id": "ef1c1beb-cf79-4b9e-bc00-65e019857e08",
   "metadata": {},
   "outputs": [
    {
     "name": "stdin",
     "output_type": "stream",
     "text": [
      "number 123456\n"
     ]
    },
    {
     "name": "stdout",
     "output_type": "stream",
     "text": [
      "21\n"
     ]
    }
   ],
   "source": [
    "num=input('number')\n",
    "sum=0\n",
    "for i in num:\n",
    "    sum+=int(i)\n",
    "    \n",
    "print(sum)    "
   ]
  },
  {
   "cell_type": "code",
   "execution_count": null,
   "id": "84da2d5d-e94e-4e03-a138-fed546bc1db9",
   "metadata": {},
   "outputs": [],
   "source": [
    "# Print\n",
    "# *\n",
    "# **\n",
    "# ***\n",
    "# ****\n",
    "#using for loop"
   ]
  },
  {
   "cell_type": "code",
   "execution_count": 13,
   "id": "cfeb116c-b95a-424c-892f-a8ca55a38b5c",
   "metadata": {},
   "outputs": [
    {
     "name": "stdout",
     "output_type": "stream",
     "text": [
      "1\n",
      "2\n",
      "3\n",
      "4\n",
      "5\n",
      "6\n",
      "7\n",
      "8\n",
      "9\n",
      "10\n"
     ]
    }
   ],
   "source": [
    "i=1\n",
    "while i<11:\n",
    "    print(i)\n",
    "    i=i+1"
   ]
  },
  {
   "cell_type": "code",
   "execution_count": 1,
   "id": "5ddcad81-e704-4edb-98d7-985548afb412",
   "metadata": {},
   "outputs": [],
   "source": [
    "a=\"pyton\"\n",
    "#a[start index:end index] end index not included "
   ]
  },
  {
   "cell_type": "code",
   "execution_count": 4,
   "id": "42e3553a-8ed0-41e1-8084-6d9f9c2b5635",
   "metadata": {},
   "outputs": [
    {
     "data": {
      "text/plain": [
       "'pyt'"
      ]
     },
     "execution_count": 4,
     "metadata": {},
     "output_type": "execute_result"
    }
   ],
   "source": [
    "a[0:3]"
   ]
  },
  {
   "cell_type": "code",
   "execution_count": 3,
   "id": "1a4d19d3-2c8d-4ae3-876b-85e3de96d8dd",
   "metadata": {},
   "outputs": [
    {
     "data": {
      "text/plain": [
       "'n'"
      ]
     },
     "execution_count": 3,
     "metadata": {},
     "output_type": "execute_result"
    }
   ],
   "source": [
    "a[-1]"
   ]
  },
  {
   "cell_type": "code",
   "execution_count": 5,
   "id": "4a105c33-7de1-4006-8503-f048699905b2",
   "metadata": {},
   "outputs": [],
   "source": [
    "l=[1,2,2,34,5,6]"
   ]
  },
  {
   "cell_type": "code",
   "execution_count": 6,
   "id": "a43846d4-59f1-4ed5-b219-14406a1a699f",
   "metadata": {},
   "outputs": [
    {
     "data": {
      "text/plain": [
       "[2, 2, 34]"
      ]
     },
     "execution_count": 6,
     "metadata": {},
     "output_type": "execute_result"
    }
   ],
   "source": [
    "l[1:4]"
   ]
  },
  {
   "cell_type": "code",
   "execution_count": 7,
   "id": "4a07cc33-85b1-4604-afa2-63bd1b1c478f",
   "metadata": {},
   "outputs": [],
   "source": [
    "a=\"hello world\""
   ]
  },
  {
   "cell_type": "code",
   "execution_count": 8,
   "id": "12613905-752d-4be0-b264-f406b5f9adb5",
   "metadata": {},
   "outputs": [
    {
     "data": {
      "text/plain": [
       "'llo worl'"
      ]
     },
     "execution_count": 8,
     "metadata": {},
     "output_type": "execute_result"
    }
   ],
   "source": [
    "a[2:-1]"
   ]
  },
  {
   "cell_type": "code",
   "execution_count": 13,
   "id": "bee77768-e530-49e3-b913-c7c40a31f62a",
   "metadata": {},
   "outputs": [],
   "source": [
    "#a[start:stop:step]\n",
    "a=\"python\""
   ]
  },
  {
   "cell_type": "code",
   "execution_count": 14,
   "id": "00be2296-a3c1-490c-9b6b-535e42970466",
   "metadata": {},
   "outputs": [
    {
     "data": {
      "text/plain": [
       "'yh'"
      ]
     },
     "execution_count": 14,
     "metadata": {},
     "output_type": "execute_result"
    }
   ],
   "source": [
    "a[1:-1:2]"
   ]
  },
  {
   "cell_type": "code",
   "execution_count": 15,
   "id": "ec243f6a-3270-47ec-8847-85551f66e48f",
   "metadata": {},
   "outputs": [],
   "source": [
    "b=\"abcdefghijklmopqrs\""
   ]
  },
  {
   "cell_type": "code",
   "execution_count": 16,
   "id": "ddb591bf-e196-4dac-abf5-fb0cca3ed6c2",
   "metadata": {},
   "outputs": [
    {
     "data": {
      "text/plain": [
       "'srqpomlkjihgfedcba'"
      ]
     },
     "execution_count": 16,
     "metadata": {},
     "output_type": "execute_result"
    }
   ],
   "source": [
    "b[::-1]"
   ]
  },
  {
   "cell_type": "code",
   "execution_count": 17,
   "id": "528a0e1d-6643-4b8c-bb6c-e2b1274b6deb",
   "metadata": {},
   "outputs": [],
   "source": [
    "b=\"abcdefgh\""
   ]
  },
  {
   "cell_type": "code",
   "execution_count": 20,
   "id": "e54fedf0-e132-499f-95a9-f1dfb47d9c7d",
   "metadata": {},
   "outputs": [
    {
     "data": {
      "text/plain": [
       "'ad'"
      ]
     },
     "execution_count": 20,
     "metadata": {},
     "output_type": "execute_result"
    }
   ],
   "source": [
    "b[0:5:3]"
   ]
  },
  {
   "cell_type": "code",
   "execution_count": 29,
   "id": "406a181e-7c39-4802-991b-7e088411ac71",
   "metadata": {},
   "outputs": [
    {
     "name": "stdin",
     "output_type": "stream",
     "text": [
      "enter a number 1234\n"
     ]
    },
    {
     "name": "stdout",
     "output_type": "stream",
     "text": [
      "10\n"
     ]
    }
   ],
   "source": [
    "a=int(input(\"enter a number\"))\n",
    "Sum=0\n",
    "while a>0:\n",
    "    c=a%10\n",
    "    Sum+=c\n",
    "    a//=10 #a=a//10\n",
    "print(Sum)\n",
    "    "
   ]
  },
  {
   "cell_type": "code",
   "execution_count": 30,
   "id": "fd007c0d-6afe-4bd3-af0a-00dc93394aff",
   "metadata": {},
   "outputs": [
    {
     "data": {
      "text/plain": [
       "4"
      ]
     },
     "execution_count": 30,
     "metadata": {},
     "output_type": "execute_result"
    }
   ],
   "source": [
    "1234%10"
   ]
  },
  {
   "cell_type": "code",
   "execution_count": 32,
   "id": "db973635-a6c9-42b5-a5ab-6a76044ffbf8",
   "metadata": {},
   "outputs": [
    {
     "data": {
      "text/plain": [
       "123"
      ]
     },
     "execution_count": 32,
     "metadata": {},
     "output_type": "execute_result"
    }
   ],
   "source": [
    "1234//10"
   ]
  },
  {
   "cell_type": "code",
   "execution_count": 33,
   "id": "2b470ad2-5bf1-49ed-8de8-d9acf97a3f88",
   "metadata": {},
   "outputs": [
    {
     "data": {
      "text/plain": [
       "3"
      ]
     },
     "execution_count": 33,
     "metadata": {},
     "output_type": "execute_result"
    }
   ],
   "source": [
    "123%10"
   ]
  },
  {
   "cell_type": "code",
   "execution_count": 34,
   "id": "fe4ec938-1675-456e-8884-92e82433d351",
   "metadata": {},
   "outputs": [
    {
     "data": {
      "text/plain": [
       "12"
      ]
     },
     "execution_count": 34,
     "metadata": {},
     "output_type": "execute_result"
    }
   ],
   "source": [
    "123//10"
   ]
  },
  {
   "cell_type": "code",
   "execution_count": 35,
   "id": "67ef46eb-47a6-43e1-bae5-5d75d7f7b372",
   "metadata": {},
   "outputs": [
    {
     "data": {
      "text/plain": [
       "1"
      ]
     },
     "execution_count": 35,
     "metadata": {},
     "output_type": "execute_result"
    }
   ],
   "source": [
    "12//10"
   ]
  },
  {
   "cell_type": "code",
   "execution_count": 36,
   "id": "7eac7c1f-29df-4975-8fac-4daed4bf0536",
   "metadata": {},
   "outputs": [
    {
     "data": {
      "text/plain": [
       "0"
      ]
     },
     "execution_count": 36,
     "metadata": {},
     "output_type": "execute_result"
    }
   ],
   "source": [
    "1//10"
   ]
  },
  {
   "cell_type": "code",
   "execution_count": null,
   "id": "660c397e-3e3f-4691-8b5e-f498fcdbbd2d",
   "metadata": {},
   "outputs": [],
   "source": []
  }
 ],
 "metadata": {
  "kernelspec": {
   "display_name": "Python [conda env:base] *",
   "language": "python",
   "name": "conda-base-py"
  },
  "language_info": {
   "codemirror_mode": {
    "name": "ipython",
    "version": 3
   },
   "file_extension": ".py",
   "mimetype": "text/x-python",
   "name": "python",
   "nbconvert_exporter": "python",
   "pygments_lexer": "ipython3",
   "version": "3.12.7"
  }
 },
 "nbformat": 4,
 "nbformat_minor": 5
}
