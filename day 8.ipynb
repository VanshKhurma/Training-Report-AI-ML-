{
 "cells": [
  {
   "cell_type": "code",
   "execution_count": null,
   "id": "27d78d5f-c825-4789-8596-f5d3e338db23",
   "metadata": {},
   "outputs": [],
   "source": [
    "use of self"
   ]
  },
  {
   "cell_type": "code",
   "execution_count": null,
   "id": "5d1b252c-0c68-4f4c-8cc9-1c999aca6742",
   "metadata": {},
   "outputs": [],
   "source": [
    "class student:\n",
    "    def __init__(self):\n",
    "        "
   ]
  },
  {
   "cell_type": "code",
   "execution_count": null,
   "id": "a9218fa4-0188-4adc-8696-4ebf2d772b22",
   "metadata": {},
   "outputs": [],
   "source": [
    "#dundder or magic method\n",
    "#__init__ and __str__"
   ]
  },
  {
   "cell_type": "code",
   "execution_count": 211,
   "id": "cfbbb942-2b1d-45fa-97e5-f03c9b5bea95",
   "metadata": {},
   "outputs": [],
   "source": [
    "class point:\n",
    "    def __init__(self, x, y):\n",
    "        self.x=x\n",
    "        self.y=y\n",
    "    def __str__(self):\n",
    "        return f\"({self.x},{self.y})\"\n",
    "    def __add__(self,other):\n",
    "        return self.x*other.x + self.y*other.y\n",
    "    def __sub__(self,other):\n",
    "        return self.x*other.x - self.y*other.y         "
   ]
  },
  {
   "cell_type": "code",
   "execution_count": 212,
   "id": "bb0f7e52-6c4b-4a08-90c6-0f6999846813",
   "metadata": {},
   "outputs": [],
   "source": [
    "a=point(1,3)\n",
    "b=point(2,3)"
   ]
  },
  {
   "cell_type": "code",
   "execution_count": 213,
   "id": "791fc111-22e8-4a63-985f-22144afa1409",
   "metadata": {},
   "outputs": [
    {
     "name": "stdout",
     "output_type": "stream",
     "text": [
      "(1,3) (2,3)\n"
     ]
    }
   ],
   "source": [
    "print(a,b)"
   ]
  },
  {
   "cell_type": "code",
   "execution_count": 210,
   "id": "b6a66b51-1501-456d-b6ca-e618f7103158",
   "metadata": {},
   "outputs": [
    {
     "name": "stdout",
     "output_type": "stream",
     "text": [
      "12\n"
     ]
    }
   ],
   "source": [
    "print(f\"{a + b}\")"
   ]
  },
  {
   "cell_type": "code",
   "execution_count": 206,
   "id": "b637c097-307d-4c29-b4e1-aee829d3530e",
   "metadata": {},
   "outputs": [],
   "source": [
    "class fraction:\n",
    "    def __init__(self, numer, denom):\n",
    "        self.numer=numer\n",
    "        self.denom=denom\n",
    "    def __str__(self):\n",
    "        return f\"{self.numer}/{self.denom}\"\n",
    "    def __add__(self, other):\n",
    "        new_num = self.numer*other.denom + other.numer*self.denom\n",
    "        new_den = self.denom*other.denom \n",
    "        return fraction(new_num, new_den)\n",
    "        \n",
    "    def __sub__(self, other):\n",
    "        new_num = self.numer*other.denom - other.numer*self.denom\n",
    "        new_den = self.denom*other.denom \n",
    "        return fraction(new_num, new_den)\n",
    "\n",
    "    def __mul__(self, other):\n",
    "        new_num = self.numer*other.denom * other.numer*self.denom\n",
    "        new_den = self.denom*other.denom \n",
    "        return fraction(new_num, new_den)\n",
    "\n",
    "    def __truediv__(self, other):\n",
    "        new_num = self.numer*other.denom / other.numer*self.denom\n",
    "        new_den = self.denom*other.denom \n",
    "        return fraction(new_num, new_den)"
   ]
  },
  {
   "cell_type": "code",
   "execution_count": 153,
   "id": "355e0794-2127-41f6-a72a-97678da997a7",
   "metadata": {},
   "outputs": [],
   "source": [
    "a=fraction(1,2)\n",
    "b=fraction(1,3)"
   ]
  },
  {
   "cell_type": "code",
   "execution_count": 154,
   "id": "9cfa7127-0db1-4c06-b47c-e958b9896b78",
   "metadata": {},
   "outputs": [
    {
     "name": "stdout",
     "output_type": "stream",
     "text": [
      "1/2\n"
     ]
    }
   ],
   "source": [
    "print(a)"
   ]
  },
  {
   "cell_type": "code",
   "execution_count": 155,
   "id": "54864897-a464-4e6e-bbe8-4a48cc2ff0c2",
   "metadata": {},
   "outputs": [
    {
     "name": "stdout",
     "output_type": "stream",
     "text": [
      "5/6\n"
     ]
    }
   ],
   "source": [
    "print(f\"{a + b}\")"
   ]
  },
  {
   "cell_type": "code",
   "execution_count": 156,
   "id": "796bd7b6-e3c1-497a-a522-e03750c85f90",
   "metadata": {},
   "outputs": [
    {
     "name": "stdout",
     "output_type": "stream",
     "text": [
      "1/6\n"
     ]
    }
   ],
   "source": [
    "print(f\"{(a) - (b)}\")"
   ]
  },
  {
   "cell_type": "code",
   "execution_count": 158,
   "id": "04fe8a5e-4297-4b41-b329-dc21b040f300",
   "metadata": {},
   "outputs": [
    {
     "name": "stdout",
     "output_type": "stream",
     "text": [
      "6/6\n"
     ]
    }
   ],
   "source": [
    "print(f\"{(a) * (b)}\")"
   ]
  },
  {
   "cell_type": "code",
   "execution_count": 159,
   "id": "96ae6015-1e61-4f6a-bc7e-346e784e8130",
   "metadata": {},
   "outputs": [
    {
     "name": "stdout",
     "output_type": "stream",
     "text": [
      "6.0/6\n"
     ]
    }
   ],
   "source": [
    "print(f\"{(a) / (b)}\")"
   ]
  },
  {
   "cell_type": "code",
   "execution_count": 285,
   "id": "b6bcba60-80fc-44cf-99ca-b26d776c5577",
   "metadata": {},
   "outputs": [],
   "source": [
    "class Circle:\n",
    "    def __init__(self, radius):\n",
    "        self.radius = radius\n",
    "        \n",
    "    def perimeter(self):\n",
    "        import math\n",
    "        return 2 * math.pi * self.radius\n",
    "        \n",
    "    def area(self):\n",
    "        import math\n",
    "        return math.pi * self.radius ** 2"
   ]
  },
  {
   "cell_type": "code",
   "execution_count": 178,
   "id": "0f5ac8e7-616f-4721-bc5f-a8b016d5cd7d",
   "metadata": {},
   "outputs": [],
   "source": [
    "circle=Circle(5)"
   ]
  },
  {
   "cell_type": "code",
   "execution_count": 179,
   "id": "f79b9ba5-271e-4c77-921f-737d29d02b07",
   "metadata": {},
   "outputs": [
    {
     "name": "stdout",
     "output_type": "stream",
     "text": [
      "Perimeter: 31.41592653589793\n"
     ]
    }
   ],
   "source": [
    "print(f\"Perimeter: {circle.perimeter()}\")"
   ]
  },
  {
   "cell_type": "code",
   "execution_count": 180,
   "id": "369b335d-e8fd-425a-b985-6c011ab9323d",
   "metadata": {},
   "outputs": [
    {
     "name": "stdout",
     "output_type": "stream",
     "text": [
      "Area: 78.53981633974483\n"
     ]
    }
   ],
   "source": [
    "print(f\"Area: {circle.area()}\")"
   ]
  },
  {
   "cell_type": "code",
   "execution_count": 259,
   "id": "e99e1f6f-f13d-4b5c-98b9-2b5c15c69cd1",
   "metadata": {},
   "outputs": [],
   "source": [
    "class calculator:\n",
    "    def __init__(self,a,b):\n",
    "        self.a=a\n",
    "        self.b=b\n",
    "        \n",
    "    def __str__(self):\n",
    "        return f\"({self.a},{self.b})\"\n",
    "        \n",
    "    def __add__(self, other):\n",
    "        return self.a*other.a + self.b*other.b\n",
    "        \n",
    "    def __sub__(self, other):\n",
    "        return self.a*other.a - self.b*other.b\n",
    "        \n",
    "    def __mul__(self, other):\n",
    "        return self.a*other.a * self.b*other.b\n",
    "        \n",
    "    def __truediv__(self, other):\n",
    "        return self.a*other.a / self.b*other.b"
   ]
  },
  {
   "cell_type": "code",
   "execution_count": 260,
   "id": "ae46e926-8da8-463d-a138-b8a2a54d44b9",
   "metadata": {},
   "outputs": [],
   "source": [
    "a=calculator(2,3)\n",
    "b=calculator(3,1)"
   ]
  },
  {
   "cell_type": "code",
   "execution_count": 261,
   "id": "726c5994-12ca-488b-a4d8-e94436a7004d",
   "metadata": {},
   "outputs": [
    {
     "name": "stdout",
     "output_type": "stream",
     "text": [
      "(2,3)\n"
     ]
    }
   ],
   "source": [
    "print (a)"
   ]
  },
  {
   "cell_type": "code",
   "execution_count": 262,
   "id": "d9de8f76-c7bb-4053-b602-89fcf11aed52",
   "metadata": {},
   "outputs": [
    {
     "name": "stdout",
     "output_type": "stream",
     "text": [
      "9\n"
     ]
    }
   ],
   "source": [
    "print(f\"{a + b}\")"
   ]
  },
  {
   "cell_type": "code",
   "execution_count": 258,
   "id": "781c2be4-e289-42ba-b19a-c2701fee6291",
   "metadata": {},
   "outputs": [
    {
     "name": "stdout",
     "output_type": "stream",
     "text": [
      "3\n"
     ]
    }
   ],
   "source": [
    "print(f\"{a - b}\")"
   ]
  },
  {
   "cell_type": "code",
   "execution_count": 263,
   "id": "339e1e1f-6ed1-478b-96cd-2a5137c6f14d",
   "metadata": {},
   "outputs": [
    {
     "name": "stdout",
     "output_type": "stream",
     "text": [
      "18\n"
     ]
    }
   ],
   "source": [
    "print(f\"{a * b}\")"
   ]
  },
  {
   "cell_type": "code",
   "execution_count": 264,
   "id": "0fa8aa09-4e14-4a45-9459-ea5a7d49dadb",
   "metadata": {},
   "outputs": [
    {
     "name": "stdout",
     "output_type": "stream",
     "text": [
      "2.0\n"
     ]
    }
   ],
   "source": [
    "print(f\"{a / b}\")"
   ]
  },
  {
   "cell_type": "code",
   "execution_count": 265,
   "id": "32ab9de1-84ee-4b42-98f9-5803d829d352",
   "metadata": {},
   "outputs": [],
   "source": [
    "class calculator:\n",
    "    def __init__(self,a):\n",
    "        self.a=a\n",
    "        \n",
    "    def __str__(self):\n",
    "        return f\"({self.a})\"\n",
    "        \n",
    "    def __add__(self, other):\n",
    "        return self.a + other.a\n",
    "        \n",
    "    def __sub__(self, other):\n",
    "        return self.a - other.a\n",
    "        \n",
    "    def __mul__(self, other):\n",
    "        return self.a * other.a\n",
    "        \n",
    "    def __truediv__(self, other):\n",
    "        return self.a / other.a"
   ]
  },
  {
   "cell_type": "code",
   "execution_count": 272,
   "id": "522f7c71-2c4e-4dba-ace2-230b0b67d312",
   "metadata": {},
   "outputs": [],
   "source": [
    "a=calculator(3)\n",
    "b=calculator(2)"
   ]
  },
  {
   "cell_type": "code",
   "execution_count": 273,
   "id": "2ebd2d43-6cea-4ffa-b031-1980558f5827",
   "metadata": {},
   "outputs": [
    {
     "name": "stdout",
     "output_type": "stream",
     "text": [
      "(3) (2)\n"
     ]
    }
   ],
   "source": [
    "print (a,b)"
   ]
  },
  {
   "cell_type": "code",
   "execution_count": 274,
   "id": "9a406190-8e91-4645-b718-1d0b0ec06df6",
   "metadata": {},
   "outputs": [
    {
     "name": "stdout",
     "output_type": "stream",
     "text": [
      "5\n"
     ]
    }
   ],
   "source": [
    "print (f\"{a+b}\")"
   ]
  },
  {
   "cell_type": "code",
   "execution_count": 275,
   "id": "c88995a8-d41f-48c3-8d49-b5ce1387e431",
   "metadata": {},
   "outputs": [
    {
     "name": "stdout",
     "output_type": "stream",
     "text": [
      "1\n"
     ]
    }
   ],
   "source": [
    "print (f\"{a-b}\")"
   ]
  },
  {
   "cell_type": "code",
   "execution_count": 276,
   "id": "828e3542-0cf2-4b99-aec8-b807df33d0ca",
   "metadata": {},
   "outputs": [
    {
     "name": "stdout",
     "output_type": "stream",
     "text": [
      "6\n"
     ]
    }
   ],
   "source": [
    "print (f\"{a*b}\")"
   ]
  },
  {
   "cell_type": "code",
   "execution_count": 295,
   "id": "b4d4b31d-22cf-475c-a215-0e55b7258b49",
   "metadata": {},
   "outputs": [
    {
     "name": "stdout",
     "output_type": "stream",
     "text": [
      "1.5\n"
     ]
    }
   ],
   "source": [
    "print (f\"{a/b}\")"
   ]
  },
  {
   "cell_type": "code",
   "execution_count": 359,
   "id": "de2d0dd1-90e5-4fcc-8c70-410177343807",
   "metadata": {},
   "outputs": [
    {
     "data": {
      "text/plain": [
       "7"
      ]
     },
     "execution_count": 359,
     "metadata": {},
     "output_type": "execute_result"
    }
   ],
   "source": [
    "import datetime\n",
    "datetime.datetime.now().month"
   ]
  },
  {
   "cell_type": "code",
   "execution_count": 373,
   "id": "fc112655-bd71-4c9d-9793-284664a914c7",
   "metadata": {},
   "outputs": [],
   "source": [
    "class person:\n",
    "    def __init__(self, name, country, date_of_birth):\n",
    "        self.name=name\n",
    "        self.country=country\n",
    "        self.date_of_birth = date_of_birth\n",
    "        \n",
    "    def get_age(self):\n",
    "        today = datetime.today()\n",
    "        age = today.year - self.date_of_birth.year"
   ]
  },
  {
   "cell_type": "code",
   "execution_count": 374,
   "id": "56928b80-327e-4f86-b6e5-560fd03aa641",
   "metadata": {},
   "outputs": [],
   "source": [
    "class dob:\n",
    "    def __init__(self, y, m, d):\n",
    "        self.year=y\n",
    "        self.month=m\n",
    "        self.date=d\n",
    "        \n",
    "        "
   ]
  },
  {
   "cell_type": "code",
   "execution_count": null,
   "id": "d57adac9-81e5-4a57-a534-5fb31f22acf5",
   "metadata": {},
   "outputs": [],
   "source": []
  },
  {
   "cell_type": "code",
   "execution_count": null,
   "id": "44455e4e-4aea-44b5-b977-a6512498df8a",
   "metadata": {},
   "outputs": [],
   "source": []
  },
  {
   "cell_type": "code",
   "execution_count": 369,
   "id": "f6bd4044-7490-4f8f-aa37-0e96c954834d",
   "metadata": {},
   "outputs": [],
   "source": [
    "a=dob(2000,12,23)"
   ]
  },
  {
   "cell_type": "code",
   "execution_count": null,
   "id": "0704a0fd-0d3b-48e3-aca2-9d43d93b190f",
   "metadata": {},
   "outputs": [],
   "source": []
  },
  {
   "cell_type": "code",
   "execution_count": null,
   "id": "138baf1c-cdaa-45db-9e1d-6e1b24425fbf",
   "metadata": {},
   "outputs": [],
   "source": []
  },
  {
   "cell_type": "code",
   "execution_count": 372,
   "id": "b4f2ac0a-0885-4360-b17e-e7b640ab2b6a",
   "metadata": {},
   "outputs": [],
   "source": [
    "p = person(\"Vansh\", \"India\", a)"
   ]
  },
  {
   "cell_type": "code",
   "execution_count": 362,
   "id": "5cc1c874-860b-4f1d-87cf-3f89a03e659e",
   "metadata": {},
   "outputs": [
    {
     "data": {
      "text/plain": [
       "2000"
      ]
     },
     "execution_count": 362,
     "metadata": {},
     "output_type": "execute_result"
    }
   ],
   "source": [
    "a.year"
   ]
  },
  {
   "cell_type": "code",
   "execution_count": null,
   "id": "2b43863d-0717-46dc-a5d6-021a502c00d3",
   "metadata": {},
   "outputs": [],
   "source": []
  },
  {
   "cell_type": "code",
   "execution_count": 352,
   "id": "62ced64f-8e7b-4e23-ba9f-f0ae198eb1e5",
   "metadata": {},
   "outputs": [],
   "source": [
    "from datetime import datetime\n",
    "class Person:\n",
    "    def __init__(self, name, country, date_of_birth):\n",
    "        self.name = name\n",
    "        self.country = country\n",
    "        self.date_of_birth = datetime.strptime(date_of_birth, '%Y-%m-%d')\n",
    "    \n",
    "    def get_age(self):\n",
    "        today = datetime.today()\n",
    "        age = today.year - self.date_of_birth.year\n",
    "        if (today.month, today.day) < (self.date_of_birth.month, self.date_of_birth.day):\n",
    "            age -= 1\n",
    "        return age\n",
    "\n",
    "   \n",
    "    def display_info(self):\n",
    "        print(f\"Name: {self.name}\")\n",
    "        print(f\"Country: {self.country}\")\n",
    "        print(f\"Date of Birth: {self.date_of_birth.date()}\")\n",
    "        print(f\"Age: {self.get_age()} years\")\n"
   ]
  },
  {
   "cell_type": "code",
   "execution_count": null,
   "id": "1af8de65-7ce6-4dab-82f3-47d25183a21e",
   "metadata": {},
   "outputs": [],
   "source": []
  },
  {
   "cell_type": "code",
   "execution_count": 353,
   "id": "cd58f74d-dae2-49fa-9271-ae38d960f20d",
   "metadata": {},
   "outputs": [
    {
     "name": "stdout",
     "output_type": "stream",
     "text": [
      "Name: Vansh\n",
      "Country: India\n",
      "Date of Birth: 2005-01-22\n",
      "Age: 20 years\n"
     ]
    }
   ],
   "source": [
    "person = Person(\"Vansh\", \"India\", \"2005-01-22\")\n",
    "person.display_info()"
   ]
  },
  {
   "cell_type": "code",
   "execution_count": 354,
   "id": "494d4603-a075-4e6c-950d-47f0d22a0ac0",
   "metadata": {},
   "outputs": [],
   "source": [
    "class ShoppingCart:\n",
    "    def __init__(self):\n",
    "        self.items = {} \n",
    "\n",
    "    def add_item(self, item_name, price):\n",
    "        if item_name in self.items:\n",
    "            self.items[item_name] += price  \n",
    "        else:\n",
    "            self.items[item_name] = price\n",
    "        print(f\"Added {item_name} for ₹{price:.2f}\")\n",
    "\n",
    "    def remove_item(self, item_name):\n",
    "        if item_name in self.items:\n",
    "            del self.items[item_name]\n",
    "            print(f\"Removed {item_name}\")\n",
    "        else:\n",
    "            print(f\"{item_name} not found in cart.\")\n",
    "\n",
    "    def calculate_total(self):\n",
    "        total = sum(self.items.values())\n",
    "        return total\n",
    "\n",
    "    def display_cart(self):\n",
    "        if not self.items:\n",
    "            print(\"Cart is empty.\")\n",
    "        else:\n",
    "            print(\"Items in cart:\")\n",
    "            for item, price in self.items.items():\n",
    "                print(f\"- {item}: ₹{price:.2f}\")\n",
    "            print(f\"Total: ₹{self.calculate_total():.2f}\")\n",
    "\n",
    "\n",
    "\n"
   ]
  },
  {
   "cell_type": "code",
   "execution_count": 355,
   "id": "d2953343-441f-40ec-8900-dd78454df4f4",
   "metadata": {},
   "outputs": [],
   "source": [
    "cart = ShoppingCart()"
   ]
  },
  {
   "cell_type": "code",
   "execution_count": 356,
   "id": "28b2738e-771b-48ac-94db-d676df97496f",
   "metadata": {},
   "outputs": [
    {
     "name": "stdout",
     "output_type": "stream",
     "text": [
      "Added Laptop for ₹60000.00\n",
      "Added Mouse for ₹500.00\n",
      "Added Keyboard for ₹1500.00\n",
      "Items in cart:\n",
      "- Laptop: ₹60000.00\n",
      "- Mouse: ₹500.00\n",
      "- Keyboard: ₹1500.00\n",
      "Total: ₹62000.00\n",
      "Removed Mouse\n",
      "Items in cart:\n",
      "- Laptop: ₹60000.00\n",
      "- Keyboard: ₹1500.00\n",
      "Total: ₹61500.00\n"
     ]
    }
   ],
   "source": [
    "cart.add_item(\"Laptop\", 60000)\n",
    "cart.add_item(\"Mouse\", 500)\n",
    "cart.add_item(\"Keyboard\", 1500)\n",
    "cart.display_cart()\n",
    "\n",
    "cart.remove_item(\"Mouse\")\n",
    "cart.display_cart()\n"
   ]
  },
  {
   "cell_type": "code",
   "execution_count": null,
   "id": "937fd2a0-b48e-4bbc-8edd-37d32ae4e594",
   "metadata": {},
   "outputs": [],
   "source": []
  }
 ],
 "metadata": {
  "kernelspec": {
   "display_name": "Python [conda env:base] *",
   "language": "python",
   "name": "conda-base-py"
  },
  "language_info": {
   "codemirror_mode": {
    "name": "ipython",
    "version": 3
   },
   "file_extension": ".py",
   "mimetype": "text/x-python",
   "name": "python",
   "nbconvert_exporter": "python",
   "pygments_lexer": "ipython3",
   "version": "3.12.7"
  }
 },
 "nbformat": 4,
 "nbformat_minor": 5
}
