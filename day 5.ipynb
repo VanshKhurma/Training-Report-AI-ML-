{
 "cells": [
  {
   "cell_type": "markdown",
   "id": "7f9a3e64-9025-4e87-8835-b6d34a67bb21",
   "metadata": {},
   "source": []
  },
  {
   "cell_type": "code",
   "execution_count": 16,
   "id": "4034e455-c74c-4670-8ac5-087d2a5379b5",
   "metadata": {},
   "outputs": [
    {
     "name": "stdout",
     "output_type": "stream",
     "text": [
      "12\n"
     ]
    }
   ],
   "source": [
    "x=lambda a,b:a*b\n",
    "print(x(3,4))"
   ]
  },
  {
   "cell_type": "raw",
   "id": "35cfc661-3cf1-40f5-a47f-7371dae14cb9",
   "metadata": {},
   "source": []
  },
  {
   "cell_type": "code",
   "execution_count": 3,
   "id": "130c8d07-9fe8-4e93-831e-2237b7e98643",
   "metadata": {},
   "outputs": [
    {
     "name": "stdout",
     "output_type": "stream",
     "text": [
      "16\n"
     ]
    }
   ],
   "source": [
    "x=lambda a:a*a\n",
    "print(x(4))"
   ]
  },
  {
   "cell_type": "code",
   "execution_count": 8,
   "id": "9075453b-746b-4789-b5b4-defa5c2eb591",
   "metadata": {},
   "outputs": [
    {
     "name": "stdout",
     "output_type": "stream",
     "text": [
      "False\n"
     ]
    }
   ],
   "source": [
    "def is_even(n):\n",
    "    return n%2==0\n",
    "\n",
    "print(is_even(5))"
   ]
  },
  {
   "cell_type": "code",
   "execution_count": 13,
   "id": "72cf869c-11bd-430b-8949-b500059420bd",
   "metadata": {},
   "outputs": [
    {
     "name": "stdout",
     "output_type": "stream",
     "text": [
      "False\n",
      "True\n"
     ]
    }
   ],
   "source": [
    "x=lambda a: a.startswith('A')\n",
    "print(x('Vansh'))\n",
    "print(x('Ansh'))"
   ]
  },
  {
   "cell_type": "code",
   "execution_count": null,
   "id": "6c06815a-4ed0-4a30-bf00-8a1ad5849c68",
   "metadata": {},
   "outputs": [],
   "source": []
  }
 ],
 "metadata": {
  "kernelspec": {
   "display_name": "Python [conda env:base] *",
   "language": "python",
   "name": "conda-base-py"
  },
  "language_info": {
   "codemirror_mode": {
    "name": "ipython",
    "version": 3
   },
   "file_extension": ".py",
   "mimetype": "text/x-python",
   "name": "python",
   "nbconvert_exporter": "python",
   "pygments_lexer": "ipython3",
   "version": "3.12.7"
  }
 },
 "nbformat": 4,
 "nbformat_minor": 5
}
