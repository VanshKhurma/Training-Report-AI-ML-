{
 "cells": [
  {
   "cell_type": "code",
   "execution_count": null,
   "id": "3261c58c-0d18-473c-8cb0-d5cf6cc97837",
   "metadata": {},
   "outputs": [],
   "source": [
    "use of numpy"
   ]
  },
  {
   "cell_type": "code",
   "execution_count": 5,
   "id": "48832096-3c63-4f22-853e-3d4b583a6dd5",
   "metadata": {},
   "outputs": [
    {
     "name": "stdout",
     "output_type": "stream",
     "text": [
      "Requirement already satisfied: numpy in /Users/vansh/training/anaconda3/lib/python3.12/site-packages (1.26.4)\n",
      "Note: you may need to restart the kernel to use updated packages.\n"
     ]
    }
   ],
   "source": [
    "pip install numpy"
   ]
  },
  {
   "cell_type": "code",
   "execution_count": 16,
   "id": "62ed6135-fe2c-4d51-bc1e-e4f7a2ce024f",
   "metadata": {},
   "outputs": [],
   "source": [
    "import numpy as np"
   ]
  },
  {
   "cell_type": "code",
   "execution_count": 17,
   "id": "954864de-3319-4f9b-a1af-9dbfc2177163",
   "metadata": {},
   "outputs": [
    {
     "name": "stdout",
     "output_type": "stream",
     "text": [
      "[8 3 4 5 6]\n"
     ]
    }
   ],
   "source": [
    "a = np.array([8,3,4,5,6])\n",
    "print(a)"
   ]
  },
  {
   "cell_type": "code",
   "execution_count": 70,
   "id": "d5c82617-6eaf-48f0-9ea4-d30787904c8f",
   "metadata": {},
   "outputs": [],
   "source": [
    "a[1:-1,1:-1]=b"
   ]
  },
  {
   "cell_type": "code",
   "execution_count": 62,
   "id": "00565826-e6b3-4fd4-83a5-62e9cbcaa9bb",
   "metadata": {},
   "outputs": [],
   "source": [
    "a=np.ones([5,5], dtype=\"int\")"
   ]
  },
  {
   "cell_type": "code",
   "execution_count": 63,
   "id": "677accdb-490f-4208-8d86-3c8c8785de08",
   "metadata": {},
   "outputs": [],
   "source": [
    "b=np.zeros([3,3], dtype=\"int\")"
   ]
  },
  {
   "cell_type": "code",
   "execution_count": 66,
   "id": "525b2bbd-4733-4c27-adf1-80641c688e3d",
   "metadata": {},
   "outputs": [],
   "source": [
    "b[1,1]=9"
   ]
  },
  {
   "cell_type": "code",
   "execution_count": 67,
   "id": "9f223584-0524-4367-90fc-821057cf2ae7",
   "metadata": {},
   "outputs": [
    {
     "data": {
      "text/plain": [
       "array([[0, 0, 0],\n",
       "       [0, 9, 0],\n",
       "       [0, 0, 0]])"
      ]
     },
     "execution_count": 67,
     "metadata": {},
     "output_type": "execute_result"
    }
   ],
   "source": [
    "b"
   ]
  },
  {
   "cell_type": "code",
   "execution_count": 73,
   "id": "18b64d7f-802b-43ae-9d65-bf7f89b8bcb8",
   "metadata": {},
   "outputs": [
    {
     "data": {
      "text/plain": [
       "array([[1, 1, 1, 1, 1],\n",
       "       [1, 0, 0, 0, 1],\n",
       "       [1, 0, 9, 0, 1],\n",
       "       [1, 0, 0, 0, 1],\n",
       "       [1, 1, 1, 1, 1]])"
      ]
     },
     "execution_count": 73,
     "metadata": {},
     "output_type": "execute_result"
    }
   ],
   "source": [
    "a"
   ]
  },
  {
   "cell_type": "code",
   "execution_count": 76,
   "id": "d38067dc-ba59-4303-867f-83afd38a9c39",
   "metadata": {},
   "outputs": [
    {
     "data": {
      "text/plain": [
       "array([[25, 21, 22, 29],\n",
       "       [22, 27, 24, 22],\n",
       "       [24, 16, 22, 29],\n",
       "       [20, 13, 20, 18],\n",
       "       [15, 21, 22, 21]])"
      ]
     },
     "execution_count": 76,
     "metadata": {},
     "output_type": "execute_result"
    }
   ],
   "source": [
    "np.random.randint(12,30,size=(5,4))"
   ]
  },
  {
   "cell_type": "code",
   "execution_count": 82,
   "id": "32ce72cf-623f-4554-8047-e600896a3493",
   "metadata": {},
   "outputs": [],
   "source": [
    "arr = np.array([1, 2, 3, 4, 5])\n",
    "reversed_arr = arr[::-1]"
   ]
  },
  {
   "cell_type": "code",
   "execution_count": 81,
   "id": "dfd9a3f5-9599-4d03-b0eb-cfaee27897ae",
   "metadata": {},
   "outputs": [
    {
     "data": {
      "text/plain": [
       "array([5, 4, 3, 2, 1])"
      ]
     },
     "execution_count": 81,
     "metadata": {},
     "output_type": "execute_result"
    }
   ],
   "source": [
    "reversed_arr"
   ]
  },
  {
   "cell_type": "code",
   "execution_count": 87,
   "id": "6b4932ce-3e49-4c35-83d9-d1fbe1316f65",
   "metadata": {},
   "outputs": [
    {
     "name": "stdout",
     "output_type": "stream",
     "text": [
      "[[ 2  3  4]\n",
      " [ 5  6  7]\n",
      " [ 8  9 10]]\n"
     ]
    }
   ],
   "source": [
    "a= np.array([[2,3,4],[5,6,7],[8,9,10]])\n",
    "print (a)"
   ]
  },
  {
   "cell_type": "code",
   "execution_count": 128,
   "id": "c7a78dc2-cad7-468e-a644-20055d65ea19",
   "metadata": {},
   "outputs": [],
   "source": [
    "a=np.ones([8,8], dtype=\"int\")"
   ]
  },
  {
   "cell_type": "code",
   "execution_count": 129,
   "id": "50950198-3874-4f07-bbf6-e2e70a38203f",
   "metadata": {},
   "outputs": [
    {
     "data": {
      "text/plain": [
       "array([[1, 1, 1, 1, 1, 1, 1, 1],\n",
       "       [1, 1, 1, 1, 1, 1, 1, 1],\n",
       "       [1, 1, 1, 1, 1, 1, 1, 1],\n",
       "       [1, 1, 1, 1, 1, 1, 1, 1],\n",
       "       [1, 1, 1, 1, 1, 1, 1, 1],\n",
       "       [1, 1, 1, 1, 1, 1, 1, 1],\n",
       "       [1, 1, 1, 1, 1, 1, 1, 1],\n",
       "       [1, 1, 1, 1, 1, 1, 1, 1]])"
      ]
     },
     "execution_count": 129,
     "metadata": {},
     "output_type": "execute_result"
    }
   ],
   "source": [
    "a"
   ]
  },
  {
   "cell_type": "code",
   "execution_count": null,
   "id": "d38e8513-aeed-4bb5-9bff-cd9b54da2ac2",
   "metadata": {},
   "outputs": [],
   "source": []
  },
  {
   "cell_type": "code",
   "execution_count": 134,
   "id": "2710a133-775f-4531-8f23-4ba828aca695",
   "metadata": {},
   "outputs": [],
   "source": [
    "a[0:-1:2,0:-1:2]=0"
   ]
  },
  {
   "cell_type": "code",
   "execution_count": 135,
   "id": "5df26dab-eeea-4659-a839-ed36305f707a",
   "metadata": {},
   "outputs": [
    {
     "data": {
      "text/plain": [
       "array([[0, 1, 0, 1, 0, 1, 0, 1],\n",
       "       [1, 0, 1, 0, 1, 0, 1, 0],\n",
       "       [0, 1, 0, 1, 0, 1, 0, 1],\n",
       "       [1, 0, 1, 0, 1, 0, 1, 0],\n",
       "       [0, 1, 0, 1, 0, 1, 0, 1],\n",
       "       [1, 0, 1, 0, 1, 0, 1, 0],\n",
       "       [0, 1, 0, 1, 0, 1, 0, 1],\n",
       "       [1, 0, 1, 0, 1, 0, 1, 0]])"
      ]
     },
     "execution_count": 135,
     "metadata": {},
     "output_type": "execute_result"
    }
   ],
   "source": [
    "a"
   ]
  },
  {
   "cell_type": "code",
   "execution_count": 136,
   "id": "2114422d-1ff3-4ded-a052-21b32aa2be9b",
   "metadata": {},
   "outputs": [],
   "source": [
    "a[1:8:2,1:8:2]=0"
   ]
  },
  {
   "cell_type": "code",
   "execution_count": 137,
   "id": "bbdb12fc-3dbd-4692-8c6f-c4acb39e1a82",
   "metadata": {},
   "outputs": [
    {
     "data": {
      "text/plain": [
       "array([[0, 1, 0, 1, 0, 1, 0, 1],\n",
       "       [1, 0, 1, 0, 1, 0, 1, 0],\n",
       "       [0, 1, 0, 1, 0, 1, 0, 1],\n",
       "       [1, 0, 1, 0, 1, 0, 1, 0],\n",
       "       [0, 1, 0, 1, 0, 1, 0, 1],\n",
       "       [1, 0, 1, 0, 1, 0, 1, 0],\n",
       "       [0, 1, 0, 1, 0, 1, 0, 1],\n",
       "       [1, 0, 1, 0, 1, 0, 1, 0]])"
      ]
     },
     "execution_count": 137,
     "metadata": {},
     "output_type": "execute_result"
    }
   ],
   "source": [
    "a"
   ]
  },
  {
   "cell_type": "code",
   "execution_count": null,
   "id": "2165f485-9da5-4b1f-8b75-4af365c2da2f",
   "metadata": {},
   "outputs": [],
   "source": []
  },
  {
   "cell_type": "code",
   "execution_count": null,
   "id": "a903bab7-bef2-4384-b431-b333b91ace2b",
   "metadata": {},
   "outputs": [],
   "source": []
  },
  {
   "cell_type": "code",
   "execution_count": null,
   "id": "2dd1b739-421b-4c95-a9ee-cbb1d4341455",
   "metadata": {},
   "outputs": [],
   "source": []
  }
 ],
 "metadata": {
  "kernelspec": {
   "display_name": "Python [conda env:base] *",
   "language": "python",
   "name": "conda-base-py"
  },
  "language_info": {
   "codemirror_mode": {
    "name": "ipython",
    "version": 3
   },
   "file_extension": ".py",
   "mimetype": "text/x-python",
   "name": "python",
   "nbconvert_exporter": "python",
   "pygments_lexer": "ipython3",
   "version": "3.12.7"
  }
 },
 "nbformat": 4,
 "nbformat_minor": 5
}
