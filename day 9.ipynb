{
 "cells": [
  {
   "cell_type": "code",
   "execution_count": 5,
   "id": "8cc73ac3-650f-4c59-81fa-463a1d705cba",
   "metadata": {},
   "outputs": [],
   "source": [
    "a=list([1,2,3])"
   ]
  },
  {
   "cell_type": "code",
   "execution_count": 6,
   "id": "902f98ad-d94b-45d0-a4fb-865522845a2c",
   "metadata": {},
   "outputs": [
    {
     "name": "stdout",
     "output_type": "stream",
     "text": [
      "<class 'list'>\n"
     ]
    }
   ],
   "source": [
    "print(type(a))"
   ]
  },
  {
   "cell_type": "code",
   "execution_count": null,
   "id": "2f65bd95-4bae-4d03-a1a4-37becab2b193",
   "metadata": {},
   "outputs": [],
   "source": [
    "#class car\n",
    "#attributes -- wheels stearing airbag\n",
    "#meathods -- drive reverse music"
   ]
  },
  {
   "cell_type": "code",
   "execution_count": 31,
   "id": "9039623f-e8c9-4fa6-aaa3-8ded34b7fad3",
   "metadata": {},
   "outputs": [],
   "source": [
    "class Car:\n",
    "    def __init__(self,a,b,c=True):\n",
    "        self.wheels=a\n",
    "        self.stearing=b\n",
    "        self.airbag=c\n",
    "    def drive(self):\n",
    "        print(\"inside drive meathod\")\n",
    "    def reverse(self):\n",
    "        print(\"inside reverse\")"
   ]
  },
  {
   "cell_type": "code",
   "execution_count": 32,
   "id": "e5ba98ca-2abc-4d3f-a9b5-4bc5dbdce08c",
   "metadata": {},
   "outputs": [],
   "source": [
    "bmw=Car(4,1)"
   ]
  },
  {
   "cell_type": "code",
   "execution_count": 35,
   "id": "c3c2acb1-1b09-4453-84a5-8b843a9b5f88",
   "metadata": {},
   "outputs": [
    {
     "data": {
      "text/plain": [
       "True"
      ]
     },
     "execution_count": 35,
     "metadata": {},
     "output_type": "execute_result"
    }
   ],
   "source": [
    "bmw.airbag"
   ]
  },
  {
   "cell_type": "code",
   "execution_count": 34,
   "id": "50521bae-67f4-45ae-bbb6-28ebeada22ae",
   "metadata": {},
   "outputs": [
    {
     "name": "stdout",
     "output_type": "stream",
     "text": [
      "inside reverse\n"
     ]
    }
   ],
   "source": [
    "bmw.reverse()"
   ]
  },
  {
   "cell_type": "code",
   "execution_count": 36,
   "id": "b2b4cdd7-dd12-441b-b2e3-72ca3fe7dec7",
   "metadata": {},
   "outputs": [],
   "source": [
    "bmw.headlight=True"
   ]
  },
  {
   "cell_type": "code",
   "execution_count": 39,
   "id": "3d3e2a4e-b2b1-4e66-9556-30d090e38ccc",
   "metadata": {},
   "outputs": [
    {
     "data": {
      "text/plain": [
       "True"
      ]
     },
     "execution_count": 39,
     "metadata": {},
     "output_type": "execute_result"
    }
   ],
   "source": [
    "bmw.headlight"
   ]
  },
  {
   "cell_type": "code",
   "execution_count": 38,
   "id": "6ab9df01-fac5-4035-8411-cbb6c8f40898",
   "metadata": {},
   "outputs": [],
   "source": [
    "thar=Car(4,1)"
   ]
  },
  {
   "cell_type": "code",
   "execution_count": 41,
   "id": "3c3cf830-0a26-4d93-b642-e77e897a45e6",
   "metadata": {},
   "outputs": [
    {
     "data": {
      "text/plain": [
       "True"
      ]
     },
     "execution_count": 41,
     "metadata": {},
     "output_type": "execute_result"
    }
   ],
   "source": [
    "thar.airbag"
   ]
  },
  {
   "cell_type": "code",
   "execution_count": null,
   "id": "32d78696-f73f-4d5a-bd03-bde78553750b",
   "metadata": {},
   "outputs": [],
   "source": []
  },
  {
   "cell_type": "code",
   "execution_count": null,
   "id": "569ad580-7d7c-4df6-94d6-9a55b4d7d6ea",
   "metadata": {},
   "outputs": [],
   "source": []
  },
  {
   "cell_type": "code",
   "execution_count": null,
   "id": "795d6960-66eb-48c1-8907-44a180c43428",
   "metadata": {},
   "outputs": [],
   "source": []
  },
  {
   "cell_type": "code",
   "execution_count": null,
   "id": "feea1dce-44da-43cd-bfbf-65d27c795026",
   "metadata": {},
   "outputs": [],
   "source": []
  },
  {
   "cell_type": "code",
   "execution_count": null,
   "id": "b6f48fb9-f7e9-4b96-aafb-815fda163f95",
   "metadata": {},
   "outputs": [],
   "source": []
  },
  {
   "cell_type": "code",
   "execution_count": 5,
   "id": "52b9f8ea-f80c-42d6-b12b-f36666f3ccd6",
   "metadata": {},
   "outputs": [],
   "source": [
    "# syntax to create an object\n",
    "\n",
    "#objectname = classname()"
   ]
  },
  {
   "cell_type": "code",
   "execution_count": null,
   "id": "80317e4c-f950-499f-ab85-00a9790bb9e7",
   "metadata": {},
   "outputs": [],
   "source": []
  },
  {
   "cell_type": "code",
   "execution_count": null,
   "id": "dd76b17d-1afb-4604-a504-dae42e8f316b",
   "metadata": {},
   "outputs": [],
   "source": []
  },
  {
   "cell_type": "code",
   "execution_count": null,
   "id": "378c2913-db03-4f0f-9b9d-28cf80545f50",
   "metadata": {},
   "outputs": [],
   "source": []
  },
  {
   "cell_type": "code",
   "execution_count": 6,
   "id": "d64df7bd-6dd0-4e07-9a30-c0896cd34ff9",
   "metadata": {},
   "outputs": [],
   "source": [
    "# object literal\n",
    "L = [1,2,3]"
   ]
  },
  {
   "cell_type": "code",
   "execution_count": 7,
   "id": "5c2a56d1-7b95-4008-b4fa-1bcd477cc534",
   "metadata": {},
   "outputs": [
    {
     "data": {
      "text/plain": [
       "[]"
      ]
     },
     "execution_count": 7,
     "metadata": {},
     "output_type": "execute_result"
    }
   ],
   "source": [
    "L = list()\n",
    "L"
   ]
  },
  {
   "cell_type": "code",
   "execution_count": 7,
   "id": "8f117499-e87b-41ba-8756-bc2290c73c42",
   "metadata": {},
   "outputs": [],
   "source": [
    "s = str()\n",
    "s=\"asdf\""
   ]
  },
  {
   "cell_type": "code",
   "execution_count": 9,
   "id": "89354675-bdd6-427b-b32f-0d4ffb308ce2",
   "metadata": {},
   "outputs": [
    {
     "ename": "NameError",
     "evalue": "name 'HelloWorld' is not defined",
     "output_type": "error",
     "traceback": [
      "\u001b[1;31m---------------------------------------------------------------------------\u001b[0m",
      "\u001b[1;31mNameError\u001b[0m                                 Traceback (most recent call last)",
      "Cell \u001b[1;32mIn[9], line 3\u001b[0m\n\u001b[0;32m      1\u001b[0m \u001b[38;5;66;03m# Pascal Case\u001b[39;00m\n\u001b[1;32m----> 3\u001b[0m HelloWorld\n",
      "\u001b[1;31mNameError\u001b[0m: name 'HelloWorld' is not defined"
     ]
    }
   ],
   "source": [
    "# Pascal Case\n",
    "\n",
    "HelloWorld\n",
    "hello_world"
   ]
  },
  {
   "cell_type": "code",
   "execution_count": 57,
   "id": "226a843b-d7f0-4065-90eb-0b4f7d530365",
   "metadata": {},
   "outputs": [],
   "source": [
    "class Atm:\n",
    "\n",
    "  # constructor(special function)->superpower -> \n",
    "  def __init__(self):\n",
    "    self.pin = ''\n",
    "    self.balance = 110\n",
    "    self.menu()\n",
    "    # print(id(self))\n",
    "\n",
    "  def menu(self):\n",
    "    user_input = input(\"\"\"\n",
    "    Hi how can I help you?\n",
    "    1. Press 1 to create pin\n",
    "    2. Press 2 to change pin\n",
    "    3. Press 3 to check balance\n",
    "    4. Press 4 to withdraw\n",
    "    5. Anything else to exit\n",
    "    \"\"\")\n",
    "\n",
    "    if user_input == '1':\n",
    "      self.create_pin()\n",
    "    elif user_input == '2':\n",
    "      self.change_pin()\n",
    "    elif user_input == '3':\n",
    "      self.check_balance()\n",
    "    elif user_input == '4':\n",
    "      self.withdraw()\n",
    "    else:\n",
    "        pass\n",
    "      \n",
    "\n",
    "  def create_pin(self):\n",
    "    user_pin = input('enter your pin')\n",
    "    self.pin = user_pin\n",
    "\n",
    "    user_balance = int(input('enter balance'))\n",
    "    self.balance = user_balance\n",
    "\n",
    "    print('pin created successfully')\n",
    "    self.menu()\n",
    "\n",
    "  def change_pin(self):\n",
    "    old_pin = input('enter old pin')\n",
    "\n",
    "    if old_pin == self.pin:\n",
    "      # let him change the pin\n",
    "      new_pin = input('enter new pin')\n",
    "      self.pin = new_pin\n",
    "      print('pin change successful')\n",
    "      self.menu()\n",
    "    else:\n",
    "      print('nai karne de sakta re baba')\n",
    "      self.menu()\n",
    "\n",
    "  def check_balance(self):\n",
    "    user_pin = input('enter your pin')\n",
    "    if user_pin == self.pin:\n",
    "      print('your balance is ',self.balance)\n",
    "    else:\n",
    "      print('chal nikal yahan se')\n",
    "    self.menu()\n",
    "\n",
    "  def withdraw(self):\n",
    "    user_pin = input('enter the pin')\n",
    "    if user_pin == self.pin:\n",
    "      # allow to withdraw\n",
    "      amount = int(input('enter the amount'))\n",
    "      if amount <= self.balance:\n",
    "        self.balance = self.balance - amount\n",
    "        print('withdrawl successful.balance is',self.balance)\n",
    "      else:\n",
    "        print('abe garib')\n",
    "    else:\n",
    "      print('sale chor')\n",
    "    self.menu()\n",
    "\n",
    "\n"
   ]
  },
  {
   "cell_type": "code",
   "execution_count": 58,
   "id": "001ff08f-af71-4b52-8d2e-fcfd54007742",
   "metadata": {},
   "outputs": [
    {
     "name": "stdin",
     "output_type": "stream",
     "text": [
      "\n",
      "    Hi how can I help you?\n",
      "    1. Press 1 to create pin\n",
      "    2. Press 2 to change pin\n",
      "    3. Press 3 to check balance\n",
      "    4. Press 4 to withdraw\n",
      "    5. Anything else to exit\n",
      "     1\n",
      "enter your pin 1234\n",
      "enter balance 52000000\n"
     ]
    },
    {
     "name": "stdout",
     "output_type": "stream",
     "text": [
      "pin created successfully\n"
     ]
    },
    {
     "name": "stdin",
     "output_type": "stream",
     "text": [
      "\n",
      "    Hi how can I help you?\n",
      "    1. Press 1 to create pin\n",
      "    2. Press 2 to change pin\n",
      "    3. Press 3 to check balance\n",
      "    4. Press 4 to withdraw\n",
      "    5. Anything else to exit\n",
      "     3\n",
      "enter your pin 1234\n"
     ]
    },
    {
     "name": "stdout",
     "output_type": "stream",
     "text": [
      "your balance is  52000000\n"
     ]
    },
    {
     "name": "stdin",
     "output_type": "stream",
     "text": [
      "\n",
      "    Hi how can I help you?\n",
      "    1. Press 1 to create pin\n",
      "    2. Press 2 to change pin\n",
      "    3. Press 3 to check balance\n",
      "    4. Press 4 to withdraw\n",
      "    5. Anything else to exit\n",
      "     4\n",
      "enter the pin 1234\n",
      "enter the amount 2453215\n"
     ]
    },
    {
     "name": "stdout",
     "output_type": "stream",
     "text": [
      "withdrawl successful.balance is 49546785\n"
     ]
    },
    {
     "name": "stdin",
     "output_type": "stream",
     "text": [
      "\n",
      "    Hi how can I help you?\n",
      "    1. Press 1 to create pin\n",
      "    2. Press 2 to change pin\n",
      "    3. Press 3 to check balance\n",
      "    4. Press 4 to withdraw\n",
      "    5. Anything else to exit\n",
      "     5\n"
     ]
    }
   ],
   "source": [
    "sbi=Atm()"
   ]
  },
  {
   "cell_type": "code",
   "execution_count": null,
   "id": "07279aa6-a500-4d85-884f-f58e76c0f8a4",
   "metadata": {},
   "outputs": [],
   "source": []
  },
  {
   "cell_type": "code",
   "execution_count": 53,
   "id": "4afe5cfa-8b65-44cb-abcd-9af9dbcf560a",
   "metadata": {},
   "outputs": [],
   "source": [
    "class Atm:\n",
    "    def __init__(self):\n",
    "        self.pin=\"\"\n",
    "        self.balance=\"\"    \n",
    "        self.menu()\n",
    "        \n",
    "    def menu(self):\n",
    "        user_input=input(\"\"\"\n",
    "         Hi how can I help you?\n",
    "        1. Press 1 to create pin\n",
    "        2. Press 2 to change pin\n",
    "        3. Press 3 to check balance\n",
    "        4. Press 4 to withdraw\n",
    "        5. Anything else to exit\n",
    "        \"\"\")\n",
    "        if user_input==\"1\":\n",
    "            self.create_pin()\n",
    "        elif user_input==\"2\":\n",
    "            self.change_pin()\n",
    "        else:\n",
    "            pass\n",
    "    def create_pin(self):\n",
    "        pass\n",
    "    def change_pin(self):\n",
    "        pass"
   ]
  },
  {
   "cell_type": "code",
   "execution_count": 55,
   "id": "aae6a16d-36c6-40ff-ac6f-ef5d2cf7287e",
   "metadata": {},
   "outputs": [
    {
     "name": "stdin",
     "output_type": "stream",
     "text": [
      "\n",
      "         Hi how can I help you?\n",
      "        1. Press 1 to create pin\n",
      "        2. Press 2 to change pin\n",
      "        3. Press 3 to check balance\n",
      "        4. Press 4 to withdraw\n",
      "        5. Anything else to exit\n",
      "         5\n"
     ]
    }
   ],
   "source": [
    "hdfc=Atm()"
   ]
  },
  {
   "cell_type": "code",
   "execution_count": null,
   "id": "c060a2a8-11c0-4cf8-9b31-9b22083fffec",
   "metadata": {},
   "outputs": [],
   "source": []
  },
  {
   "cell_type": "code",
   "execution_count": 2,
   "id": "64706ee5-982e-46f0-b69b-e82dc1c92cdb",
   "metadata": {},
   "outputs": [
    {
     "data": {
      "text/plain": [
       "57"
      ]
     },
     "execution_count": 2,
     "metadata": {},
     "output_type": "execute_result"
    }
   ],
   "source": [
    "23+34"
   ]
  },
  {
   "cell_type": "code",
   "execution_count": 1,
   "id": "9376860b-8918-4724-86e6-5f49e25392dd",
   "metadata": {},
   "outputs": [
    {
     "data": {
      "text/plain": [
       "'abcdef'"
      ]
     },
     "execution_count": 1,
     "metadata": {},
     "output_type": "execute_result"
    }
   ],
   "source": [
    "\"abc\"+\"def\""
   ]
  },
  {
   "cell_type": "code",
   "execution_count": 14,
   "id": "6833f5c3-d1d4-417a-9b3a-2dbec7417d94",
   "metadata": {},
   "outputs": [
    {
     "data": {
      "text/plain": [
       "3078392295440"
      ]
     },
     "execution_count": 14,
     "metadata": {},
     "output_type": "execute_result"
    }
   ],
   "source": [
    "id(obj2)"
   ]
  },
  {
   "cell_type": "code",
   "execution_count": null,
   "id": "957c5f11-0902-45cb-9fce-db9bbc891479",
   "metadata": {},
   "outputs": [],
   "source": []
  },
  {
   "cell_type": "code",
   "execution_count": 37,
   "id": "ab1ea297-35f6-4c76-9a25-4fb2c455b2f4",
   "metadata": {},
   "outputs": [],
   "source": [
    "s1={1,2,3}\n",
    "s2={4,5,6}"
   ]
  },
  {
   "cell_type": "code",
   "execution_count": 38,
   "id": "c60749af-8e1e-4fad-9940-97c381dd2ead",
   "metadata": {},
   "outputs": [
    {
     "ename": "TypeError",
     "evalue": "unsupported operand type(s) for +: 'set' and 'set'",
     "output_type": "error",
     "traceback": [
      "\u001b[1;31m---------------------------------------------------------------------------\u001b[0m",
      "\u001b[1;31mTypeError\u001b[0m                                 Traceback (most recent call last)",
      "Cell \u001b[1;32mIn[38], line 1\u001b[0m\n\u001b[1;32m----> 1\u001b[0m s1\u001b[38;5;241m+\u001b[39ms2\n",
      "\u001b[1;31mTypeError\u001b[0m: unsupported operand type(s) for +: 'set' and 'set'"
     ]
    }
   ],
   "source": [
    "s1+s2"
   ]
  },
  {
   "cell_type": "code",
   "execution_count": 16,
   "id": "42c6c32e-f6da-4f43-968f-90d65907344b",
   "metadata": {},
   "outputs": [],
   "source": [
    "obj1.\n",
    "L = [1,2,3]\n",
    "len(L) # function ->bcos it is outside the list class\n",
    "L.append(1)# method -> bcos it is inside the list class"
   ]
  },
  {
   "cell_type": "code",
   "execution_count": 17,
   "id": "ec4d691d-2767-45ac-be89-141bd5f948b7",
   "metadata": {},
   "outputs": [
    {
     "name": "stdout",
     "output_type": "stream",
     "text": [
      "hello\n"
     ]
    }
   ],
   "source": [
    "class Temp:\n",
    "\n",
    "  def __init__(self):\n",
    "    print('hello')\n",
    "\n",
    "obj = Temp()"
   ]
  },
  {
   "cell_type": "code",
   "execution_count": 56,
   "id": "4bb801b6-de95-494a-8903-3194e567b9b5",
   "metadata": {},
   "outputs": [],
   "source": [
    "class Fraction:\n",
    "  def __init__(self,x,y):\n",
    "    self.num = x\n",
    "    self.den = y\n",
    "\n",
    "  def __str__(self):\n",
    "    return f'{self.num}/{self.den}'\n",
    "\n",
    "  def __add__(self,other):\n",
    "    new_num = self.num*other.den + other.num*self.den\n",
    "    new_den = self.den*other.den\n",
    "\n",
    "    return f'{new_num}/{new_den}'\n",
    "\n",
    "  def __sub__(self,other):\n",
    "    new_num = self.num*other.den - other.num*self.den\n",
    "    new_den = self.den*other.den\n",
    "\n",
    "    return '{}/{}'.format(new_num,new_den)\n",
    "\n",
    "  def __mul__(self,other):\n",
    "    new_num = self.num*other.num\n",
    "    new_den = self.den*other.den\n",
    "\n",
    "    return '{}/{}'.format(new_num,new_den)\n",
    "\n",
    "  def __truediv__(self,other):\n",
    "    new_num = self.num*other.den\n",
    "    new_den = self.den*other.num\n",
    "\n",
    "    return '{}/{}'.format(new_num,new_den)\n",
    "\n",
    "  def convert_to_decimal(self):\n",
    "    return self.num/self.den\n",
    "\n",
    "    \n",
    "\n",
    "  \n"
   ]
  },
  {
   "cell_type": "code",
   "execution_count": 64,
   "id": "caa61a00-418f-44a1-bf4b-eb2b2a2249fe",
   "metadata": {},
   "outputs": [
    {
     "name": "stdout",
     "output_type": "stream",
     "text": [
      "84/24\n"
     ]
    }
   ],
   "source": [
    "fr1 = Fraction(9,3)#--> self.num, self.den\n",
    "fr2 = Fraction(4,8) #--> other.num , other.den\n",
    "print(fr2+fr1)\n",
    "# print(fr1)\n",
    "# print(fr2)\n"
   ]
  },
  {
   "cell_type": "code",
   "execution_count": 34,
   "id": "2d81a36a-4814-4493-beb6-4c29cdd4c81f",
   "metadata": {},
   "outputs": [
    {
     "name": "stdout",
     "output_type": "stream",
     "text": [
      "9/3\n"
     ]
    }
   ],
   "source": [
    "print(fr1)"
   ]
  },
  {
   "cell_type": "code",
   "execution_count": 65,
   "id": "facde1a1-0e27-41cd-a186-a8da53a92f9d",
   "metadata": {},
   "outputs": [
    {
     "name": "stdout",
     "output_type": "stream",
     "text": [
      "84/24\n",
      "60/24\n",
      "36/24\n",
      "72/12\n"
     ]
    }
   ],
   "source": [
    "print(fr1 + fr2)\n",
    "print(fr1 - fr2)\n",
    "print(fr1 * fr2)\n",
    "print(fr1 / fr2)"
   ]
  },
  {
   "cell_type": "code",
   "execution_count": 63,
   "id": "32439691-0ac8-4edb-8aa5-43a456922760",
   "metadata": {},
   "outputs": [
    {
     "data": {
      "text/plain": [
       "2.05"
      ]
     },
     "execution_count": 63,
     "metadata": {},
     "output_type": "execute_result"
    }
   ],
   "source": [
    "4/5 +5/4\n"
   ]
  },
  {
   "cell_type": "code",
   "execution_count": 24,
   "id": "b85c3003-4ee0-4b06-8ae3-9feea54fed6b",
   "metadata": {},
   "outputs": [
    {
     "name": "stdout",
     "output_type": "stream",
     "text": [
      "2/8\n"
     ]
    }
   ],
   "source": [
    "print(fr1 - fr2)"
   ]
  },
  {
   "cell_type": "code",
   "execution_count": null,
   "id": "16745eec-71ef-419b-9a65-2430686d6838",
   "metadata": {},
   "outputs": [],
   "source": [
    "other=fr2"
   ]
  },
  {
   "cell_type": "code",
   "execution_count": 9,
   "id": "980abe30-f741-415a-8c94-337b1072c1c7",
   "metadata": {},
   "outputs": [
    {
     "data": {
      "text/plain": [
       "int"
      ]
     },
     "execution_count": 9,
     "metadata": {},
     "output_type": "execute_result"
    }
   ],
   "source": [
    "a=4\n",
    "b=5\n",
    "\n",
    "type(a+b)"
   ]
  },
  {
   "cell_type": "code",
   "execution_count": null,
   "id": "113bc6cd-494c-47a9-9e1e-47d525874245",
   "metadata": {},
   "outputs": [],
   "source": []
  },
  {
   "cell_type": "code",
   "execution_count": null,
   "id": "7bbf4217-e99c-4bc2-8c68-29140ef3ab5d",
   "metadata": {},
   "outputs": [],
   "source": []
  },
  {
   "cell_type": "markdown",
   "id": "aa50c388-f86e-44f4-b53e-b853d7bc4b9c",
   "metadata": {},
   "source": [
    "1.Write a Python program to create a class representing a Circle. Include methods to calculate its area and perimeter.\n",
    "\n",
    "2.Write a Python program to create a person class. Include attributes like name, country and date of birth. Implement a method to determine the person's age.\n",
    "\n",
    "3.Write a Python program to create a calculator class. Include methods for basic arithmetic operations.\n",
    "\n",
    "4. Write a Python program to create a class representing a shopping cart. Include methods for adding and removing items, and calculating the total price\n",
    "5. Write a Python program to create a class representing a bank. Include methods for managing customer accounts and transactions.\n"
   ]
  },
  {
   "cell_type": "code",
   "execution_count": null,
   "id": "659b6420-e56d-46fa-9ba3-0b11b6eb9025",
   "metadata": {},
   "outputs": [],
   "source": []
  },
  {
   "cell_type": "code",
   "execution_count": null,
   "id": "aae695e3-1821-460a-b919-f64f33ad7b84",
   "metadata": {},
   "outputs": [],
   "source": []
  },
  {
   "cell_type": "code",
   "execution_count": 10,
   "id": "bc4497d4-9793-4326-be4b-3c4b913a9a66",
   "metadata": {},
   "outputs": [],
   "source": [
    "class Atm:\n",
    "    def __init__(self):\n",
    "        self.pin=\"\"\n",
    "        self.__balance=0\n",
    "        print(id(self))\n",
    "        # self.menu()\n",
    "\n",
    "    def menu(self):\n",
    "        user_input=input('''\n",
    "        1. press 1 to create pin\n",
    "        2. press 2 to change pin\n",
    "        3. press 3 to check balance\n",
    "        4. press 4 to withdraw\n",
    "        5. anything else to exit\n",
    "        ''')\n",
    "        if user_input==\"1\":\n",
    "            self.create_pass()\n",
    "        elif user_input==\"2\":\n",
    "            self.change_pin()\n",
    "        elif user_input==\"3\":\n",
    "            self.check_balance()\n",
    "        elif user_input==\"4\":\n",
    "            self.withdraw()\n",
    "        else:\n",
    "            pass\n",
    "\n",
    "    def create_pass(self):\n",
    "        user_pin = input('enter your pin')\n",
    "        self.pin=user_pin\n",
    "        user_balance=input('enter your balance')\n",
    "        self.balance=user_balance\n",
    "        print(\"pin sucessfully generated and balance updated\")\n",
    "        self.menu()\n",
    "\n",
    "    def change_pin(self):\n",
    "        old_pin=input(\"enter the old pin\")\n",
    "        if old_pin==self.pin:\n",
    "            new_pin=input('enter the new pin')\n",
    "            self.pin=new_pin\n",
    "            print('pin changed sucessfully')\n",
    "            self.menu()\n",
    "\n",
    "        else:\n",
    "            print('sahi pin daal')\n",
    "            self.menu()\n",
    "\n",
    "    def check_balance(self):\n",
    "        old_pin=input(\"enter the pin\")\n",
    "        if old_pin==self.pin:\n",
    "            print('your balance is ',self.balance)\n",
    "            self.menu()\n",
    "\n",
    "        else:\n",
    "            print('wrong pin')\n",
    "            self.menu()\n",
    "\n",
    "    def withdraw(self):\n",
    "        old_pin=input(\"enter the pin\")\n",
    "        if old_pin==self.pin:\n",
    "            amt=int(input('enter the anount to be withdrawn'))\n",
    "            if amt<=self.balance:\n",
    "                self.balance-=amt\n",
    "                print('amount withdrawn')\n",
    "                self.menu()\n",
    "\n",
    "            else:\n",
    "                print('insufficient balance')\n",
    "                self.menu()\n",
    "            \n",
    "\n"
   ]
  },
  {
   "cell_type": "code",
   "execution_count": 7,
   "id": "7e202014-ee03-4a07-97b1-cabc02408a02",
   "metadata": {},
   "outputs": [
    {
     "name": "stdout",
     "output_type": "stream",
     "text": [
      "2992156281680\n"
     ]
    }
   ],
   "source": [
    "sbi=Atm()"
   ]
  },
  {
   "cell_type": "code",
   "execution_count": 12,
   "id": "c65f2cad-b014-4207-9790-025b9522078c",
   "metadata": {},
   "outputs": [
    {
     "name": "stdin",
     "output_type": "stream",
     "text": [
      "enter your pin 1234\n",
      "enter your balance 123\n"
     ]
    },
    {
     "name": "stdout",
     "output_type": "stream",
     "text": [
      "pin sucessfully generated and balance updated\n"
     ]
    },
    {
     "name": "stdin",
     "output_type": "stream",
     "text": [
      "\n",
      "        1. press 1 to create pin\n",
      "        2. press 2 to change pin\n",
      "        3. press 3 to check balance\n",
      "        4. press 4 to withdraw\n",
      "        5. anything else to exit\n",
      "         6\n"
     ]
    }
   ],
   "source": [
    "sbi.create_pass()"
   ]
  },
  {
   "cell_type": "code",
   "execution_count": 27,
   "id": "fbd133e8-a8b5-4f58-8ee6-ee81e9317461",
   "metadata": {},
   "outputs": [
    {
     "name": "stdout",
     "output_type": "stream",
     "text": [
      "2780487020816\n"
     ]
    }
   ],
   "source": [
    "hdfc=Atm()"
   ]
  },
  {
   "cell_type": "code",
   "execution_count": 28,
   "id": "4f4f6bfe-2b8e-4498-9511-1797912d7084",
   "metadata": {},
   "outputs": [
    {
     "name": "stdout",
     "output_type": "stream",
     "text": [
      "2780487020816\n"
     ]
    }
   ],
   "source": [
    "print(id(hdfc))"
   ]
  },
  {
   "cell_type": "code",
   "execution_count": 29,
   "id": "81d19dce-4748-4a10-8637-b9264adb770a",
   "metadata": {},
   "outputs": [
    {
     "name": "stdin",
     "output_type": "stream",
     "text": [
      "enter your pin 456\n",
      "enter your balance 456\n"
     ]
    },
    {
     "name": "stdout",
     "output_type": "stream",
     "text": [
      "pin sucessfully generated and balance updated\n"
     ]
    },
    {
     "name": "stdin",
     "output_type": "stream",
     "text": [
      "\n",
      "        1. press 1 to create pin\n",
      "        2. press 2 to change pin\n",
      "        3. press 3 to check balance\n",
      "        4. press 4 to withdraw\n",
      "        5. anything else to exit\n",
      "         5\n"
     ]
    }
   ],
   "source": [
    "hdfc.create_pass()"
   ]
  },
  {
   "cell_type": "code",
   "execution_count": 30,
   "id": "57615416-9ed3-486a-9550-6cfd4021b57e",
   "metadata": {},
   "outputs": [
    {
     "data": {
      "text/plain": [
       "3"
      ]
     },
     "execution_count": 30,
     "metadata": {},
     "output_type": "execute_result"
    }
   ],
   "source": [
    "l=[1,2,3]\n",
    "len(l)"
   ]
  },
  {
   "cell_type": "code",
   "execution_count": null,
   "id": "14d00228-cb7c-4b26-978e-a8c03d3f52c3",
   "metadata": {},
   "outputs": [],
   "source": []
  },
  {
   "cell_type": "code",
   "execution_count": null,
   "id": "4bf5a887-048b-4400-958a-a9ff4d80b156",
   "metadata": {},
   "outputs": [],
   "source": [
    "Write OOP classes to handle the following scenarios:\n",
    "A user can create and view 2D coordinates\n",
    "A user can find out the distance between 2 coordinates\n",
    "A user can find find the distance of a coordinate from origin\n",
    "A user can check if a point lies on a given line\n",
    "A user can find the distance between a given 2D point and a given line"
   ]
  },
  {
   "cell_type": "code",
   "execution_count": 35,
   "id": "9e99cf02-a2a2-4084-b2e1-37aaf95fa4d5",
   "metadata": {},
   "outputs": [],
   "source": [
    "class point:\n",
    "    def __init__(self,x,y):\n",
    "        self.x=x\n",
    "        self.y=y\n",
    "    def __str__(self):\n",
    "        return f\"<{self.x},{self.y}>\"\n",
    "    def e_dist(self,other):\n",
    "        return ((self.x - other.x)**2+(self.y-other.y)**2)**0.5  #((x-x1)**2+(y-y1)**2)**0.5\n",
    "\n",
    "\n",
    "class line:\n",
    "    def __init__(self,a,b,c):\n",
    "        self.A=a\n",
    "        self.B=b\n",
    "        self.C=c\n",
    "    def __str__(self):\n",
    "        return f\"{self.A}x+{self.B}y+{self.C}\"\n",
    "        \n",
    "    def on_cod(self,other):\n",
    "        val=self.A* other.x+self.B *other.y+self.C\n",
    "        if val==0:\n",
    "            print('lies on the line')\n",
    "        else:\n",
    "            print('does not lie')\n",
    "        "
   ]
  },
  {
   "cell_type": "code",
   "execution_count": 36,
   "id": "c1ac2331-47df-4f81-b224-cb8d79d84057",
   "metadata": {},
   "outputs": [],
   "source": [
    "a=point(0,0)\n",
    "b=point(1,1)"
   ]
  },
  {
   "cell_type": "code",
   "execution_count": 42,
   "id": "c2e0b9d4-55ce-46fd-a8a5-c05096b2c4ba",
   "metadata": {},
   "outputs": [
    {
     "name": "stdout",
     "output_type": "stream",
     "text": [
      "<0,0> <1,1>\n",
      "2x+3y+4\n"
     ]
    },
    {
     "data": {
      "text/plain": [
       "1.4142135623730951"
      ]
     },
     "execution_count": 42,
     "metadata": {},
     "output_type": "execute_result"
    }
   ],
   "source": [
    "print(a,b)\n",
    "print(c)\n"
   ]
  },
  {
   "cell_type": "code",
   "execution_count": 38,
   "id": "f93c5a64-a890-463f-83d8-53e2507190c2",
   "metadata": {},
   "outputs": [],
   "source": [
    "c=line(2,3,4)"
   ]
  },
  {
   "cell_type": "code",
   "execution_count": 41,
   "id": "b9817cf3-cef8-4aee-9585-eb734045e0a5",
   "metadata": {},
   "outputs": [
    {
     "name": "stdout",
     "output_type": "stream",
     "text": [
      "does not lie\n"
     ]
    }
   ],
   "source": [
    "c.on_cod(a)"
   ]
  },
  {
   "cell_type": "code",
   "execution_count": 20,
   "id": "91b473d4-ab1b-4a8b-a627-b5340c096a0c",
   "metadata": {},
   "outputs": [
    {
     "name": "stdout",
     "output_type": "stream",
     "text": [
      "does not lie\n"
     ]
    }
   ],
   "source": [
    "c.on_cod(b)"
   ]
  },
  {
   "cell_type": "code",
   "execution_count": null,
   "id": "f6657483-dc8e-4cdf-82ef-1cea1fd62d49",
   "metadata": {},
   "outputs": [],
   "source": []
  },
  {
   "cell_type": "code",
   "execution_count": null,
   "id": "88c3c70d-3937-4fc0-95c7-3e9919922cae",
   "metadata": {},
   "outputs": [],
   "source": []
  },
  {
   "cell_type": "code",
   "execution_count": 15,
   "id": "e1469971-c882-451c-98b0-322796674a28",
   "metadata": {},
   "outputs": [],
   "source": [
    "a={1,456,451,7,7,7,7,7,7,7,7,7,7}"
   ]
  },
  {
   "cell_type": "code",
   "execution_count": 17,
   "id": "09f04d0a-0acc-4f3d-b638-60c354d47fa1",
   "metadata": {},
   "outputs": [],
   "source": [
    "b=[1,2.3,3,33,3,3,3,3,3,3,3]\n"
   ]
  },
  {
   "cell_type": "code",
   "execution_count": 21,
   "id": "e4de7dbd-5098-4fc7-8e9e-b5d5de0a1308",
   "metadata": {},
   "outputs": [],
   "source": [
    "b=set(b)"
   ]
  },
  {
   "cell_type": "code",
   "execution_count": 24,
   "id": "600d1c19-56a5-4459-b8d7-8cc4f5c01d8b",
   "metadata": {},
   "outputs": [
    {
     "data": {
      "text/plain": [
       "{1}"
      ]
     },
     "execution_count": 24,
     "metadata": {},
     "output_type": "execute_result"
    }
   ],
   "source": [
    "b.intersection(a)"
   ]
  },
  {
   "cell_type": "code",
   "execution_count": 29,
   "id": "631c5ed9-e8ca-4472-b504-55e9bd876572",
   "metadata": {},
   "outputs": [],
   "source": [
    "c={\n",
    "    'student':'aniket',\n",
    "    'marks':[10,6,4,6,7,8],\n",
    "    'gender':'male'\n",
    "}"
   ]
  },
  {
   "cell_type": "code",
   "execution_count": 27,
   "id": "431b9d5b-d176-45de-81de-4e71e7cef41a",
   "metadata": {},
   "outputs": [],
   "source": [
    "c['student']='rahul'"
   ]
  },
  {
   "cell_type": "code",
   "execution_count": 28,
   "id": "e679d4e8-015d-46fc-b9a0-4178f6557344",
   "metadata": {},
   "outputs": [
    {
     "data": {
      "text/plain": [
       "'rahul'"
      ]
     },
     "execution_count": 28,
     "metadata": {},
     "output_type": "execute_result"
    }
   ],
   "source": [
    "c['student']"
   ]
  },
  {
   "cell_type": "code",
   "execution_count": 31,
   "id": "347fa766-5634-486c-8b40-8b38663e716d",
   "metadata": {},
   "outputs": [
    {
     "name": "stdout",
     "output_type": "stream",
     "text": [
      "aniket\n",
      "[10, 6, 4, 6, 7, 8]\n",
      "male\n"
     ]
    }
   ],
   "source": [
    "for i in c:\n",
    "    print(c[i])"
   ]
  },
  {
   "cell_type": "code",
   "execution_count": 32,
   "id": "ac222cb5-f693-4887-aba7-07d40c5843e6",
   "metadata": {},
   "outputs": [],
   "source": [
    "c['student']=('rahul','raghav')"
   ]
  },
  {
   "cell_type": "code",
   "execution_count": 34,
   "id": "22f376eb-9025-4881-a500-1910d16d1010",
   "metadata": {},
   "outputs": [],
   "source": [
    "c['age']=[20,35]"
   ]
  },
  {
   "cell_type": "code",
   "execution_count": 45,
   "id": "86cf3ecd-f66b-47c2-8788-b8622f7db153",
   "metadata": {},
   "outputs": [],
   "source": [
    "c.update(student=5,school='None')"
   ]
  },
  {
   "cell_type": "code",
   "execution_count": 46,
   "id": "3904f778-7856-4d83-86c8-8b37adea7015",
   "metadata": {},
   "outputs": [
    {
     "data": {
      "text/plain": [
       "{'student': 5,\n",
       " 'marks': [10, 6, 4, 6, 7, 8],\n",
       " 'gender': 'male',\n",
       " 'age': [20, 35],\n",
       " 'school': 'None'}"
      ]
     },
     "execution_count": 46,
     "metadata": {},
     "output_type": "execute_result"
    }
   ],
   "source": [
    "c"
   ]
  },
  {
   "cell_type": "code",
   "execution_count": 1,
   "id": "d6eea855-ea2c-45e2-ae64-4854ee2498dd",
   "metadata": {},
   "outputs": [],
   "source": []
  },
  {
   "cell_type": "code",
   "execution_count": 6,
   "id": "828b4e1b-ec6d-4b4d-8573-66203e14af72",
   "metadata": {},
   "outputs": [],
   "source": []
  },
  {
   "cell_type": "code",
   "execution_count": 8,
   "id": "ade2ce36-ac24-441f-b858-1a39e30dfecb",
   "metadata": {},
   "outputs": [
    {
     "data": {
      "text/plain": [
       "Index(['brand', 'km_driven', 'fuel', 'owner', 'selling_price'], dtype='object')"
      ]
     },
     "execution_count": 8,
     "metadata": {},
     "output_type": "execute_result"
    }
   ],
   "source": []
  },
  {
   "cell_type": "code",
   "execution_count": 12,
   "id": "8eb68519-bae9-4d7d-8f92-2d9276ca8ed8",
   "metadata": {},
   "outputs": [],
   "source": [
    "import numpy as np"
   ]
  },
  {
   "cell_type": "code",
   "execution_count": 27,
   "id": "1311221c-4f59-45e0-aa3e-392f3dca3c86",
   "metadata": {},
   "outputs": [],
   "source": [
    "class Car:\n",
    "    def __init__(self):\n",
    "        self.wheels=4\n",
    "        self.stering=1\n",
    "b=Car()"
   ]
  },
  {
   "cell_type": "code",
   "execution_count": 28,
   "id": "8c4cd768-d5c5-4654-856c-e6e4313bcb7f",
   "metadata": {},
   "outputs": [],
   "source": [
    "b.wheels='abc'"
   ]
  },
  {
   "cell_type": "code",
   "execution_count": 29,
   "id": "897f66fe-1fb9-49eb-9ecc-d633a152e462",
   "metadata": {},
   "outputs": [
    {
     "data": {
      "text/plain": [
       "'abc'"
      ]
     },
     "execution_count": 29,
     "metadata": {},
     "output_type": "execute_result"
    }
   ],
   "source": [
    "b.wheels"
   ]
  },
  {
   "cell_type": "code",
   "execution_count": null,
   "id": "f514d316-bc47-4b4e-9c68-466d532dfd33",
   "metadata": {},
   "outputs": [],
   "source": []
  },
  {
   "cell_type": "code",
   "execution_count": null,
   "id": "92c08c16-a77a-4114-80ca-48eff3cd7207",
   "metadata": {},
   "outputs": [],
   "source": []
  },
  {
   "cell_type": "code",
   "execution_count": 27,
   "id": "9df6177f-036f-4584-a634-08506d9a1737",
   "metadata": {},
   "outputs": [],
   "source": [
    "class car:\n",
    "    def __init__(self):\n",
    "        print(id(self))\n",
    "        self.wheels=4\n",
    "        self.stering=1\n",
    "\n",
    "    def get(self):\n",
    "        return self.__wheels\n",
    "        \n",
    "    def set(s,a):\n",
    "        if type(a)==int:\n",
    "            self.__wheels=a\n",
    "        else:\n",
    "            print('wrong input')\n",
    "            \n",
    "    def drive(self):\n",
    "        pass\n",
    "    "
   ]
  },
  {
   "cell_type": "code",
   "execution_count": 28,
   "id": "cf07176d-d2eb-440c-ab13-aa5a56b6c0b8",
   "metadata": {},
   "outputs": [
    {
     "name": "stdout",
     "output_type": "stream",
     "text": [
      "2254452979760\n",
      "2254452966608\n"
     ]
    }
   ],
   "source": [
    "bmw=car()\n",
    "audi=car()"
   ]
  },
  {
   "cell_type": "code",
   "execution_count": null,
   "id": "540e2795-7623-4351-9327-ea307f7a5c4e",
   "metadata": {},
   "outputs": [],
   "source": []
  },
  {
   "cell_type": "code",
   "execution_count": 25,
   "id": "2d5a7dd2-63c2-4ff1-812e-38bac1667dea",
   "metadata": {},
   "outputs": [],
   "source": [
    "bmw.wheels=5"
   ]
  },
  {
   "cell_type": "code",
   "execution_count": 21,
   "id": "3f2e96ec-488b-466b-8ac9-2a8a3ef70736",
   "metadata": {},
   "outputs": [
    {
     "data": {
      "text/plain": [
       "5"
      ]
     },
     "execution_count": 21,
     "metadata": {},
     "output_type": "execute_result"
    }
   ],
   "source": [
    "bmw.wheels"
   ]
  },
  {
   "cell_type": "code",
   "execution_count": 26,
   "id": "3ac787e3-bb5a-4049-963f-70b8a762f465",
   "metadata": {},
   "outputs": [
    {
     "data": {
      "text/plain": [
       "4"
      ]
     },
     "execution_count": 26,
     "metadata": {},
     "output_type": "execute_result"
    }
   ],
   "source": [
    "audi.wheels"
   ]
  },
  {
   "cell_type": "code",
   "execution_count": null,
   "id": "0a6fbf1e-173c-4275-9bd1-39c2da795861",
   "metadata": {},
   "outputs": [],
   "source": []
  },
  {
   "cell_type": "code",
   "execution_count": null,
   "id": "83b58689-fbcb-4942-80a2-0336b1110372",
   "metadata": {},
   "outputs": [],
   "source": []
  },
  {
   "cell_type": "code",
   "execution_count": 42,
   "id": "aaeaee9e-4728-42f7-b71a-1ac894dec23c",
   "metadata": {},
   "outputs": [],
   "source": [
    "class Car:\n",
    "    def __init__(self):\n",
    "        self.wheels=\"has 4 wheels\"\n",
    "        self.doors=4\n",
    "        self.air=6\n",
    "    def drive(self):\n",
    "        self.wheels = 15\n",
    "        self.a=\"this is inside drive meathod\"\n",
    "        print(self.a)\n",
    "    def crash(self,a,b):\n",
    "        print(f\"this is a car crash by {a} and {b}\")"
   ]
  },
  {
   "cell_type": "code",
   "execution_count": 43,
   "id": "6422f988-aa6d-48e3-bb68-f76bd1e379a2",
   "metadata": {},
   "outputs": [],
   "source": [
    "maruti=Car()"
   ]
  },
  {
   "cell_type": "code",
   "execution_count": 48,
   "id": "98719844-2a2d-47f4-b656-92867dac1277",
   "metadata": {},
   "outputs": [
    {
     "ename": "TypeError",
     "evalue": "Car.crash() missing 2 required positional arguments: 'a' and 'b'",
     "output_type": "error",
     "traceback": [
      "\u001b[1;31m---------------------------------------------------------------------------\u001b[0m",
      "\u001b[1;31mTypeError\u001b[0m                                 Traceback (most recent call last)",
      "Cell \u001b[1;32mIn[48], line 1\u001b[0m\n\u001b[1;32m----> 1\u001b[0m maruti\u001b[38;5;241m.\u001b[39mcrash()\n",
      "\u001b[1;31mTypeError\u001b[0m: Car.crash() missing 2 required positional arguments: 'a' and 'b'"
     ]
    }
   ],
   "source": [
    "maruti.crash()"
   ]
  },
  {
   "cell_type": "code",
   "execution_count": 45,
   "id": "1aabea9d-8fe6-43c0-af10-bbf008fe11e3",
   "metadata": {},
   "outputs": [
    {
     "name": "stdout",
     "output_type": "stream",
     "text": [
      "this is inside drive meathod\n"
     ]
    }
   ],
   "source": [
    "maruti.drive()"
   ]
  },
  {
   "cell_type": "code",
   "execution_count": 36,
   "id": "84dc43be-bb8a-4606-af57-2282737f172a",
   "metadata": {},
   "outputs": [
    {
     "data": {
      "text/plain": [
       "15"
      ]
     },
     "execution_count": 36,
     "metadata": {},
     "output_type": "execute_result"
    }
   ],
   "source": [
    "maruti.wheels"
   ]
  },
  {
   "cell_type": "code",
   "execution_count": 38,
   "id": "44e88119-52ef-402c-add8-1037949e9bbd",
   "metadata": {},
   "outputs": [
    {
     "data": {
      "text/plain": [
       "<__main__.Car at 0x187a11c43e0>"
      ]
     },
     "execution_count": 38,
     "metadata": {},
     "output_type": "execute_result"
    }
   ],
   "source": []
  },
  {
   "cell_type": "code",
   "execution_count": 14,
   "id": "1e55fff2-6826-44f3-bed1-33c410c39646",
   "metadata": {},
   "outputs": [],
   "source": [
    "class abc:\n",
    "    def __init__(self):\n",
    "        print(id(self))"
   ]
  },
  {
   "cell_type": "code",
   "execution_count": 15,
   "id": "bacd3e0f-b865-4cb9-aa60-930caade18e0",
   "metadata": {},
   "outputs": [
    {
     "name": "stdout",
     "output_type": "stream",
     "text": [
      "2254453126880\n"
     ]
    }
   ],
   "source": [
    "a=abc()"
   ]
  },
  {
   "cell_type": "code",
   "execution_count": 16,
   "id": "b2f317ed-0031-4a57-b1cb-95ddc35658b3",
   "metadata": {},
   "outputs": [
    {
     "data": {
      "text/plain": [
       "2254453126880"
      ]
     },
     "execution_count": 16,
     "metadata": {},
     "output_type": "execute_result"
    }
   ],
   "source": [
    "id(a)"
   ]
  },
  {
   "cell_type": "code",
   "execution_count": 8,
   "id": "0c3d47ef-cba9-4b6d-b533-fa12d8146949",
   "metadata": {},
   "outputs": [],
   "source": [
    "class Student:\n",
    "    def __init__(self):\n",
    "        print(id(self))\n",
    "        self.name=\"name\"\n",
    "        self.rollno=34\n",
    "    def result(self):\n",
    "        return \"pass\""
   ]
  },
  {
   "cell_type": "code",
   "execution_count": 14,
   "id": "ef18dc9e-cfac-427a-948e-4705acbad30c",
   "metadata": {},
   "outputs": [
    {
     "name": "stdout",
     "output_type": "stream",
     "text": [
      "2889253978768\n"
     ]
    }
   ],
   "source": [
    "a=Student()"
   ]
  },
  {
   "cell_type": "code",
   "execution_count": 13,
   "id": "d4aa5002-0490-410a-895f-598d9ff76dbb",
   "metadata": {},
   "outputs": [
    {
     "data": {
      "text/plain": [
       "'pass'"
      ]
     },
     "execution_count": 13,
     "metadata": {},
     "output_type": "execute_result"
    }
   ],
   "source": [
    "id(a)\n",
    "a.result()"
   ]
  },
  {
   "cell_type": "code",
   "execution_count": 16,
   "id": "38a8f575-6b74-4fbd-b680-b46a2a1a5d81",
   "metadata": {},
   "outputs": [
    {
     "name": "stdout",
     "output_type": "stream",
     "text": [
      "2889253911920\n"
     ]
    }
   ],
   "source": [
    "b=Student()"
   ]
  },
  {
   "cell_type": "code",
   "execution_count": 17,
   "id": "65286452-dda6-4dc2-bb29-85fa9cfefcfd",
   "metadata": {},
   "outputs": [
    {
     "data": {
      "text/plain": [
       "2889253911920"
      ]
     },
     "execution_count": 17,
     "metadata": {},
     "output_type": "execute_result"
    }
   ],
   "source": [
    "id(b)"
   ]
  },
  {
   "cell_type": "code",
   "execution_count": 15,
   "id": "66ae8056-6332-4f88-9564-752b9f6249e3",
   "metadata": {},
   "outputs": [],
   "source": [
    "a.age=18"
   ]
  },
  {
   "cell_type": "code",
   "execution_count": 20,
   "id": "f4c6b4af-387d-4783-a90f-9b3efab47e82",
   "metadata": {},
   "outputs": [
    {
     "data": {
      "text/plain": [
       "18"
      ]
     },
     "execution_count": 20,
     "metadata": {},
     "output_type": "execute_result"
    }
   ],
   "source": [
    "a.age"
   ]
  },
  {
   "cell_type": "code",
   "execution_count": 24,
   "id": "9d050aa4-9ed3-4d06-a595-cc23b958078c",
   "metadata": {},
   "outputs": [],
   "source": [
    "#dundder or magic\n",
    "#__init__"
   ]
  },
  {
   "cell_type": "code",
   "execution_count": 49,
   "id": "4ca17bcf-fc08-430f-942c-d2417d0a3dee",
   "metadata": {},
   "outputs": [],
   "source": [
    "class point:\n",
    "    def __init__(self,x,y):\n",
    "        self.x=x\n",
    "        self.y=y\n",
    "    def __str__(self):\n",
    "        return f\"<{self.x},{self.y}>\"\n",
    "    def __add__(self,other):\n",
    "        return self.x*other.x + self.y*other.y\n",
    "    def __sub__(self,other):\n",
    "        return self.x*other.x - self.y*other.y\n",
    "    def __mul__(self,other):\n",
    "        pass\n",
    "    def __truediv__(self,other):\n",
    "        pass"
   ]
  },
  {
   "cell_type": "code",
   "execution_count": 50,
   "id": "900fc694-e7b1-45ef-a607-ff56b44d8d30",
   "metadata": {},
   "outputs": [],
   "source": [
    "a=point(1,3)\n",
    "b=point(2,3)"
   ]
  },
  {
   "cell_type": "code",
   "execution_count": 51,
   "id": "c859ac65-21cf-483b-a94c-dee459c17588",
   "metadata": {},
   "outputs": [
    {
     "name": "stdout",
     "output_type": "stream",
     "text": [
      "<1,3>\n"
     ]
    }
   ],
   "source": [
    "print(a)"
   ]
  },
  {
   "cell_type": "code",
   "execution_count": 53,
   "id": "e8a7b15c-3ba7-489d-b516-88ed8b60a42e",
   "metadata": {},
   "outputs": [
    {
     "data": {
      "text/plain": [
       "-7"
      ]
     },
     "execution_count": 53,
     "metadata": {},
     "output_type": "execute_result"
    }
   ],
   "source": [
    "a-b"
   ]
  },
  {
   "cell_type": "code",
   "execution_count": 44,
   "id": "045f097a-bf0c-4218-96d5-38bdf09c42dd",
   "metadata": {},
   "outputs": [
    {
     "data": {
      "text/plain": [
       "'absabc'"
      ]
     },
     "execution_count": 44,
     "metadata": {},
     "output_type": "execute_result"
    }
   ],
   "source": [
    "\n",
    "\"abs\"+\"abc\""
   ]
  },
  {
   "cell_type": "code",
   "execution_count": 45,
   "id": "bff902c0-86d4-4f5d-89a3-31eb54a77d25",
   "metadata": {},
   "outputs": [
    {
     "data": {
      "text/plain": [
       "10"
      ]
     },
     "execution_count": 45,
     "metadata": {},
     "output_type": "execute_result"
    }
   ],
   "source": [
    "4+6"
   ]
  },
  {
   "cell_type": "code",
   "execution_count": 48,
   "id": "79144b52-f18a-4926-8a8c-5b76f062dfeb",
   "metadata": {},
   "outputs": [
    {
     "name": "stdout",
     "output_type": "stream",
     "text": [
      "<class 'int'>\n"
     ]
    }
   ],
   "source": [
    "print(type(9))"
   ]
  },
  {
   "cell_type": "code",
   "execution_count": 47,
   "id": "7b9e186e-2142-4314-a839-1bf6777f19ef",
   "metadata": {},
   "outputs": [
    {
     "name": "stdout",
     "output_type": "stream",
     "text": [
      "<class 'str'>\n"
     ]
    }
   ],
   "source": [
    "print(type(\"asd\"))"
   ]
  },
  {
   "cell_type": "code",
   "execution_count": 55,
   "id": "004651cf-3c1c-45a6-981b-9c59ae5dd13f",
   "metadata": {},
   "outputs": [
    {
     "data": {
      "text/plain": [
       "3.5"
      ]
     },
     "execution_count": 55,
     "metadata": {},
     "output_type": "execute_result"
    }
   ],
   "source": [
    "9/4+5/4"
   ]
  },
  {
   "cell_type": "code",
   "execution_count": null,
   "id": "8face8f2-aec9-4d4b-ab4a-a9975fb216d6",
   "metadata": {},
   "outputs": [],
   "source": []
  }
 ],
 "metadata": {
  "kernelspec": {
   "display_name": "Python 3 (ipykernel)",
   "language": "python",
   "name": "python3"
  },
  "language_info": {
   "codemirror_mode": {
    "name": "ipython",
    "version": 3
   },
   "file_extension": ".py",
   "mimetype": "text/x-python",
   "name": "python",
   "nbconvert_exporter": "python",
   "pygments_lexer": "ipython3",
   "version": "3.12.3"
  }
 },
 "nbformat": 4,
 "nbformat_minor": 5
}
