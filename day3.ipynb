{
 "cells": [
  {
   "cell_type": "markdown",
   "id": "ea6fbeff-b229-461d-a911-8906c79e35eb",
   "metadata": {},
   "source": [
    "Reverse the tuple\n",
    "tuple1 = (10, 20, 30, 40, 50)"
   ]
  },
  {
   "cell_type": "code",
   "execution_count": null,
   "id": "7f382868-a92d-4744-a606-87d639b4308a",
   "metadata": {},
   "outputs": [],
   "source": [
    "The given tuple is a nested tuple. write a Python program to print the value 20.\n",
    "\n",
    "tuple1 = (\"Orange\", [10, 20, 30], (5, 15, 25))"
   ]
  },
  {
   "cell_type": "code",
   "execution_count": null,
   "id": "dfd23694-f7de-4f59-a59e-1b91acc2c8ab",
   "metadata": {},
   "outputs": [],
   "source": [
    "Write a program to unpack the following tuple into four variables and display each variable.\n",
    "\n",
    "tuple1 = (10, 20, 30, 40)\n",
    "# Your code\n",
    "print(a) # should print 10\n",
    "print(b) # should print 20\n",
    "print(c) # should print 30\n",
    "print(d) # should print 40"
   ]
  },
  {
   "cell_type": "code",
   "execution_count": null,
   "id": "868c0ec4-5b42-4225-a6c3-83adb30256e3",
   "metadata": {},
   "outputs": [],
   "source": [
    "Write a program to copy elements 44 and 55 from the following tuple into a new tuple.\n",
    "tuple1 = (11, 22, 33, 44, 55, 66)\n",
    "\n",
    "Expected output:\n",
    "\n",
    "tuple2: (44, 55)"
   ]
  },
  {
   "cell_type": "code",
   "execution_count": 54,
   "id": "467803a9-ae45-4a7f-937d-22d2f8148fa0",
   "metadata": {},
   "outputs": [],
   "source": [
    " Counts the number of occurrences of item 50 from a tuple\n",
    "tuple1 = (50, 10, 60, 70, 50)"
   ]
  },
  {
   "cell_type": "code",
   "execution_count": null,
   "id": "e5179c86-04bf-4225-98b7-a026b5925bfb",
   "metadata": {},
   "outputs": [],
   "source": []
  },
  {
   "cell_type": "code",
   "execution_count": null,
   "id": "b8760e8c-894b-46af-99c1-1bed615a7d90",
   "metadata": {},
   "outputs": [],
   "source": []
  },
  {
   "cell_type": "markdown",
   "id": "d8fc9025-ef44-49ae-9090-a3cdcff7304d",
   "metadata": {},
   "source": [
    "<b>sets</b>"
   ]
  },
  {
   "cell_type": "code",
   "execution_count": null,
   "id": "f691abb1-c40b-4e64-8ec8-1a1426ade69d",
   "metadata": {},
   "outputs": [],
   "source": [
    "Add a list of elements to a set\n",
    "Given a Python list, Write a program to add all its elements into a given set.\n",
    "\n",
    "Given:\n",
    "\n",
    "sample_set = {\"Yellow\", \"Orange\", \"Black\"}\n",
    "sample_list = [\"Blue\", \"Green\", \"Red\"]"
   ]
  },
  {
   "cell_type": "code",
   "execution_count": 60,
   "id": "edb54fa2-892f-43b0-8cb4-20eee2fe0aa8",
   "metadata": {},
   "outputs": [],
   "source": [
    "sample_list = [\"Blue\", \"Green\", \"Red\"]"
   ]
  },
  {
   "cell_type": "code",
   "execution_count": null,
   "id": "45899fe3-cceb-44c2-b38d-dac186890954",
   "metadata": {},
   "outputs": [],
   "source": [
    " Return a new set of identical items from two sets\n",
    "Given:\n",
    "\n",
    "set1 = {10, 20, 30, 40, 50}\n",
    "set2 = {30, 40, 50, 60, 70}\n",
    "Expected output:\n",
    "\n",
    "{40, 50, 30}"
   ]
  },
  {
   "cell_type": "code",
   "execution_count": null,
   "id": "db04c7ff-02a9-4aa0-a39d-b2aa6d58fb81",
   "metadata": {},
   "outputs": [],
   "source": [
    " Get Only unique items from two sets\n",
    "Write a Python program to return a new set with unique items from both sets by removing duplicates.\n",
    "\n",
    "Given:\n",
    "\n",
    "set1 = {10, 20, 30, 40, 50}\n",
    "set2 = {30, 40, 50, 60, 70}\n",
    "Expected output:\n",
    "\n",
    "{70, 40, 10, 50, 20, 60, 30}"
   ]
  },
  {
   "cell_type": "code",
   "execution_count": null,
   "id": "2f63bdb3-d7ca-4da2-8e04-2d80f21ce7e5",
   "metadata": {},
   "outputs": [],
   "source": [
    "Return a set of elements present in Set A or B, but not both\n",
    "\n",
    "Given:\n",
    "\n",
    "set1 = {10, 20, 30, 40, 50}\n",
    "set2 = {30, 40, 50, 60, 70}\n",
    "Expected output:\n",
    "\n",
    "{20, 70, 10, 60}"
   ]
  },
  {
   "cell_type": "code",
   "execution_count": null,
   "id": "aeb5b89f-50cc-459b-8acd-e7e3f65281c5",
   "metadata": {},
   "outputs": [],
   "source": [
    "Remove items from set1 that are not common to both set1 and set2\n",
    "Given:\n",
    "\n",
    "set1 = {10, 20, 30, 40, 50}\n",
    "set2 = {30, 40, 50, 60, 70}\n",
    "Expected output:\n",
    "\n",
    "{40, 50, 30}\n",
    "\n"
   ]
  },
  {
   "cell_type": "markdown",
   "id": "2ce36917-d769-41d1-81e3-d60b9d203398",
   "metadata": {},
   "source": [
    "<b>Dictionary</b>"
   ]
  },
  {
   "cell_type": "markdown",
   "id": "189fe2ef-2588-4deb-92e6-38ddca6504d4",
   "metadata": {},
   "source": [
    "Below are the two lists. Write a Python program to convert them into a dictionary in a way that item from list1 is the key and item from list2 is the value\n",
    "\n",
    "\n",
    "keys = ['Ten', 'Twenty', 'Thirty']\n",
    "values = [10, 20, 30]"
   ]
  },
  {
   "cell_type": "code",
   "execution_count": null,
   "id": "a9e2fc65-c808-4e1d-b2b2-603b2e77da66",
   "metadata": {},
   "outputs": [],
   "source": [
    " Print the value of key ‘history’ from the below dict\n",
    "sampleDict = {\n",
    "    \"class\": {\n",
    "        \"student\": {\n",
    "            \"name\": \"Mike\",\n",
    "            \"marks\": {\n",
    "                \"physics\": 70,\n",
    "                \"history\": 80\n",
    "            }\n",
    "        }\n",
    "    }\n",
    "}"
   ]
  },
  {
   "cell_type": "code",
   "execution_count": null,
   "id": "862e17df-386d-4421-bd86-45bb52fbf067",
   "metadata": {},
   "outputs": [],
   "source": [
    "Delete a list of keys from a dictionary\n",
    "Given:\n",
    "\n",
    "sample_dict = {\n",
    "    \"name\": \"Kelly\",\n",
    "    \"age\": 25,\n",
    "    \"salary\": 8000,\n",
    "    \"city\": \"New york\"\n",
    "}\n",
    "\n",
    "# Keys to remove\n",
    "keys = [\"name\", \"salary\"]\n",
    "Expected output:\n",
    "\n",
    "{'city': 'New york', 'age': 25}"
   ]
  },
  {
   "cell_type": "code",
   "execution_count": null,
   "id": "466a6330-6b43-4396-940d-6f46e5eeb953",
   "metadata": {},
   "outputs": [],
   "source": [
    "Rename key of a dictionary\n",
    "Write a program to rename a key city to a location in the following dictionary.\n",
    "\n",
    "Given:\n",
    "\n",
    "sample_dict = {\n",
    "  \"name\": \"Kelly\",\n",
    "  \"age\":25,\n",
    "  \"salary\": 8000,\n",
    "  \"city\": \"New york\"\n",
    "}"
   ]
  },
  {
   "cell_type": "code",
   "execution_count": 23,
   "id": "215dd56c-36f9-47f1-bdbe-3218c3b4a63b",
   "metadata": {},
   "outputs": [],
   "source": [
    "sample_dict = {\n",
    "  \"name\": \"Kelly\",\n",
    "  \"age\":25,\n",
    "  \"salary\": 8000,\n",
    "  \"city\": \"New york\"\n",
    "}"
   ]
  },
  {
   "cell_type": "code",
   "execution_count": 24,
   "id": "a9b9bf53-9840-42c7-a2e4-2af0b8d2ebd6",
   "metadata": {},
   "outputs": [],
   "source": [
    "sample_dict[\"location\"]=sample_dict[\"city\"]"
   ]
  },
  {
   "cell_type": "code",
   "execution_count": 27,
   "id": "0761c353-2e8b-4844-89fb-a74fd1d873db",
   "metadata": {},
   "outputs": [
    {
     "data": {
      "text/plain": [
       "'New york'"
      ]
     },
     "execution_count": 27,
     "metadata": {},
     "output_type": "execute_result"
    }
   ],
   "source": [
    "sample_dict.pop(\"city\")"
   ]
  },
  {
   "cell_type": "code",
   "execution_count": 28,
   "id": "bb19d7bf-14e6-4476-983d-8c42a153b3c4",
   "metadata": {},
   "outputs": [
    {
     "data": {
      "text/plain": [
       "{'name': 'Kelly', 'age': 25, 'salary': 8000, 'location': 'New york'}"
      ]
     },
     "execution_count": 28,
     "metadata": {},
     "output_type": "execute_result"
    }
   ],
   "source": [
    "sample_dict"
   ]
  },
  {
   "cell_type": "code",
   "execution_count": null,
   "id": "8a23f760-b4f8-479c-8e75-95984e563999",
   "metadata": {},
   "outputs": [],
   "source": []
  },
  {
   "cell_type": "code",
   "execution_count": null,
   "id": "2375de9e-0063-43be-a0cd-c24eb9c60919",
   "metadata": {},
   "outputs": [],
   "source": []
  },
  {
   "cell_type": "code",
   "execution_count": null,
   "id": "cd9e0bff-0ad6-4600-a6ae-a39e63c6c81d",
   "metadata": {},
   "outputs": [],
   "source": []
  },
  {
   "cell_type": "code",
   "execution_count": null,
   "id": "fc428a21-ce4b-43f1-8eb8-b6e03377d834",
   "metadata": {},
   "outputs": [],
   "source": []
  },
  {
   "cell_type": "code",
   "execution_count": null,
   "id": "b6f4c591-17e4-41fc-a0de-bc85bf0b74dd",
   "metadata": {},
   "outputs": [],
   "source": []
  },
  {
   "cell_type": "code",
   "execution_count": null,
   "id": "c8aa3baa-dde7-477d-a645-70c55a6b187f",
   "metadata": {},
   "outputs": [],
   "source": []
  },
  {
   "cell_type": "markdown",
   "id": "6e74708e-a374-421a-bb45-150d6953c05a",
   "metadata": {},
   "source": [
    "Write a Python program that generates 5 random multiplication questions for the user. Each question should ask the user to multiply two random numbers between 1 and 10. After all questions, display the user's score."
   ]
  },
  {
   "cell_type": "code",
   "execution_count": 3,
   "id": "d63908c9-15fc-4370-a471-7a57dd773da4",
   "metadata": {},
   "outputs": [
    {
     "ename": "SyntaxError",
     "evalue": "invalid syntax (563159979.py, line 1)",
     "output_type": "error",
     "traceback": [
      "\u001b[1;36m  Cell \u001b[1;32mIn[3], line 1\u001b[1;36m\u001b[0m\n\u001b[1;33m    Write a Python program that asks the user for a number n and generates the following pattern up to n rows:\u001b[0m\n\u001b[1;37m          ^\u001b[0m\n\u001b[1;31mSyntaxError\u001b[0m\u001b[1;31m:\u001b[0m invalid syntax\n"
     ]
    }
   ],
   "source": [
    "Write a Python program that asks the user for a number n and generates the following pattern up to n rows:\n",
    "\n",
    "For example, if n=5, the output should be:\n",
    "1  \n",
    "22  \n",
    "333  \n",
    "4444  \n",
    "55555  "
   ]
  },
  {
   "cell_type": "code",
   "execution_count": null,
   "id": "33e867e0-b4e7-4117-9f8e-e0e0954fb8d0",
   "metadata": {},
   "outputs": [],
   "source": []
  },
  {
   "cell_type": "markdown",
   "id": "2b61d1b0-73e8-420c-8586-3b32b2df3e1d",
   "metadata": {},
   "source": [
    "Write a Python program that asks the user to input a string and a character to replace, and then a replacement character. The program should replace all occurrences of the given character in the string with the replacement character using a while loop."
   ]
  },
  {
   "cell_type": "code",
   "execution_count": null,
   "id": "305ec8d1-5ea8-4d78-bf4f-40fd4cfdd19d",
   "metadata": {},
   "outputs": [],
   "source": [
    "Write a Python program that takes a sentence as input and finds the longest word in the sentence. Use a while loop to process the words."
   ]
  },
  {
   "cell_type": "code",
   "execution_count": null,
   "id": "d9b217f5-49ee-4564-854f-bbde5f4bd897",
   "metadata": {},
   "outputs": [],
   "source": []
  },
  {
   "cell_type": "code",
   "execution_count": 1,
   "id": "e8fcbf7e-b6ff-4497-822d-ad2fea742326",
   "metadata": {},
   "outputs": [],
   "source": [
    "a=(1,2,3)"
   ]
  },
  {
   "cell_type": "code",
   "execution_count": 2,
   "id": "88531697-9fba-4bf1-ae0b-3f6e351ed2ea",
   "metadata": {},
   "outputs": [],
   "source": [
    "b,c,d=a\n"
   ]
  },
  {
   "cell_type": "code",
   "execution_count": 3,
   "id": "88652577-697f-415f-8a1d-ab4f8def9575",
   "metadata": {},
   "outputs": [
    {
     "data": {
      "text/plain": [
       "1"
      ]
     },
     "execution_count": 3,
     "metadata": {},
     "output_type": "execute_result"
    }
   ],
   "source": [
    "b"
   ]
  },
  {
   "cell_type": "code",
   "execution_count": 4,
   "id": "f57eb5e7-b182-4a5f-8992-638b5c47e757",
   "metadata": {},
   "outputs": [
    {
     "data": {
      "text/plain": [
       "2"
      ]
     },
     "execution_count": 4,
     "metadata": {},
     "output_type": "execute_result"
    }
   ],
   "source": [
    "c"
   ]
  },
  {
   "cell_type": "code",
   "execution_count": 5,
   "id": "9baba5c2-d007-4e8c-92ae-8a4234e430b5",
   "metadata": {},
   "outputs": [
    {
     "data": {
      "text/plain": [
       "3"
      ]
     },
     "execution_count": 5,
     "metadata": {},
     "output_type": "execute_result"
    }
   ],
   "source": [
    "d"
   ]
  },
  {
   "cell_type": "code",
   "execution_count": null,
   "id": "4ea21756-e62d-4727-b9c4-706660b2187d",
   "metadata": {},
   "outputs": [],
   "source": [
    "d"
   ]
  },
  {
   "cell_type": "code",
   "execution_count": null,
   "id": "c0d88e3a-239c-4d99-b4a3-ae367710c8b9",
   "metadata": {},
   "outputs": [],
   "source": [
    "a"
   ]
  },
  {
   "cell_type": "code",
   "execution_count": null,
   "id": "2ec79dbc-1634-4509-8f25-d993bc14fc40",
   "metadata": {},
   "outputs": [],
   "source": [
    "a={\"a\":(1,2,3,4,5,6,6,7),\"b\":2,\"c\":\"hello\"}"
   ]
  },
  {
   "cell_type": "code",
   "execution_count": null,
   "id": "671bf136-3ac4-4446-a29d-9201188127e0",
   "metadata": {},
   "outputs": [],
   "source": [
    "for i in a:\n",
    "    print(a[i])"
   ]
  },
  {
   "cell_type": "code",
   "execution_count": null,
   "id": "75ae4c9a-3a98-498e-a20b-f50d3fa0e8dd",
   "metadata": {},
   "outputs": [],
   "source": [
    "a[\"b\"]"
   ]
  },
  {
   "cell_type": "code",
   "execution_count": null,
   "id": "d5254e5a-b143-4e4f-8f6d-fce367c1b382",
   "metadata": {},
   "outputs": [],
   "source": [
    "Dict=dict({1: 'Java',2: 'T',3:'Point'})"
   ]
  },
  {
   "cell_type": "code",
   "execution_count": null,
   "id": "c41cadfb-5d7f-451d-943a-bfd240a9c7e1",
   "metadata": {},
   "outputs": [],
   "source": [
    "Dict"
   ]
  },
  {
   "cell_type": "code",
   "execution_count": 33,
   "id": "41a39cc7-38d3-497d-b6f0-c4922b5d6c4a",
   "metadata": {},
   "outputs": [
    {
     "name": "stdout",
     "output_type": "stream",
     "text": [
      "Name:John\n",
      "Age:29\n",
      "Salary:25000\n",
      "Company:GOOGLE\n"
     ]
    }
   ],
   "source": [
    "Employee={\"Name\":\"John\",\"Age\":29,\"salary\":25000,\"Company\":\"GOOGLE\"}\n",
    "print(\"Name:%s\"%Employee[\"Name\"])\n",
    "print(\"Age:%d\"%Employee[\"Age\"])\n",
    "print(\"Salary:%d\"%Employee[\"salary\"])\n",
    "print(\"Company:%s\"%Employee[\"Company\"])"
   ]
  },
  {
   "cell_type": "code",
   "execution_count": 39,
   "id": "3090a95a-b2d3-48a6-9366-cdc31aaba609",
   "metadata": {},
   "outputs": [
    {
     "data": {
      "text/plain": [
       "dict_keys([1, 2, 3])"
      ]
     },
     "execution_count": 39,
     "metadata": {},
     "output_type": "execute_result"
    }
   ],
   "source": [
    "Dict={1: 'JavaTpoint',2: 'Peter',3: 'Thomas'}\n",
    "#Deletingakey\n",
    "#usingpop()method\n",
    "# pop_ele=Dict.pop(\"Peter\")\n",
    "# print(Dict)\n",
    "\n",
    "Dict.keys()"
   ]
  },
  {
   "cell_type": "code",
   "execution_count": 1,
   "id": "8067043c-7f5a-4b66-84bc-a1db1beca022",
   "metadata": {},
   "outputs": [],
   "source": [
    "a=(1,2,3,4)"
   ]
  },
  {
   "cell_type": "code",
   "execution_count": 2,
   "id": "18a31c19-fa84-48d5-b4bf-8f4ce1cb2efc",
   "metadata": {},
   "outputs": [
    {
     "data": {
      "text/plain": [
       "(1, 2, 3, 4)"
      ]
     },
     "execution_count": 2,
     "metadata": {},
     "output_type": "execute_result"
    }
   ],
   "source": [
    "a"
   ]
  },
  {
   "cell_type": "code",
   "execution_count": 3,
   "id": "5c88a8ff-a6cb-484c-812b-cf5af994c045",
   "metadata": {},
   "outputs": [],
   "source": [
    "b,c,d,e=a"
   ]
  },
  {
   "cell_type": "code",
   "execution_count": 4,
   "id": "530db909-46c4-41d2-b7c6-2b9ff73fcb5a",
   "metadata": {},
   "outputs": [
    {
     "data": {
      "text/plain": [
       "1"
      ]
     },
     "execution_count": 4,
     "metadata": {},
     "output_type": "execute_result"
    }
   ],
   "source": [
    "b"
   ]
  },
  {
   "cell_type": "code",
   "execution_count": 5,
   "id": "b8e1097d-56fb-4872-b161-22817a418615",
   "metadata": {},
   "outputs": [
    {
     "data": {
      "text/plain": [
       "2"
      ]
     },
     "execution_count": 5,
     "metadata": {},
     "output_type": "execute_result"
    }
   ],
   "source": [
    "c"
   ]
  },
  {
   "cell_type": "code",
   "execution_count": 6,
   "id": "01c2922b-1c08-4711-ba25-e2e5d9a4bac7",
   "metadata": {},
   "outputs": [
    {
     "data": {
      "text/plain": [
       "3"
      ]
     },
     "execution_count": 6,
     "metadata": {},
     "output_type": "execute_result"
    }
   ],
   "source": [
    "d"
   ]
  },
  {
   "cell_type": "code",
   "execution_count": 7,
   "id": "4b574ba8-e290-4a23-afcb-754ee2a3511c",
   "metadata": {},
   "outputs": [
    {
     "data": {
      "text/plain": [
       "4"
      ]
     },
     "execution_count": 7,
     "metadata": {},
     "output_type": "execute_result"
    }
   ],
   "source": [
    "e"
   ]
  },
  {
   "cell_type": "code",
   "execution_count": 8,
   "id": "6ed38eab-7ce1-4270-aa81-954c380618b8",
   "metadata": {},
   "outputs": [
    {
     "data": {
      "text/plain": [
       "(1, 2, 3, 4)"
      ]
     },
     "execution_count": 8,
     "metadata": {},
     "output_type": "execute_result"
    }
   ],
   "source": [
    "a"
   ]
  },
  {
   "cell_type": "code",
   "execution_count": 42,
   "id": "1e853c02-100a-4bed-9b45-5a21668b6de4",
   "metadata": {},
   "outputs": [],
   "source": [
    "d={\n",
    "    \"student\":['rohit','Ram','shyam'],\"age\":24,\"gender\":'male',\"english\":15\n",
    "}"
   ]
  },
  {
   "cell_type": "code",
   "execution_count": 43,
   "id": "f0518fa9-b227-4257-86be-f39b7fa376d0",
   "metadata": {},
   "outputs": [
    {
     "data": {
      "text/plain": [
       "15"
      ]
     },
     "execution_count": 43,
     "metadata": {},
     "output_type": "execute_result"
    }
   ],
   "source": [
    "d['english']"
   ]
  },
  {
   "cell_type": "code",
   "execution_count": 30,
   "id": "9f2a715c-3176-469d-8eed-0ebdb34b62bb",
   "metadata": {},
   "outputs": [
    {
     "name": "stdout",
     "output_type": "stream",
     "text": [
      "student\n",
      "age\n",
      "gender\n",
      "english\n"
     ]
    }
   ],
   "source": [
    "for i in d:\n",
    "    print(i)"
   ]
  },
  {
   "cell_type": "code",
   "execution_count": 31,
   "id": "8f8d1209-82a7-499c-863e-7542e8357af0",
   "metadata": {},
   "outputs": [
    {
     "name": "stdout",
     "output_type": "stream",
     "text": [
      "['rohit', 'Ram', 'shyam']\n",
      "24\n",
      "male\n",
      "15\n"
     ]
    }
   ],
   "source": [
    "for i in d:\n",
    "    print(d[i])"
   ]
  },
  {
   "cell_type": "code",
   "execution_count": 33,
   "id": "3ab48fc1-9f12-4b11-861a-58ed957296a0",
   "metadata": {},
   "outputs": [
    {
     "data": {
      "text/plain": [
       "dict_items([('student', ['rohit', 'Ram', 'shyam']), ('age', 24), ('gender', 'male'), ('english', 15)])"
      ]
     },
     "execution_count": 33,
     "metadata": {},
     "output_type": "execute_result"
    }
   ],
   "source": [
    "d.items()"
   ]
  },
  {
   "cell_type": "code",
   "execution_count": 34,
   "id": "175fcd68-59f3-4e82-9791-6dd3c233fb2c",
   "metadata": {},
   "outputs": [
    {
     "data": {
      "text/plain": [
       "dict_keys(['student', 'age', 'gender', 'english'])"
      ]
     },
     "execution_count": 34,
     "metadata": {},
     "output_type": "execute_result"
    }
   ],
   "source": [
    "d.keys()"
   ]
  },
  {
   "cell_type": "code",
   "execution_count": 35,
   "id": "d829d9ca-ad4a-4ee2-94ca-7f3eb97fb98d",
   "metadata": {},
   "outputs": [
    {
     "data": {
      "text/plain": [
       "dict_values([['rohit', 'Ram', 'shyam'], 24, 'male', 15])"
      ]
     },
     "execution_count": 35,
     "metadata": {},
     "output_type": "execute_result"
    }
   ],
   "source": [
    "d.values()"
   ]
  },
  {
   "cell_type": "code",
   "execution_count": 37,
   "id": "ed0d455d-7001-4b71-abbc-c8a04c6a1251",
   "metadata": {},
   "outputs": [],
   "source": [
    "d.clear()"
   ]
  },
  {
   "cell_type": "code",
   "execution_count": 38,
   "id": "debe3739-30b9-435e-ae11-5f42c2f030ac",
   "metadata": {},
   "outputs": [
    {
     "data": {
      "text/plain": [
       "{}"
      ]
     },
     "execution_count": 38,
     "metadata": {},
     "output_type": "execute_result"
    }
   ],
   "source": [
    "d"
   ]
  },
  {
   "cell_type": "code",
   "execution_count": 39,
   "id": "d028b15e-df63-4a93-8925-9cabf0897e1a",
   "metadata": {},
   "outputs": [],
   "source": [
    "d[\"salary\"]=30000"
   ]
  },
  {
   "cell_type": "code",
   "execution_count": 40,
   "id": "f6cbb58f-ae24-4ce5-875d-a1384c501f04",
   "metadata": {},
   "outputs": [
    {
     "data": {
      "text/plain": [
       "{'salary': 30000}"
      ]
     },
     "execution_count": 40,
     "metadata": {},
     "output_type": "execute_result"
    }
   ],
   "source": [
    "d"
   ]
  },
  {
   "cell_type": "code",
   "execution_count": null,
   "id": "5b5d72f3-c496-4048-8da4-23c1b5791a0c",
   "metadata": {},
   "outputs": [],
   "source": []
  },
  {
   "cell_type": "code",
   "execution_count": 1,
   "id": "1afd7880-348e-4238-9333-721f3d91e79c",
   "metadata": {},
   "outputs": [],
   "source": [
    "a=[\"string\",4,4.5,True]"
   ]
  },
  {
   "cell_type": "code",
   "execution_count": 7,
   "id": "700c62b3-2bf5-4086-9293-37fedc579402",
   "metadata": {},
   "outputs": [
    {
     "data": {
      "text/plain": [
       "4.5"
      ]
     },
     "execution_count": 7,
     "metadata": {},
     "output_type": "execute_result"
    }
   ],
   "source": [
    "a[-2]"
   ]
  },
  {
   "cell_type": "code",
   "execution_count": 8,
   "id": "da126e6c-af4c-4978-9b45-2057dfd4e33f",
   "metadata": {},
   "outputs": [],
   "source": [
    "a.append('python')"
   ]
  },
  {
   "cell_type": "code",
   "execution_count": 10,
   "id": "3bb6fe15-c08c-489d-a39a-34686e1d0e89",
   "metadata": {},
   "outputs": [
    {
     "data": {
      "text/plain": [
       "'python'"
      ]
     },
     "execution_count": 10,
     "metadata": {},
     "output_type": "execute_result"
    }
   ],
   "source": [
    "a.pop()"
   ]
  },
  {
   "cell_type": "code",
   "execution_count": 11,
   "id": "7fa356cc-a933-4fdc-957d-45e8256d86de",
   "metadata": {},
   "outputs": [
    {
     "data": {
      "text/plain": [
       "['string', 4, 4.5, True]"
      ]
     },
     "execution_count": 11,
     "metadata": {},
     "output_type": "execute_result"
    }
   ],
   "source": [
    "a"
   ]
  },
  {
   "cell_type": "code",
   "execution_count": 12,
   "id": "f8d938d8-d45b-4b11-a5e8-43b7d3b2e421",
   "metadata": {},
   "outputs": [
    {
     "name": "stdout",
     "output_type": "stream",
     "text": [
      "string\n",
      "4\n",
      "4.5\n",
      "True\n"
     ]
    }
   ],
   "source": [
    "for i in a:\n",
    "    print(i)"
   ]
  },
  {
   "cell_type": "code",
   "execution_count": 13,
   "id": "828b3206-13df-4e4f-a752-381532730129",
   "metadata": {},
   "outputs": [],
   "source": [
    "b=[2,\"ai\"]"
   ]
  },
  {
   "cell_type": "code",
   "execution_count": 14,
   "id": "904a8338-fe80-4fd9-b41c-acf1b474444c",
   "metadata": {},
   "outputs": [
    {
     "data": {
      "text/plain": [
       "['string', 4, 4.5, True, 2, 'ai']"
      ]
     },
     "execution_count": 14,
     "metadata": {},
     "output_type": "execute_result"
    }
   ],
   "source": [
    "a+b"
   ]
  },
  {
   "cell_type": "code",
   "execution_count": 15,
   "id": "3eff6420-30cc-46c4-b160-e4de81fb4e68",
   "metadata": {},
   "outputs": [],
   "source": [
    "c=[1,2,3,4]"
   ]
  },
  {
   "cell_type": "code",
   "execution_count": 17,
   "id": "11f4e5fe-8994-4a5b-8008-59f60ddc2075",
   "metadata": {},
   "outputs": [
    {
     "data": {
      "text/plain": [
       "[1, 2, 3, 4, 1, 2, 3, 4, 1, 2, 3, 4]"
      ]
     },
     "execution_count": 17,
     "metadata": {},
     "output_type": "execute_result"
    }
   ],
   "source": [
    "c*3"
   ]
  },
  {
   "cell_type": "code",
   "execution_count": 18,
   "id": "e08aaafc-50f7-4edb-bea0-1c9ec49b270b",
   "metadata": {},
   "outputs": [
    {
     "data": {
      "text/plain": [
       "4"
      ]
     },
     "execution_count": 18,
     "metadata": {},
     "output_type": "execute_result"
    }
   ],
   "source": [
    "len(c)"
   ]
  },
  {
   "cell_type": "code",
   "execution_count": 19,
   "id": "9b7ef25b-8c8f-46b8-bfa3-5346364ec200",
   "metadata": {},
   "outputs": [
    {
     "data": {
      "text/plain": [
       "4"
      ]
     },
     "execution_count": 19,
     "metadata": {},
     "output_type": "execute_result"
    }
   ],
   "source": [
    "max(c)"
   ]
  },
  {
   "cell_type": "code",
   "execution_count": 20,
   "id": "0834775c-c080-44c5-9fb1-4d5bcd2aa906",
   "metadata": {},
   "outputs": [
    {
     "data": {
      "text/plain": [
       "1"
      ]
     },
     "execution_count": 20,
     "metadata": {},
     "output_type": "execute_result"
    }
   ],
   "source": [
    "min(c)"
   ]
  },
  {
   "cell_type": "code",
   "execution_count": 21,
   "id": "20b01710-981e-4b35-90d9-2a8a023daba0",
   "metadata": {},
   "outputs": [],
   "source": [
    "#tuple"
   ]
  },
  {
   "cell_type": "code",
   "execution_count": 22,
   "id": "41a10ac3-57d2-4065-b2a7-f5b542d84324",
   "metadata": {},
   "outputs": [],
   "source": [
    "a=(\"string\",4,4.5)"
   ]
  },
  {
   "cell_type": "code",
   "execution_count": 23,
   "id": "d257776e-4194-4f29-bc1f-f87e6df7c0ee",
   "metadata": {
    "scrolled": true
   },
   "outputs": [
    {
     "data": {
      "text/plain": [
       "tuple"
      ]
     },
     "execution_count": 23,
     "metadata": {},
     "output_type": "execute_result"
    }
   ],
   "source": [
    "type(a)"
   ]
  },
  {
   "cell_type": "code",
   "execution_count": 26,
   "id": "fc4faf9a-ada5-4d7e-9831-486d19a5008a",
   "metadata": {},
   "outputs": [
    {
     "data": {
      "text/plain": [
       "tuple"
      ]
     },
     "execution_count": 26,
     "metadata": {},
     "output_type": "execute_result"
    }
   ],
   "source": [
    "type((\"tuple\",))"
   ]
  },
  {
   "cell_type": "code",
   "execution_count": 27,
   "id": "cf0e31d7-cbeb-4ea7-a5a4-979336bbf984",
   "metadata": {},
   "outputs": [
    {
     "data": {
      "text/plain": [
       "'string'"
      ]
     },
     "execution_count": 27,
     "metadata": {},
     "output_type": "execute_result"
    }
   ],
   "source": [
    "a[0]"
   ]
  },
  {
   "cell_type": "code",
   "execution_count": 28,
   "id": "0bc0b72d-25a0-4fda-ac25-b210d68e94f6",
   "metadata": {},
   "outputs": [
    {
     "data": {
      "text/plain": [
       "4.5"
      ]
     },
     "execution_count": 28,
     "metadata": {},
     "output_type": "execute_result"
    }
   ],
   "source": [
    "a[-1]"
   ]
  },
  {
   "cell_type": "code",
   "execution_count": 29,
   "id": "f8708653-ce48-49a8-9fe0-7c8a3648ddea",
   "metadata": {},
   "outputs": [
    {
     "data": {
      "text/plain": [
       "('string', 4, 4.5)"
      ]
     },
     "execution_count": 29,
     "metadata": {},
     "output_type": "execute_result"
    }
   ],
   "source": [
    "a"
   ]
  },
  {
   "cell_type": "code",
   "execution_count": 30,
   "id": "1dd07639-f46e-4394-b9dc-f8f42c4efa25",
   "metadata": {},
   "outputs": [],
   "source": [
    "c=(True,)"
   ]
  },
  {
   "cell_type": "code",
   "execution_count": 31,
   "id": "c57d57ef-fca0-4e0f-a6b7-3d786d75b6cc",
   "metadata": {},
   "outputs": [],
   "source": [
    "d=a+c"
   ]
  },
  {
   "cell_type": "code",
   "execution_count": 32,
   "id": "67decc2a-3bc2-4918-99c7-5854a9f82fe2",
   "metadata": {},
   "outputs": [
    {
     "data": {
      "text/plain": [
       "('string', 4, 4.5, True)"
      ]
     },
     "execution_count": 32,
     "metadata": {},
     "output_type": "execute_result"
    }
   ],
   "source": [
    "d"
   ]
  },
  {
   "cell_type": "code",
   "execution_count": 33,
   "id": "2af4ddb4-acc9-4e5c-b160-1f83f9338068",
   "metadata": {},
   "outputs": [],
   "source": [
    "a=(1,2,3,4)"
   ]
  },
  {
   "cell_type": "code",
   "execution_count": 34,
   "id": "26ae99d4-5d89-4f86-8502-4215eabf7b86",
   "metadata": {},
   "outputs": [],
   "source": [
    "b,c,d,e=a"
   ]
  },
  {
   "cell_type": "code",
   "execution_count": 38,
   "id": "0d5f450c-839d-4338-9b44-1ed3e7bae8c6",
   "metadata": {},
   "outputs": [
    {
     "data": {
      "text/plain": [
       "4"
      ]
     },
     "execution_count": 38,
     "metadata": {},
     "output_type": "execute_result"
    }
   ],
   "source": [
    "e"
   ]
  },
  {
   "cell_type": "code",
   "execution_count": 42,
   "id": "d0f83ad0-f230-42b7-8c7b-7d054ec3f408",
   "metadata": {},
   "outputs": [],
   "source": [
    "a=[1,2,3,4,[\"python\",\"classes\"],(\"aiml\")]"
   ]
  },
  {
   "cell_type": "code",
   "execution_count": 46,
   "id": "442b92fd-9d4e-4ac8-804c-05a059b62e66",
   "metadata": {},
   "outputs": [
    {
     "data": {
      "text/plain": [
       "'classes'"
      ]
     },
     "execution_count": 46,
     "metadata": {},
     "output_type": "execute_result"
    }
   ],
   "source": [
    "a[4][1]"
   ]
  },
  {
   "cell_type": "code",
   "execution_count": 49,
   "id": "bf358d96-fc8a-4672-9505-59e38976be2a",
   "metadata": {},
   "outputs": [],
   "source": [
    "a=[[\"pyhton\",(\"aiml\",\"11\"),1,2,3],1,2,3]"
   ]
  },
  {
   "cell_type": "code",
   "execution_count": 53,
   "id": "1ce33b8c-e663-4738-a87f-147722a00ec1",
   "metadata": {},
   "outputs": [
    {
     "data": {
      "text/plain": [
       "'11'"
      ]
     },
     "execution_count": 53,
     "metadata": {},
     "output_type": "execute_result"
    }
   ],
   "source": [
    "a[0][1][1]"
   ]
  },
  {
   "cell_type": "code",
   "execution_count": 6,
   "id": "2a5da4d2-cbe8-4309-a2f4-283c49259a6b",
   "metadata": {},
   "outputs": [],
   "source": [
    "c=(1,2,3,(5,6,7),[12,34,56])"
   ]
  },
  {
   "cell_type": "code",
   "execution_count": 15,
   "id": "1b25b58e-f3cf-4cf1-8636-3c36639e2746",
   "metadata": {},
   "outputs": [
    {
     "data": {
      "text/plain": [
       "[12, 34, 56]"
      ]
     },
     "execution_count": 15,
     "metadata": {},
     "output_type": "execute_result"
    }
   ],
   "source": [
    "c[4]"
   ]
  },
  {
   "cell_type": "code",
   "execution_count": 3,
   "id": "8b93d588-604b-4b40-b6d9-d35f9823c132",
   "metadata": {},
   "outputs": [
    {
     "data": {
      "text/plain": [
       "1"
      ]
     },
     "execution_count": 3,
     "metadata": {},
     "output_type": "execute_result"
    }
   ],
   "source": [
    "a"
   ]
  },
  {
   "cell_type": "code",
   "execution_count": 4,
   "id": "14d68ce8-83bd-401d-a812-0a6d36c35011",
   "metadata": {},
   "outputs": [
    {
     "data": {
      "text/plain": [
       "2"
      ]
     },
     "execution_count": 4,
     "metadata": {},
     "output_type": "execute_result"
    }
   ],
   "source": [
    "b"
   ]
  },
  {
   "cell_type": "code",
   "execution_count": 5,
   "id": "d27e7f4b-b9ab-43c0-97ef-7a24e07be6c8",
   "metadata": {},
   "outputs": [
    {
     "data": {
      "text/plain": [
       "3"
      ]
     },
     "execution_count": 5,
     "metadata": {},
     "output_type": "execute_result"
    }
   ],
   "source": [
    "d"
   ]
  },
  {
   "cell_type": "code",
   "execution_count": 16,
   "id": "f6b67de6-1141-4254-ae5a-25007e15225b",
   "metadata": {},
   "outputs": [],
   "source": [
    "a=\"string\""
   ]
  },
  {
   "cell_type": "code",
   "execution_count": 17,
   "id": "58e24b41-ddf4-418d-906c-3aef3036d33a",
   "metadata": {},
   "outputs": [],
   "source": [
    "a=5"
   ]
  },
  {
   "cell_type": "code",
   "execution_count": 18,
   "id": "cfaf52c2-3b36-419f-86c0-8afbd9a2a8d6",
   "metadata": {},
   "outputs": [],
   "source": [
    "#list\n",
    "#tuple\n",
    "#set\n",
    "#dictionary"
   ]
  },
  {
   "cell_type": "code",
   "execution_count": 40,
   "id": "2e00dcb4-6c66-4c09-bfb4-699dcb6adbcc",
   "metadata": {},
   "outputs": [],
   "source": [
    "a=[1,2,3,4,\"hey\",\"hello\",5,6,7,8,9]"
   ]
  },
  {
   "cell_type": "code",
   "execution_count": 44,
   "id": "28425506-2720-4b0c-a5f7-b2bb543f8e6b",
   "metadata": {},
   "outputs": [
    {
     "data": {
      "text/plain": [
       "[1, 4, 5]"
      ]
     },
     "execution_count": 44,
     "metadata": {},
     "output_type": "execute_result"
    }
   ],
   "source": [
    "a[0:8:3]"
   ]
  },
  {
   "cell_type": "code",
   "execution_count": 25,
   "id": "b3896191-eee7-4d38-b899-5acf629e7507",
   "metadata": {},
   "outputs": [
    {
     "data": {
      "text/plain": [
       "3"
      ]
     },
     "execution_count": 25,
     "metadata": {},
     "output_type": "execute_result"
    }
   ],
   "source": [
    "a.pop(2)"
   ]
  },
  {
   "cell_type": "code",
   "execution_count": 27,
   "id": "202c0a8d-9dd6-4b9d-939b-56fbcc70c2b9",
   "metadata": {},
   "outputs": [],
   "source": [
    "a.append(\"hello\")"
   ]
  },
  {
   "cell_type": "code",
   "execution_count": 29,
   "id": "8c39badc-7be0-4dad-8a0d-5e5deae54759",
   "metadata": {},
   "outputs": [],
   "source": [
    "a.append(75555)"
   ]
  },
  {
   "cell_type": "code",
   "execution_count": 39,
   "id": "a30a6d71-b836-41d7-87ca-e09815078693",
   "metadata": {},
   "outputs": [
    {
     "data": {
      "text/plain": [
       "[2, 'hello']"
      ]
     },
     "execution_count": 39,
     "metadata": {},
     "output_type": "execute_result"
    }
   ],
   "source": [
    "a[1:5:2]"
   ]
  },
  {
   "cell_type": "code",
   "execution_count": 36,
   "id": "4c8bcb97-b237-4537-ab6a-fc8a6f1025a7",
   "metadata": {},
   "outputs": [
    {
     "data": {
      "text/plain": [
       "[1, 2, 4, 'hello', 75555]"
      ]
     },
     "execution_count": 36,
     "metadata": {},
     "output_type": "execute_result"
    }
   ],
   "source": [
    "a"
   ]
  },
  {
   "cell_type": "code",
   "execution_count": 57,
   "id": "f7780aab-50d0-4eba-82ff-24407b61b439",
   "metadata": {},
   "outputs": [],
   "source": [
    "a=[2,3,4,1,5,\"hello\",\"python\",1,1,1,1,1]"
   ]
  },
  {
   "cell_type": "code",
   "execution_count": 46,
   "id": "d633296c-6744-4a32-a50a-2045b08b63a5",
   "metadata": {},
   "outputs": [
    {
     "data": {
      "text/plain": [
       "3"
      ]
     },
     "execution_count": 46,
     "metadata": {},
     "output_type": "execute_result"
    }
   ],
   "source": [
    "a.pop(2)"
   ]
  },
  {
   "cell_type": "code",
   "execution_count": 47,
   "id": "500bcfa2-78a7-4126-99d2-e5878ccafc67",
   "metadata": {},
   "outputs": [],
   "source": [
    "a.append(233)"
   ]
  },
  {
   "cell_type": "code",
   "execution_count": 59,
   "id": "be4ef6a8-3f2c-4489-97f4-d9e3c8920be5",
   "metadata": {},
   "outputs": [
    {
     "data": {
      "text/plain": [
       "[2, 3, 4, 1, 5, 'hello', 'python', 1, 1, 1, 1, 1]"
      ]
     },
     "execution_count": 59,
     "metadata": {},
     "output_type": "execute_result"
    }
   ],
   "source": [
    "a"
   ]
  },
  {
   "cell_type": "code",
   "execution_count": 52,
   "id": "fc332faf-7749-42eb-8f3c-dd0deff1a7e2",
   "metadata": {},
   "outputs": [
    {
     "data": {
      "text/plain": [
       "1"
      ]
     },
     "execution_count": 52,
     "metadata": {},
     "output_type": "execute_result"
    }
   ],
   "source": [
    "a.count(5)"
   ]
  },
  {
   "cell_type": "code",
   "execution_count": 58,
   "id": "384cab5a-0467-4a0d-a707-49c4d68f0ad7",
   "metadata": {},
   "outputs": [
    {
     "name": "stdout",
     "output_type": "stream",
     "text": [
      "3\n"
     ]
    }
   ],
   "source": [
    "print(a.index(1))"
   ]
  },
  {
   "cell_type": "code",
   "execution_count": 60,
   "id": "9aecc0e9-1304-461d-8c1b-be74c899967a",
   "metadata": {},
   "outputs": [],
   "source": [
    "b=(1,2,3,4,5,\"string\",\"hello\")"
   ]
  },
  {
   "cell_type": "code",
   "execution_count": 61,
   "id": "0b1bf11b-0cd5-44d7-9742-d9e6b64095a8",
   "metadata": {},
   "outputs": [],
   "source": [
    "c=b+('python',)"
   ]
  },
  {
   "cell_type": "code",
   "execution_count": 62,
   "id": "b354da0c-bae1-4801-babd-f84f583580bd",
   "metadata": {},
   "outputs": [
    {
     "data": {
      "text/plain": [
       "(1, 2, 3, 4, 5, 'string', 'hello', 'python')"
      ]
     },
     "execution_count": 62,
     "metadata": {},
     "output_type": "execute_result"
    }
   ],
   "source": [
    "c"
   ]
  },
  {
   "cell_type": "code",
   "execution_count": 63,
   "id": "313687d9-d4d5-4277-9cc2-b8e27ddd7a06",
   "metadata": {},
   "outputs": [
    {
     "data": {
      "text/plain": [
       "(1, 2, 3, 4, 5, 'string', 'hello')"
      ]
     },
     "execution_count": 63,
     "metadata": {},
     "output_type": "execute_result"
    }
   ],
   "source": [
    "b"
   ]
  },
  {
   "cell_type": "code",
   "execution_count": 68,
   "id": "797c3d2d-8ce0-4c37-b208-00f45864139c",
   "metadata": {},
   "outputs": [
    {
     "data": {
      "text/plain": [
       "tuple"
      ]
     },
     "execution_count": 68,
     "metadata": {},
     "output_type": "execute_result"
    }
   ],
   "source": [
    "type((8,))"
   ]
  },
  {
   "cell_type": "code",
   "execution_count": 70,
   "id": "eff6de15-790b-4bd8-871b-50f79c063c6a",
   "metadata": {},
   "outputs": [
    {
     "data": {
      "text/plain": [
       "(2, 4, 'string')"
      ]
     },
     "execution_count": 70,
     "metadata": {},
     "output_type": "execute_result"
    }
   ],
   "source": [
    "b[1:-1:2]"
   ]
  },
  {
   "cell_type": "code",
   "execution_count": 73,
   "id": "64935426-30e1-42cc-a671-c3c586affa21",
   "metadata": {},
   "outputs": [
    {
     "data": {
      "text/plain": [
       "1"
      ]
     },
     "execution_count": 73,
     "metadata": {},
     "output_type": "execute_result"
    }
   ],
   "source": [
    "b.count(1)"
   ]
  },
  {
   "cell_type": "code",
   "execution_count": 74,
   "id": "c9db97e2-bf6a-42a3-89a9-d784a37af185",
   "metadata": {},
   "outputs": [
    {
     "data": {
      "text/plain": [
       "0"
      ]
     },
     "execution_count": 74,
     "metadata": {},
     "output_type": "execute_result"
    }
   ],
   "source": [
    "b.index(1)"
   ]
  },
  {
   "cell_type": "code",
   "execution_count": 87,
   "id": "24738fae-d3d5-4f87-b05c-a38a9438586d",
   "metadata": {},
   "outputs": [],
   "source": [
    "a=(1,2,3,4)"
   ]
  },
  {
   "cell_type": "code",
   "execution_count": 88,
   "id": "9d66b889-df20-4cf6-9b8b-1c9a794a8134",
   "metadata": {},
   "outputs": [
    {
     "data": {
      "text/plain": [
       "(4, 3, 2, 1)"
      ]
     },
     "execution_count": 88,
     "metadata": {},
     "output_type": "execute_result"
    }
   ],
   "source": [
    "a[::-1]"
   ]
  },
  {
   "cell_type": "code",
   "execution_count": 89,
   "id": "25d941f3-eab7-4035-95c3-a7400390be00",
   "metadata": {},
   "outputs": [],
   "source": [
    "a={1,1,1,1,1,2,3,4,56,6}"
   ]
  },
  {
   "cell_type": "code",
   "execution_count": 91,
   "id": "d6cdcbd8-b390-4937-a259-110c941f94aa",
   "metadata": {},
   "outputs": [],
   "source": [
    "a=[1,1,1,1,1,1,1,2,3,4,5]"
   ]
  },
  {
   "cell_type": "code",
   "execution_count": 92,
   "id": "0039ea1e-0a7a-4769-aeae-d2733140ec77",
   "metadata": {},
   "outputs": [
    {
     "data": {
      "text/plain": [
       "[1, 1, 1, 1, 1, 1, 1, 2, 3, 4, 5]"
      ]
     },
     "execution_count": 92,
     "metadata": {},
     "output_type": "execute_result"
    }
   ],
   "source": [
    "a"
   ]
  },
  {
   "cell_type": "code",
   "execution_count": 95,
   "id": "3b383d55-b7d8-4f7d-ae6c-d56606565fd8",
   "metadata": {},
   "outputs": [
    {
     "data": {
      "text/plain": [
       "{1, 2, 3, 4, 5}"
      ]
     },
     "execution_count": 95,
     "metadata": {},
     "output_type": "execute_result"
    }
   ],
   "source": [
    "set(a)"
   ]
  },
  {
   "cell_type": "code",
   "execution_count": 97,
   "id": "13bc8085-015f-42b2-bc45-75cdc3c494ca",
   "metadata": {},
   "outputs": [],
   "source": [
    "a=set(a)"
   ]
  },
  {
   "cell_type": "code",
   "execution_count": 98,
   "id": "34a9e67f-4ad4-49b5-9197-c06502abf041",
   "metadata": {},
   "outputs": [
    {
     "data": {
      "text/plain": [
       "{1, 2, 3, 4, 5}"
      ]
     },
     "execution_count": 98,
     "metadata": {},
     "output_type": "execute_result"
    }
   ],
   "source": [
    "a"
   ]
  },
  {
   "cell_type": "code",
   "execution_count": 99,
   "id": "f04ced86-adcd-4331-8778-f61ac6cc2c68",
   "metadata": {},
   "outputs": [],
   "source": [
    "b={3,4,5,6,7,8,9,0}"
   ]
  },
  {
   "cell_type": "code",
   "execution_count": 100,
   "id": "0b0ec15a-f4e3-47a0-9c78-50ce25b3eb55",
   "metadata": {},
   "outputs": [
    {
     "data": {
      "text/plain": [
       "{0, 1, 2, 3, 4, 5, 6, 7, 8, 9}"
      ]
     },
     "execution_count": 100,
     "metadata": {},
     "output_type": "execute_result"
    }
   ],
   "source": [
    "a.union(b)"
   ]
  },
  {
   "cell_type": "code",
   "execution_count": 101,
   "id": "5eb45ef4-fab5-4dee-b1e6-84041e26e9f3",
   "metadata": {},
   "outputs": [
    {
     "data": {
      "text/plain": [
       "{3, 4, 5}"
      ]
     },
     "execution_count": 101,
     "metadata": {},
     "output_type": "execute_result"
    }
   ],
   "source": [
    "a.intersection(b)"
   ]
  },
  {
   "cell_type": "code",
   "execution_count": 102,
   "id": "2c878391-456d-4bd2-87fa-4e96310b0c54",
   "metadata": {},
   "outputs": [
    {
     "data": {
      "text/plain": [
       "False"
      ]
     },
     "execution_count": 102,
     "metadata": {},
     "output_type": "execute_result"
    }
   ],
   "source": [
    "a.issubset(b)"
   ]
  },
  {
   "cell_type": "code",
   "execution_count": 1,
   "id": "6c258df4-8bf2-4193-b512-b368e43ab2d6",
   "metadata": {},
   "outputs": [],
   "source": [
    "a={\"name\":\"shivam\"}"
   ]
  },
  {
   "cell_type": "code",
   "execution_count": 2,
   "id": "36f01114-c09e-49cc-bbb8-f2a728250738",
   "metadata": {},
   "outputs": [],
   "source": [
    "a[\"name\"]=[\"shivam\",\"rahul\",\"raj\"]"
   ]
  },
  {
   "cell_type": "code",
   "execution_count": 3,
   "id": "c8f200f4-403b-464b-8ac8-fb41b6e8621d",
   "metadata": {},
   "outputs": [],
   "source": [
    "a[\"marks\"]=(99,50,49)"
   ]
  },
  {
   "cell_type": "code",
   "execution_count": 4,
   "id": "b2c0b283-f575-48c0-944b-c1075c56bc83",
   "metadata": {},
   "outputs": [
    {
     "data": {
      "text/plain": [
       "{'name': ['shivam', 'rahul', 'raj'], 'marks': (99, 50, 49)}"
      ]
     },
     "execution_count": 4,
     "metadata": {},
     "output_type": "execute_result"
    }
   ],
   "source": [
    "a"
   ]
  },
  {
   "cell_type": "code",
   "execution_count": 5,
   "id": "b2aad591-e093-4083-92c0-c2d452bee61b",
   "metadata": {},
   "outputs": [],
   "source": [
    "a[\"subject\"]={\"easy\":[\"maths\",\"english\"],\"hard\":[\"chemisty\"]}"
   ]
  },
  {
   "cell_type": "code",
   "execution_count": 6,
   "id": "60af68f8-62e5-4797-8d4a-1636b82b5320",
   "metadata": {},
   "outputs": [],
   "source": [
    "a[\"subject\"][\"easy\"].append(\"physics\")"
   ]
  },
  {
   "cell_type": "code",
   "execution_count": 7,
   "id": "d6761739-e3f3-4e57-a12e-11452b953487",
   "metadata": {},
   "outputs": [
    {
     "data": {
      "text/plain": [
       "{'name': ['shivam', 'rahul', 'raj'],\n",
       " 'marks': (99, 50, 49),\n",
       " 'subject': {'easy': ['maths', 'english', 'physics'], 'hard': ['chemisty']}}"
      ]
     },
     "execution_count": 7,
     "metadata": {},
     "output_type": "execute_result"
    }
   ],
   "source": [
    "a"
   ]
  },
  {
   "cell_type": "code",
   "execution_count": 8,
   "id": "25b46dda-049d-4481-aab7-0861f77414e2",
   "metadata": {},
   "outputs": [
    {
     "data": {
      "text/plain": [
       "'maths'"
      ]
     },
     "execution_count": 8,
     "metadata": {},
     "output_type": "execute_result"
    }
   ],
   "source": [
    "a[\"subject\"][\"easy\"].pop(0)"
   ]
  },
  {
   "cell_type": "code",
   "execution_count": 9,
   "id": "80f9c9dd-c188-4eed-834f-e97ba2d0b022",
   "metadata": {},
   "outputs": [],
   "source": [
    "a['marks']=a[\"marks\"][0:2]+(75,)"
   ]
  },
  {
   "cell_type": "code",
   "execution_count": 10,
   "id": "0353f733-2d6b-4ee9-9102-6a79644519aa",
   "metadata": {},
   "outputs": [
    {
     "data": {
      "text/plain": [
       "{'name': ['shivam', 'rahul', 'raj'],\n",
       " 'marks': (99, 50, 75),\n",
       " 'subject': {'easy': ['english', 'physics'], 'hard': ['chemisty']}}"
      ]
     },
     "execution_count": 10,
     "metadata": {},
     "output_type": "execute_result"
    }
   ],
   "source": [
    "a"
   ]
  },
  {
   "cell_type": "code",
   "execution_count": 11,
   "id": "06dd1c30-1c6d-455a-bdc4-3fcb918e8ca4",
   "metadata": {},
   "outputs": [
    {
     "data": {
      "text/plain": [
       "dict_values([['english', 'physics'], ['chemisty']])"
      ]
     },
     "execution_count": 11,
     "metadata": {},
     "output_type": "execute_result"
    }
   ],
   "source": [
    "a[\"subject\"].values()"
   ]
  },
  {
   "cell_type": "code",
   "execution_count": 12,
   "id": "0eb4bea3-6c14-483d-a45e-8e0c5749b854",
   "metadata": {},
   "outputs": [
    {
     "data": {
      "text/plain": [
       "dict_values([['shivam', 'rahul', 'raj'], (99, 50, 75), {'easy': ['english', 'physics'], 'hard': ['chemisty']}])"
      ]
     },
     "execution_count": 12,
     "metadata": {},
     "output_type": "execute_result"
    }
   ],
   "source": [
    "a.values()"
   ]
  },
  {
   "cell_type": "code",
   "execution_count": 13,
   "id": "0df0e9f6-cf14-43a0-bb37-ae0367b48edb",
   "metadata": {},
   "outputs": [
    {
     "data": {
      "text/plain": [
       "dict_items([('name', ['shivam', 'rahul', 'raj']), ('marks', (99, 50, 75)), ('subject', {'easy': ['english', 'physics'], 'hard': ['chemisty']})])"
      ]
     },
     "execution_count": 13,
     "metadata": {},
     "output_type": "execute_result"
    }
   ],
   "source": [
    "a.items()"
   ]
  },
  {
   "cell_type": "code",
   "execution_count": null,
   "id": "9ff8ef1a-637c-4119-b0fa-28514c00630b",
   "metadata": {},
   "outputs": [],
   "source": []
  },
  {
   "cell_type": "code",
   "execution_count": null,
   "id": "095988ef-6e81-4b2d-89da-5f69db5d1bd3",
   "metadata": {},
   "outputs": [],
   "source": []
  },
  {
   "cell_type": "code",
   "execution_count": null,
   "id": "9517c9de-8071-4461-97fd-55765004c515",
   "metadata": {},
   "outputs": [],
   "source": []
  }
 ],
 "metadata": {
  "kernelspec": {
   "display_name": "Python [conda env:base] *",
   "language": "python",
   "name": "conda-base-py"
  },
  "language_info": {
   "codemirror_mode": {
    "name": "ipython",
    "version": 3
   },
   "file_extension": ".py",
   "mimetype": "text/x-python",
   "name": "python",
   "nbconvert_exporter": "python",
   "pygments_lexer": "ipython3",
   "version": "3.12.7"
  }
 },
 "nbformat": 4,
 "nbformat_minor": 5
}
